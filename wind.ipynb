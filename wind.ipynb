{
  "cells": [
    {
      "cell_type": "markdown",
      "metadata": {
        "id": "view-in-github",
        "colab_type": "text"
      },
      "source": [
        "<a href=\"https://colab.research.google.com/github/Mercymerine/Pandas-Analysis/blob/main/wind.ipynb\" target=\"_parent\"><img src=\"https://colab.research.google.com/assets/colab-badge.svg\" alt=\"Open In Colab\"/></a>"
      ]
    },
    {
      "cell_type": "markdown",
      "metadata": {
        "id": "DH6mtW8QxZ-N"
      },
      "source": [
        "# Wind Statistics"
      ]
    },
    {
      "cell_type": "code",
      "source": [
        "from google.colab import drive\n",
        "drive.mount('/content/drive')"
      ],
      "metadata": {
        "colab": {
          "base_uri": "https://localhost:8080/"
        },
        "id": "GB1ijWf5xrSQ",
        "outputId": "4c045d23-00be-4d39-921e-9326260860f4"
      },
      "execution_count": 2,
      "outputs": [
        {
          "output_type": "stream",
          "name": "stdout",
          "text": [
            "Drive already mounted at /content/drive; to attempt to forcibly remount, call drive.mount(\"/content/drive\", force_remount=True).\n"
          ]
        }
      ]
    },
    {
      "cell_type": "markdown",
      "metadata": {
        "id": "B5K9kUekxZ-P"
      },
      "source": [
        "### Introduction:\n",
        "\n",
        "The data have been modified to contain some missing values, identified by NaN.  \n",
        "Using pandas should make this exercise\n",
        "easier, in particular for the bonus question.\n",
        "\n",
        "You should be able to perform all of these operations without using\n",
        "a for loop or other looping construct.\n",
        "\n",
        "\n",
        "1. The data in 'wind.data' has the following format:"
      ]
    },
    {
      "cell_type": "code",
      "execution_count": null,
      "metadata": {
        "id": "PYrv_6bExZ-Q",
        "outputId": "84550df6-41e5-4c1e-a0c7-53b2e4123bfb"
      },
      "outputs": [
        {
          "data": {
            "text/plain": [
              "'\\nYr Mo Dy   RPT   VAL   ROS   KIL   SHA   BIR   DUB   CLA   MUL   CLO   BEL   MAL\\n61  1  1 15.04 14.96 13.17  9.29   NaN  9.87 13.67 10.25 10.83 12.58 18.50 15.04\\n61  1  2 14.71   NaN 10.83  6.50 12.62  7.67 11.50 10.04  9.79  9.67 17.54 13.83\\n61  1  3 18.50 16.88 12.33 10.13 11.17  6.17 11.25   NaN  8.50  7.67 12.75 12.71\\n'"
            ]
          },
          "execution_count": 434,
          "metadata": {},
          "output_type": "execute_result"
        }
      ],
      "source": [
        "\"\"\"\n",
        "Yr Mo Dy   RPT   VAL   ROS   KIL   SHA   BIR   DUB   CLA   MUL   CLO   BEL   MAL\n",
        "61  1  1 15.04 14.96 13.17  9.29   NaN  9.87 13.67 10.25 10.83 12.58 18.50 15.04\n",
        "61  1  2 14.71   NaN 10.83  6.50 12.62  7.67 11.50 10.04  9.79  9.67 17.54 13.83\n",
        "61  1  3 18.50 16.88 12.33 10.13 11.17  6.17 11.25   NaN  8.50  7.67 12.75 12.71\n",
        "\"\"\""
      ]
    },
    {
      "cell_type": "markdown",
      "metadata": {
        "id": "KO4LE4DWxZ-S"
      },
      "source": [
        "   The first three columns are year, month and day.  The\n",
        "   remaining 12 columns are average windspeeds in knots at 12\n",
        "   locations in Ireland on that day.   \n",
        "\n",
        "   More information about the dataset go [here](wind.desc)."
      ]
    },
    {
      "cell_type": "markdown",
      "metadata": {
        "collapsed": false,
        "id": "9Biw4EOMxZ-S"
      },
      "source": [
        "### Step 1. Import the necessary libraries"
      ]
    },
    {
      "cell_type": "code",
      "execution_count": 43,
      "metadata": {
        "id": "OwRfVYv5xZ-T"
      },
      "outputs": [],
      "source": [
        "import pandas as pd"
      ]
    },
    {
      "cell_type": "markdown",
      "metadata": {
        "id": "RB-APRr9xZ-T"
      },
      "source": [
        "### Step 2. Import the dataset from this [address](https://raw.githubusercontent.com/guipsamora/pandas_exercises/master/06_Stats/Wind_Stats/wind.data)"
      ]
    },
    {
      "cell_type": "markdown",
      "metadata": {
        "id": "A7xPQPzQxZ-T"
      },
      "source": [
        "### Step 3. Assign it to a variable called data and replace the first 3 columns by a proper datetime index."
      ]
    },
    {
      "cell_type": "code",
      "execution_count": 49,
      "metadata": {
        "colab": {
          "base_uri": "https://localhost:8080/",
          "height": 273
        },
        "id": "538rWuVKxZ-T",
        "outputId": "9d9771a9-a4df-46a8-d123-0d9cc39ac455"
      },
      "outputs": [
        {
          "output_type": "execute_result",
          "data": {
            "text/plain": [
              "      Yr    Mo    Dy  Unnamed: 3  Unnamed: 4    RPT  Unnamed: 6  Unnamed: 7  \\\n",
              "6569  78  12.0  27.0       17.58       16.96  17.62         NaN        8.08   \n",
              "6570  78  12.0  28.0       13.21         NaN   5.46       13.46         NaN   \n",
              "6571  78  12.0  29.0       14.00       10.29  14.42         NaN        8.71   \n",
              "6572  78  12.0  30.0       18.50       14.04  21.29         NaN        9.13   \n",
              "6573  78  12.0  31.0       20.33       17.41  27.29         NaN        9.59   \n",
              "\n",
              "        VAL  Unnamed: 9  ...  MUL  Unnamed: 30  Unnamed: 31  CLO  Unnamed: 33  \\\n",
              "6569  13.21       11.67  ...  NaN          NaN          NaN  NaN          NaN   \n",
              "6570   5.00         NaN  ...  NaN          NaN          NaN  NaN          NaN   \n",
              "6571    NaN        9.71  ...  NaN          NaN          NaN  NaN          NaN   \n",
              "6572  12.75         NaN  ...  NaN          NaN          NaN  NaN          NaN   \n",
              "6573  12.08       10.13  ...  NaN          NaN          NaN  NaN          NaN   \n",
              "\n",
              "      Unnamed: 34  BEL  Unnamed: 36  Unnamed: 37  MAL  \n",
              "6569          NaN  NaN          NaN          NaN  NaN  \n",
              "6570          NaN  NaN          NaN          NaN  NaN  \n",
              "6571          NaN  NaN          NaN          NaN  NaN  \n",
              "6572          NaN  NaN          NaN          NaN  NaN  \n",
              "6573          NaN  NaN          NaN          NaN  NaN  \n",
              "\n",
              "[5 rows x 39 columns]"
            ],
            "text/html": [
              "\n",
              "  <div id=\"df-2b118935-9d6e-470c-b057-2c68ce5692f0\" class=\"colab-df-container\">\n",
              "    <div>\n",
              "<style scoped>\n",
              "    .dataframe tbody tr th:only-of-type {\n",
              "        vertical-align: middle;\n",
              "    }\n",
              "\n",
              "    .dataframe tbody tr th {\n",
              "        vertical-align: top;\n",
              "    }\n",
              "\n",
              "    .dataframe thead th {\n",
              "        text-align: right;\n",
              "    }\n",
              "</style>\n",
              "<table border=\"1\" class=\"dataframe\">\n",
              "  <thead>\n",
              "    <tr style=\"text-align: right;\">\n",
              "      <th></th>\n",
              "      <th>Yr</th>\n",
              "      <th>Mo</th>\n",
              "      <th>Dy</th>\n",
              "      <th>Unnamed: 3</th>\n",
              "      <th>Unnamed: 4</th>\n",
              "      <th>RPT</th>\n",
              "      <th>Unnamed: 6</th>\n",
              "      <th>Unnamed: 7</th>\n",
              "      <th>VAL</th>\n",
              "      <th>Unnamed: 9</th>\n",
              "      <th>...</th>\n",
              "      <th>MUL</th>\n",
              "      <th>Unnamed: 30</th>\n",
              "      <th>Unnamed: 31</th>\n",
              "      <th>CLO</th>\n",
              "      <th>Unnamed: 33</th>\n",
              "      <th>Unnamed: 34</th>\n",
              "      <th>BEL</th>\n",
              "      <th>Unnamed: 36</th>\n",
              "      <th>Unnamed: 37</th>\n",
              "      <th>MAL</th>\n",
              "    </tr>\n",
              "  </thead>\n",
              "  <tbody>\n",
              "    <tr>\n",
              "      <th>6569</th>\n",
              "      <td>78</td>\n",
              "      <td>12.0</td>\n",
              "      <td>27.0</td>\n",
              "      <td>17.58</td>\n",
              "      <td>16.96</td>\n",
              "      <td>17.62</td>\n",
              "      <td>NaN</td>\n",
              "      <td>8.08</td>\n",
              "      <td>13.21</td>\n",
              "      <td>11.67</td>\n",
              "      <td>...</td>\n",
              "      <td>NaN</td>\n",
              "      <td>NaN</td>\n",
              "      <td>NaN</td>\n",
              "      <td>NaN</td>\n",
              "      <td>NaN</td>\n",
              "      <td>NaN</td>\n",
              "      <td>NaN</td>\n",
              "      <td>NaN</td>\n",
              "      <td>NaN</td>\n",
              "      <td>NaN</td>\n",
              "    </tr>\n",
              "    <tr>\n",
              "      <th>6570</th>\n",
              "      <td>78</td>\n",
              "      <td>12.0</td>\n",
              "      <td>28.0</td>\n",
              "      <td>13.21</td>\n",
              "      <td>NaN</td>\n",
              "      <td>5.46</td>\n",
              "      <td>13.46</td>\n",
              "      <td>NaN</td>\n",
              "      <td>5.00</td>\n",
              "      <td>NaN</td>\n",
              "      <td>...</td>\n",
              "      <td>NaN</td>\n",
              "      <td>NaN</td>\n",
              "      <td>NaN</td>\n",
              "      <td>NaN</td>\n",
              "      <td>NaN</td>\n",
              "      <td>NaN</td>\n",
              "      <td>NaN</td>\n",
              "      <td>NaN</td>\n",
              "      <td>NaN</td>\n",
              "      <td>NaN</td>\n",
              "    </tr>\n",
              "    <tr>\n",
              "      <th>6571</th>\n",
              "      <td>78</td>\n",
              "      <td>12.0</td>\n",
              "      <td>29.0</td>\n",
              "      <td>14.00</td>\n",
              "      <td>10.29</td>\n",
              "      <td>14.42</td>\n",
              "      <td>NaN</td>\n",
              "      <td>8.71</td>\n",
              "      <td>NaN</td>\n",
              "      <td>9.71</td>\n",
              "      <td>...</td>\n",
              "      <td>NaN</td>\n",
              "      <td>NaN</td>\n",
              "      <td>NaN</td>\n",
              "      <td>NaN</td>\n",
              "      <td>NaN</td>\n",
              "      <td>NaN</td>\n",
              "      <td>NaN</td>\n",
              "      <td>NaN</td>\n",
              "      <td>NaN</td>\n",
              "      <td>NaN</td>\n",
              "    </tr>\n",
              "    <tr>\n",
              "      <th>6572</th>\n",
              "      <td>78</td>\n",
              "      <td>12.0</td>\n",
              "      <td>30.0</td>\n",
              "      <td>18.50</td>\n",
              "      <td>14.04</td>\n",
              "      <td>21.29</td>\n",
              "      <td>NaN</td>\n",
              "      <td>9.13</td>\n",
              "      <td>12.75</td>\n",
              "      <td>NaN</td>\n",
              "      <td>...</td>\n",
              "      <td>NaN</td>\n",
              "      <td>NaN</td>\n",
              "      <td>NaN</td>\n",
              "      <td>NaN</td>\n",
              "      <td>NaN</td>\n",
              "      <td>NaN</td>\n",
              "      <td>NaN</td>\n",
              "      <td>NaN</td>\n",
              "      <td>NaN</td>\n",
              "      <td>NaN</td>\n",
              "    </tr>\n",
              "    <tr>\n",
              "      <th>6573</th>\n",
              "      <td>78</td>\n",
              "      <td>12.0</td>\n",
              "      <td>31.0</td>\n",
              "      <td>20.33</td>\n",
              "      <td>17.41</td>\n",
              "      <td>27.29</td>\n",
              "      <td>NaN</td>\n",
              "      <td>9.59</td>\n",
              "      <td>12.08</td>\n",
              "      <td>10.13</td>\n",
              "      <td>...</td>\n",
              "      <td>NaN</td>\n",
              "      <td>NaN</td>\n",
              "      <td>NaN</td>\n",
              "      <td>NaN</td>\n",
              "      <td>NaN</td>\n",
              "      <td>NaN</td>\n",
              "      <td>NaN</td>\n",
              "      <td>NaN</td>\n",
              "      <td>NaN</td>\n",
              "      <td>NaN</td>\n",
              "    </tr>\n",
              "  </tbody>\n",
              "</table>\n",
              "<p>5 rows × 39 columns</p>\n",
              "</div>\n",
              "    <div class=\"colab-df-buttons\">\n",
              "\n",
              "  <div class=\"colab-df-container\">\n",
              "    <button class=\"colab-df-convert\" onclick=\"convertToInteractive('df-2b118935-9d6e-470c-b057-2c68ce5692f0')\"\n",
              "            title=\"Convert this dataframe to an interactive table.\"\n",
              "            style=\"display:none;\">\n",
              "\n",
              "  <svg xmlns=\"http://www.w3.org/2000/svg\" height=\"24px\" viewBox=\"0 -960 960 960\">\n",
              "    <path d=\"M120-120v-720h720v720H120Zm60-500h600v-160H180v160Zm220 220h160v-160H400v160Zm0 220h160v-160H400v160ZM180-400h160v-160H180v160Zm440 0h160v-160H620v160ZM180-180h160v-160H180v160Zm440 0h160v-160H620v160Z\"/>\n",
              "  </svg>\n",
              "    </button>\n",
              "\n",
              "  <style>\n",
              "    .colab-df-container {\n",
              "      display:flex;\n",
              "      gap: 12px;\n",
              "    }\n",
              "\n",
              "    .colab-df-convert {\n",
              "      background-color: #E8F0FE;\n",
              "      border: none;\n",
              "      border-radius: 50%;\n",
              "      cursor: pointer;\n",
              "      display: none;\n",
              "      fill: #1967D2;\n",
              "      height: 32px;\n",
              "      padding: 0 0 0 0;\n",
              "      width: 32px;\n",
              "    }\n",
              "\n",
              "    .colab-df-convert:hover {\n",
              "      background-color: #E2EBFA;\n",
              "      box-shadow: 0px 1px 2px rgba(60, 64, 67, 0.3), 0px 1px 3px 1px rgba(60, 64, 67, 0.15);\n",
              "      fill: #174EA6;\n",
              "    }\n",
              "\n",
              "    .colab-df-buttons div {\n",
              "      margin-bottom: 4px;\n",
              "    }\n",
              "\n",
              "    [theme=dark] .colab-df-convert {\n",
              "      background-color: #3B4455;\n",
              "      fill: #D2E3FC;\n",
              "    }\n",
              "\n",
              "    [theme=dark] .colab-df-convert:hover {\n",
              "      background-color: #434B5C;\n",
              "      box-shadow: 0px 1px 3px 1px rgba(0, 0, 0, 0.15);\n",
              "      filter: drop-shadow(0px 1px 2px rgba(0, 0, 0, 0.3));\n",
              "      fill: #FFFFFF;\n",
              "    }\n",
              "  </style>\n",
              "\n",
              "    <script>\n",
              "      const buttonEl =\n",
              "        document.querySelector('#df-2b118935-9d6e-470c-b057-2c68ce5692f0 button.colab-df-convert');\n",
              "      buttonEl.style.display =\n",
              "        google.colab.kernel.accessAllowed ? 'block' : 'none';\n",
              "\n",
              "      async function convertToInteractive(key) {\n",
              "        const element = document.querySelector('#df-2b118935-9d6e-470c-b057-2c68ce5692f0');\n",
              "        const dataTable =\n",
              "          await google.colab.kernel.invokeFunction('convertToInteractive',\n",
              "                                                    [key], {});\n",
              "        if (!dataTable) return;\n",
              "\n",
              "        const docLinkHtml = 'Like what you see? Visit the ' +\n",
              "          '<a target=\"_blank\" href=https://colab.research.google.com/notebooks/data_table.ipynb>data table notebook</a>'\n",
              "          + ' to learn more about interactive tables.';\n",
              "        element.innerHTML = '';\n",
              "        dataTable['output_type'] = 'display_data';\n",
              "        await google.colab.output.renderOutput(dataTable, element);\n",
              "        const docLink = document.createElement('div');\n",
              "        docLink.innerHTML = docLinkHtml;\n",
              "        element.appendChild(docLink);\n",
              "      }\n",
              "    </script>\n",
              "  </div>\n",
              "\n",
              "\n",
              "<div id=\"df-4e79e578-4d50-47af-8ed9-0325ce5e7486\">\n",
              "  <button class=\"colab-df-quickchart\" onclick=\"quickchart('df-4e79e578-4d50-47af-8ed9-0325ce5e7486')\"\n",
              "            title=\"Suggest charts\"\n",
              "            style=\"display:none;\">\n",
              "\n",
              "<svg xmlns=\"http://www.w3.org/2000/svg\" height=\"24px\"viewBox=\"0 0 24 24\"\n",
              "     width=\"24px\">\n",
              "    <g>\n",
              "        <path d=\"M19 3H5c-1.1 0-2 .9-2 2v14c0 1.1.9 2 2 2h14c1.1 0 2-.9 2-2V5c0-1.1-.9-2-2-2zM9 17H7v-7h2v7zm4 0h-2V7h2v10zm4 0h-2v-4h2v4z\"/>\n",
              "    </g>\n",
              "</svg>\n",
              "  </button>\n",
              "\n",
              "<style>\n",
              "  .colab-df-quickchart {\n",
              "      --bg-color: #E8F0FE;\n",
              "      --fill-color: #1967D2;\n",
              "      --hover-bg-color: #E2EBFA;\n",
              "      --hover-fill-color: #174EA6;\n",
              "      --disabled-fill-color: #AAA;\n",
              "      --disabled-bg-color: #DDD;\n",
              "  }\n",
              "\n",
              "  [theme=dark] .colab-df-quickchart {\n",
              "      --bg-color: #3B4455;\n",
              "      --fill-color: #D2E3FC;\n",
              "      --hover-bg-color: #434B5C;\n",
              "      --hover-fill-color: #FFFFFF;\n",
              "      --disabled-bg-color: #3B4455;\n",
              "      --disabled-fill-color: #666;\n",
              "  }\n",
              "\n",
              "  .colab-df-quickchart {\n",
              "    background-color: var(--bg-color);\n",
              "    border: none;\n",
              "    border-radius: 50%;\n",
              "    cursor: pointer;\n",
              "    display: none;\n",
              "    fill: var(--fill-color);\n",
              "    height: 32px;\n",
              "    padding: 0;\n",
              "    width: 32px;\n",
              "  }\n",
              "\n",
              "  .colab-df-quickchart:hover {\n",
              "    background-color: var(--hover-bg-color);\n",
              "    box-shadow: 0 1px 2px rgba(60, 64, 67, 0.3), 0 1px 3px 1px rgba(60, 64, 67, 0.15);\n",
              "    fill: var(--button-hover-fill-color);\n",
              "  }\n",
              "\n",
              "  .colab-df-quickchart-complete:disabled,\n",
              "  .colab-df-quickchart-complete:disabled:hover {\n",
              "    background-color: var(--disabled-bg-color);\n",
              "    fill: var(--disabled-fill-color);\n",
              "    box-shadow: none;\n",
              "  }\n",
              "\n",
              "  .colab-df-spinner {\n",
              "    border: 2px solid var(--fill-color);\n",
              "    border-color: transparent;\n",
              "    border-bottom-color: var(--fill-color);\n",
              "    animation:\n",
              "      spin 1s steps(1) infinite;\n",
              "  }\n",
              "\n",
              "  @keyframes spin {\n",
              "    0% {\n",
              "      border-color: transparent;\n",
              "      border-bottom-color: var(--fill-color);\n",
              "      border-left-color: var(--fill-color);\n",
              "    }\n",
              "    20% {\n",
              "      border-color: transparent;\n",
              "      border-left-color: var(--fill-color);\n",
              "      border-top-color: var(--fill-color);\n",
              "    }\n",
              "    30% {\n",
              "      border-color: transparent;\n",
              "      border-left-color: var(--fill-color);\n",
              "      border-top-color: var(--fill-color);\n",
              "      border-right-color: var(--fill-color);\n",
              "    }\n",
              "    40% {\n",
              "      border-color: transparent;\n",
              "      border-right-color: var(--fill-color);\n",
              "      border-top-color: var(--fill-color);\n",
              "    }\n",
              "    60% {\n",
              "      border-color: transparent;\n",
              "      border-right-color: var(--fill-color);\n",
              "    }\n",
              "    80% {\n",
              "      border-color: transparent;\n",
              "      border-right-color: var(--fill-color);\n",
              "      border-bottom-color: var(--fill-color);\n",
              "    }\n",
              "    90% {\n",
              "      border-color: transparent;\n",
              "      border-bottom-color: var(--fill-color);\n",
              "    }\n",
              "  }\n",
              "</style>\n",
              "\n",
              "  <script>\n",
              "    async function quickchart(key) {\n",
              "      const quickchartButtonEl =\n",
              "        document.querySelector('#' + key + ' button');\n",
              "      quickchartButtonEl.disabled = true;  // To prevent multiple clicks.\n",
              "      quickchartButtonEl.classList.add('colab-df-spinner');\n",
              "      try {\n",
              "        const charts = await google.colab.kernel.invokeFunction(\n",
              "            'suggestCharts', [key], {});\n",
              "      } catch (error) {\n",
              "        console.error('Error during call to suggestCharts:', error);\n",
              "      }\n",
              "      quickchartButtonEl.classList.remove('colab-df-spinner');\n",
              "      quickchartButtonEl.classList.add('colab-df-quickchart-complete');\n",
              "    }\n",
              "    (() => {\n",
              "      let quickchartButtonEl =\n",
              "        document.querySelector('#df-4e79e578-4d50-47af-8ed9-0325ce5e7486 button');\n",
              "      quickchartButtonEl.style.display =\n",
              "        google.colab.kernel.accessAllowed ? 'block' : 'none';\n",
              "    })();\n",
              "  </script>\n",
              "</div>\n",
              "\n",
              "    </div>\n",
              "  </div>\n"
            ],
            "application/vnd.google.colaboratory.intrinsic+json": {
              "type": "dataframe"
            }
          },
          "metadata": {},
          "execution_count": 49
        }
      ],
      "source": [
        "data = pd.read_csv('/content/drive/MyDrive/wind_data.data', delimiter=' ')\n",
        "data.tail()"
      ]
    },
    {
      "cell_type": "code",
      "source": [
        "data.shape"
      ],
      "metadata": {
        "colab": {
          "base_uri": "https://localhost:8080/"
        },
        "id": "gRsWJDZ2jZ8G",
        "outputId": "79ee7dd6-0f55-4268-d9e7-2d89ffe254fa"
      },
      "execution_count": 50,
      "outputs": [
        {
          "output_type": "execute_result",
          "data": {
            "text/plain": [
              "(6574, 39)"
            ]
          },
          "metadata": {},
          "execution_count": 50
        }
      ]
    },
    {
      "cell_type": "code",
      "source": [
        "data['Yr'].unique()"
      ],
      "metadata": {
        "colab": {
          "base_uri": "https://localhost:8080/"
        },
        "id": "jx4I57rlj_Sg",
        "outputId": "d34a81ef-877f-4446-b81d-3def01f42192"
      },
      "execution_count": 51,
      "outputs": [
        {
          "output_type": "execute_result",
          "data": {
            "text/plain": [
              "array([61, 62, 63, 64, 65, 66, 67, 68, 69, 70, 71, 72, 73, 74, 75, 76, 77,\n",
              "       78])"
            ]
          },
          "metadata": {},
          "execution_count": 51
        }
      ]
    },
    {
      "cell_type": "markdown",
      "metadata": {
        "id": "qCO8cI38xZ-T"
      },
      "source": [
        "### Step 4. Year 2061? Do we really have data from this year? Create a function to fix it and apply it."
      ]
    },
    {
      "cell_type": "code",
      "source": [
        "def fix_year(year):\n",
        "  return 1900 + year\n",
        "\n",
        "\n",
        "\n",
        "data['Yr'] = data['Yr'].apply(fix_year)\n",
        "print(data['Yr'])"
      ],
      "metadata": {
        "colab": {
          "base_uri": "https://localhost:8080/"
        },
        "id": "dRAjfWQml_aq",
        "outputId": "345609ad-6396-48a7-c3eb-23fd6ed88c34"
      },
      "execution_count": 52,
      "outputs": [
        {
          "output_type": "stream",
          "name": "stdout",
          "text": [
            "0       1961\n",
            "1       1961\n",
            "2       1961\n",
            "3       1961\n",
            "4       1961\n",
            "        ... \n",
            "6569    1978\n",
            "6570    1978\n",
            "6571    1978\n",
            "6572    1978\n",
            "6573    1978\n",
            "Name: Yr, Length: 6574, dtype: int64\n"
          ]
        }
      ]
    },
    {
      "cell_type": "markdown",
      "metadata": {
        "id": "vf9g3Fx7xZ-U"
      },
      "source": [
        "### Step 5. Set the right dates as the index. Pay attention at the data type, it should be datetime64[ns]."
      ]
    },
    {
      "cell_type": "code",
      "source": [
        "#data['Yr'] = pd.to_datetime(data['Yr'], format='%Y')\n",
        "print(data)"
      ],
      "metadata": {
        "colab": {
          "base_uri": "https://localhost:8080/"
        },
        "id": "JqMje-xjrQY5",
        "outputId": "273530e1-d474-4e0b-c8c1-eea4634fbb9e"
      },
      "execution_count": 117,
      "outputs": [
        {
          "output_type": "stream",
          "name": "stdout",
          "text": [
            "              Mo    Dy    RPT    VAL    ROS    KIL    SHA    BIR  DUB  CLA  \\\n",
            "Yr                                                                           \n",
            "1961-01-01   NaN   1.0  15.04    NaN    NaN   9.87  10.83  15.04  NaN  NaN   \n",
            "1961-01-01   NaN   1.0  14.71    NaN   6.50   7.67    NaN   9.67  NaN  NaN   \n",
            "1961-01-01   NaN   1.0  18.50  10.13   6.17    NaN   8.50  12.75  NaN  NaN   \n",
            "1961-01-01   NaN   1.0  10.58  11.75    NaN   2.88    NaN   5.83  NaN  NaN   \n",
            "1961-01-01   NaN   1.0  13.33    NaN    NaN    NaN  10.34    NaN  NaN  NaN   \n",
            "...          ...   ...    ...    ...    ...    ...    ...    ...  ...  ...   \n",
            "1978-01-01  12.0  27.0  17.62  13.21  15.59  17.21    NaN    NaN  NaN  NaN   \n",
            "1978-01-01  12.0  28.0   5.46   5.00    NaN  16.25  21.79    NaN  NaN  NaN   \n",
            "1978-01-01  12.0  29.0  14.42    NaN  19.17  16.42    NaN    NaN  NaN  NaN   \n",
            "1978-01-01  12.0  30.0  21.29  12.75  18.08  12.12    NaN    NaN  NaN  NaN   \n",
            "1978-01-01  12.0  31.0  27.29  12.08  11.63  12.08    NaN    NaN  NaN  NaN   \n",
            "\n",
            "            MUL  CLO  BEL  MAL  \n",
            "Yr                              \n",
            "1961-01-01  NaN  NaN  NaN  NaN  \n",
            "1961-01-01  NaN  NaN  NaN  NaN  \n",
            "1961-01-01  NaN  NaN  NaN  NaN  \n",
            "1961-01-01  NaN  NaN  NaN  NaN  \n",
            "1961-01-01  NaN  NaN  NaN  NaN  \n",
            "...         ...  ...  ...  ...  \n",
            "1978-01-01  NaN  NaN  NaN  NaN  \n",
            "1978-01-01  NaN  NaN  NaN  NaN  \n",
            "1978-01-01  NaN  NaN  NaN  NaN  \n",
            "1978-01-01  NaN  NaN  NaN  NaN  \n",
            "1978-01-01  NaN  NaN  NaN  NaN  \n",
            "\n",
            "[6574 rows x 14 columns]\n"
          ]
        }
      ]
    },
    {
      "cell_type": "code",
      "source": [
        "data.set_index('Yr', inplace=True)"
      ],
      "metadata": {
        "id": "apjQJ8ne_tk3"
      },
      "execution_count": 115,
      "outputs": []
    },
    {
      "cell_type": "code",
      "execution_count": 118,
      "metadata": {
        "colab": {
          "base_uri": "https://localhost:8080/"
        },
        "id": "DUZNyxlUxZ-U",
        "outputId": "5038b757-158f-43a5-d729-c9c05b2d6526"
      },
      "outputs": [
        {
          "output_type": "execute_result",
          "data": {
            "text/plain": [
              "Mo     float64\n",
              "Dy     float64\n",
              "RPT    float64\n",
              "VAL    float64\n",
              "ROS    float64\n",
              "KIL    float64\n",
              "SHA    float64\n",
              "BIR    float64\n",
              "DUB    float64\n",
              "CLA    float64\n",
              "MUL    float64\n",
              "CLO    float64\n",
              "BEL    float64\n",
              "MAL    float64\n",
              "dtype: object"
            ]
          },
          "metadata": {},
          "execution_count": 118
        }
      ],
      "source": [
        "data.dtypes"
      ]
    },
    {
      "cell_type": "markdown",
      "metadata": {
        "id": "LfwTiba2xZ-U"
      },
      "source": [
        "### Step 6. Compute how many values are missing for each location over the entire record.  \n",
        "#### They should be ignored in all calculations below."
      ]
    },
    {
      "cell_type": "code",
      "execution_count": 119,
      "metadata": {
        "colab": {
          "base_uri": "https://localhost:8080/"
        },
        "id": "93AO7mtGxZ-V",
        "outputId": "8cfba2a0-4c2c-45f3-a722-791d800f9e9f"
      },
      "outputs": [
        {
          "output_type": "execute_result",
          "data": {
            "text/plain": [
              "Mo     4918\n",
              "Dy      486\n",
              "RPT    1625\n",
              "VAL    2432\n",
              "ROS    2152\n",
              "KIL    2331\n",
              "SHA    3204\n",
              "BIR    4065\n",
              "DUB    4416\n",
              "CLA    5590\n",
              "MUL    6574\n",
              "CLO    6574\n",
              "BEL    6574\n",
              "MAL    6574\n",
              "dtype: int64"
            ]
          },
          "metadata": {},
          "execution_count": 119
        }
      ],
      "source": [
        "data.isnull().sum()"
      ]
    },
    {
      "cell_type": "markdown",
      "metadata": {
        "id": "OUkNxbeNxZ-V"
      },
      "source": [
        "### Step 7. Compute how many non-missing values there are in total."
      ]
    },
    {
      "cell_type": "code",
      "execution_count": 75,
      "metadata": {
        "scrolled": true,
        "colab": {
          "base_uri": "https://localhost:8080/"
        },
        "id": "S-WZKXSbxZ-V",
        "outputId": "2a406c72-0ffa-423c-d5fc-a6b67c2f9ed2"
      },
      "outputs": [
        {
          "output_type": "execute_result",
          "data": {
            "text/plain": [
              "98579"
            ]
          },
          "metadata": {},
          "execution_count": 75
        }
      ],
      "source": [
        "data.count().sum()"
      ]
    },
    {
      "cell_type": "markdown",
      "metadata": {
        "id": "yX6IX6clxZ-V"
      },
      "source": [
        "### Step 8. Calculate the mean windspeeds of the windspeeds over all the locations and all the times.\n",
        "#### A single number for the entire dataset."
      ]
    },
    {
      "cell_type": "code",
      "execution_count": 121,
      "metadata": {
        "colab": {
          "base_uri": "https://localhost:8080/"
        },
        "id": "s95icYOmxZ-V",
        "outputId": "8e71de4b-ec87-4db9-b691-16b3e04e643c"
      },
      "outputs": [
        {
          "output_type": "stream",
          "name": "stdout",
          "text": [
            "9.749046512199465\n"
          ]
        }
      ],
      "source": [
        "numeric_data = data.drop(['Mo', 'Dy'], axis=1)\n",
        "\n",
        "location_means = numeric_data.mean()\n",
        "#print(location_means)\n",
        "\n",
        "overall_mean = location_means.mean()\n",
        "print(overall_mean)\n",
        "\n"
      ]
    },
    {
      "cell_type": "markdown",
      "metadata": {
        "id": "xD6Ds2eRxZ-W"
      },
      "source": [
        "### Step 9. Create a DataFrame called loc_stats and calculate the min, max and mean windspeeds and standard deviations of the windspeeds at each location over all the days\n",
        "\n",
        "#### A different set of numbers for each location."
      ]
    },
    {
      "cell_type": "code",
      "execution_count": 122,
      "metadata": {
        "colab": {
          "base_uri": "https://localhost:8080/"
        },
        "id": "54YWT2XWxZ-W",
        "outputId": "6f7ef535-059f-4d81-d3c1-bc6497b272c6"
      },
      "outputs": [
        {
          "output_type": "stream",
          "name": "stdout",
          "text": [
            "      count       mean       std   min   25%    50%    75%    max\n",
            "RPT  4949.0  12.415559  5.229848  0.67  8.63  12.04  15.67  35.80\n",
            "VAL  4142.0  10.106519  4.953028  0.33  6.68   9.00  12.95  37.54\n",
            "ROS  4422.0   9.175468  5.175858  0.08  4.67   9.04  12.79  31.08\n",
            "KIL  4243.0  10.897985  6.676379  0.00  6.04   9.92  13.75  42.38\n",
            "SHA  3370.0   9.439496  5.788945  0.25  5.50   8.04  11.46  37.99\n",
            "BIR  2509.0   8.548127  5.315896  0.00  4.71   7.25  11.29  35.50\n",
            "DUB  2158.0   8.168874  4.968116  0.04  4.29   7.17  11.58  34.08\n",
            "CLA   984.0   9.240346  3.623705  0.58  6.57   9.00  11.54  26.25\n",
            "MUL     0.0        NaN       NaN   NaN   NaN    NaN    NaN    NaN\n",
            "CLO     0.0        NaN       NaN   NaN   NaN    NaN    NaN    NaN\n",
            "BEL     0.0        NaN       NaN   NaN   NaN    NaN    NaN    NaN\n",
            "MAL     0.0        NaN       NaN   NaN   NaN    NaN    NaN    NaN\n"
          ]
        }
      ],
      "source": [
        "#numeric_data = data.drop(['Yr', 'Mo', 'Dy'])\n",
        "loc_stats = numeric_data.describe().transpose()\n",
        "print(loc_stats)"
      ]
    },
    {
      "cell_type": "markdown",
      "metadata": {
        "id": "78W0kFqBxZ-W"
      },
      "source": [
        "### Step 10. Create a DataFrame called day_stats and calculate the min, max and mean windspeed and standard deviations of the windspeeds across all the locations at each day.\n",
        "\n",
        "#### A different set of numbers for each day."
      ]
    },
    {
      "cell_type": "code",
      "execution_count": 123,
      "metadata": {
        "colab": {
          "base_uri": "https://localhost:8080/"
        },
        "id": "BQZc-pQjxZ-W",
        "outputId": "198b2ee5-7482-42c2-fd28-a7539d88c725"
      },
      "outputs": [
        {
          "output_type": "stream",
          "name": "stdout",
          "text": [
            "Yr     1961-01-01  1961-01-01  1961-01-01  1961-01-01  1961-01-01  1961-01-01  \\\n",
            "count    4.000000    4.000000    5.000000    4.000000    2.000000    3.000000   \n",
            "mean    12.695000    9.637500   11.210000    7.760000   11.835000    9.016667   \n",
            "std      2.735989    3.626122    4.728314    4.139718    2.114249    3.640128   \n",
            "min      9.870000    6.500000    6.170000    2.880000   10.340000    6.670000   \n",
            "25%     10.590000    7.377500    8.500000    5.092500   11.087500    6.920000   \n",
            "50%     12.935000    8.670000   10.130000    8.205000   11.835000    7.170000   \n",
            "75%     15.040000   10.930000   12.750000   10.872500   12.582500   10.190000   \n",
            "max     15.040000   14.710000   18.500000   11.750000   13.330000   13.210000   \n",
            "\n",
            "Yr     1961-01-01  1961-01-01  1961-01-01  1961-01-01  ...  1978-01-01  \\\n",
            "count    5.000000    4.000000      4.0000    3.000000  ...    3.000000   \n",
            "mean    11.674000   10.645000     10.3625    9.330000  ...    8.626667   \n",
            "std      2.156439    4.407558      2.8342    1.553737  ...    1.189342   \n",
            "min      9.290000    5.910000      7.7900    8.330000  ...    7.580000   \n",
            "25%      9.500000    8.415000      7.9775    8.435000  ...    7.980000   \n",
            "50%     12.290000   10.105000     10.3100    8.540000  ...    8.380000   \n",
            "75%     13.500000   12.335000     12.6950    9.830000  ...    9.150000   \n",
            "max     13.790000   16.460000     13.0400   11.120000  ...    9.920000   \n",
            "\n",
            "Yr     1978-01-01  1978-01-01  1978-01-01  1978-01-01  1978-01-01  1978-01-01  \\\n",
            "count    4.000000    4.000000    3.000000    3.000000     4.00000    4.000000   \n",
            "mean    18.040000   14.970000    5.873333    5.890000    15.90750   12.125000   \n",
            "std      3.288232   11.581307    1.723553    3.904164     2.00054    8.278802   \n",
            "min     14.290000    5.090000    4.580000    3.040000    13.21000    5.000000   \n",
            "25%     16.442500    9.395000    4.895000    3.665000    14.99500    5.345000   \n",
            "50%     17.830000   11.540000    5.210000    4.290000    16.40000   10.855000   \n",
            "75%     19.427500   17.115000    6.520000    7.315000    17.31250   17.635000   \n",
            "max     22.210000   31.710000    7.830000   10.340000    17.62000   21.790000   \n",
            "\n",
            "Yr     1978-01-01  1978-01-01  1978-01-01  \n",
            "count    3.000000     4.00000    4.000000  \n",
            "mean    16.670000    16.06000   15.770000  \n",
            "std      2.384848     4.39367    7.682929  \n",
            "min     14.420000    12.12000   11.630000  \n",
            "25%     15.420000    12.59250   11.967500  \n",
            "50%     16.420000    15.41500   12.080000  \n",
            "75%     17.795000    18.88250   15.882500  \n",
            "max     19.170000    21.29000   27.290000  \n",
            "\n",
            "[8 rows x 6574 columns]\n"
          ]
        }
      ],
      "source": [
        "transposed_df = numeric_data.T\n",
        "#print(transposed_df)\n",
        "day_stats = transposed_df.describe()\n",
        "print(day_stats)"
      ]
    },
    {
      "cell_type": "markdown",
      "metadata": {
        "id": "7zZ2fstRxZ-X"
      },
      "source": [
        "### Step 11. Find the average windspeed in January for each location.  \n",
        "#### Treat January 1961 and January 1962 both as January."
      ]
    },
    {
      "cell_type": "code",
      "execution_count": 124,
      "metadata": {
        "colab": {
          "base_uri": "https://localhost:8080/"
        },
        "id": "cGqzqjVlxZ-X",
        "outputId": "6ec10fff-aeff-42ee-c1c2-954438260c79"
      },
      "outputs": [
        {
          "output_type": "stream",
          "name": "stdout",
          "text": [
            "Mo    NaN\n",
            "Dy    NaN\n",
            "RPT   NaN\n",
            "VAL   NaN\n",
            "ROS   NaN\n",
            "KIL   NaN\n",
            "SHA   NaN\n",
            "BIR   NaN\n",
            "DUB   NaN\n",
            "CLA   NaN\n",
            "MUL   NaN\n",
            "CLO   NaN\n",
            "BEL   NaN\n",
            "MAL   NaN\n",
            "dtype: float64\n"
          ]
        }
      ],
      "source": [
        "january_data = data[data['Mo'] == 1]\n",
        "january_avg_windspeed = january_data.mean()\n",
        "print(january_avg_windspeed)"
      ]
    },
    {
      "cell_type": "markdown",
      "metadata": {
        "id": "3JZevXmsxZ-X"
      },
      "source": [
        "### Step 12. Downsample the record to a yearly frequency for each location."
      ]
    },
    {
      "cell_type": "code",
      "execution_count": 125,
      "metadata": {
        "colab": {
          "base_uri": "https://localhost:8080/"
        },
        "id": "xSaCjDpmxZ-X",
        "outputId": "52b9a956-3dcf-45f4-bc47-4bd2bc8fe834"
      },
      "outputs": [
        {
          "output_type": "stream",
          "name": "stdout",
          "text": [
            "              Mo    Dy    RPT    VAL    ROS    KIL    SHA    BIR  DUB  CLA  \\\n",
            "Yr                                                                           \n",
            "1961-01-01   NaN   1.0  15.04    NaN    NaN   9.87  10.83  15.04  NaN  NaN   \n",
            "1961-01-01   NaN   1.0  14.71    NaN   6.50   7.67    NaN   9.67  NaN  NaN   \n",
            "1961-01-01   NaN   1.0  18.50  10.13   6.17    NaN   8.50  12.75  NaN  NaN   \n",
            "1961-01-01   NaN   1.0  10.58  11.75    NaN   2.88    NaN   5.83  NaN  NaN   \n",
            "1961-01-01   NaN   1.0  13.33    NaN    NaN    NaN  10.34    NaN  NaN  NaN   \n",
            "...          ...   ...    ...    ...    ...    ...    ...    ...  ...  ...   \n",
            "1978-01-01  12.0  27.0  17.62  13.21  15.59  17.21    NaN    NaN  NaN  NaN   \n",
            "1978-01-01  12.0  28.0   5.46   5.00    NaN  16.25  21.79    NaN  NaN  NaN   \n",
            "1978-01-01  12.0  29.0  14.42    NaN  19.17  16.42    NaN    NaN  NaN  NaN   \n",
            "1978-01-01  12.0  30.0  21.29  12.75  18.08  12.12    NaN    NaN  NaN  NaN   \n",
            "1978-01-01  12.0  31.0  27.29  12.08  11.63  12.08    NaN    NaN  NaN  NaN   \n",
            "\n",
            "            MUL  CLO  BEL  MAL  \n",
            "Yr                              \n",
            "1961-01-01  NaN  NaN  NaN  NaN  \n",
            "1961-01-01  NaN  NaN  NaN  NaN  \n",
            "1961-01-01  NaN  NaN  NaN  NaN  \n",
            "1961-01-01  NaN  NaN  NaN  NaN  \n",
            "1961-01-01  NaN  NaN  NaN  NaN  \n",
            "...         ...  ...  ...  ...  \n",
            "1978-01-01  NaN  NaN  NaN  NaN  \n",
            "1978-01-01  NaN  NaN  NaN  NaN  \n",
            "1978-01-01  NaN  NaN  NaN  NaN  \n",
            "1978-01-01  NaN  NaN  NaN  NaN  \n",
            "1978-01-01  NaN  NaN  NaN  NaN  \n",
            "\n",
            "[6574 rows x 14 columns]\n"
          ]
        }
      ],
      "source": [
        "data.head()\n",
        "unnamed_columns = [col for col in data.columns if col.startswith('Unnamed:')]\n",
        "data = data.drop(columns=unnamed_columns)\n",
        "print(data)"
      ]
    },
    {
      "cell_type": "code",
      "source": [
        "data.dtypes"
      ],
      "metadata": {
        "colab": {
          "base_uri": "https://localhost:8080/"
        },
        "id": "99Ku3TEh5phz",
        "outputId": "57518b59-f36b-4724-cc7e-7c44742feb44"
      },
      "execution_count": 114,
      "outputs": [
        {
          "output_type": "execute_result",
          "data": {
            "text/plain": [
              "Yr     datetime64[ns]\n",
              "Mo            float64\n",
              "Dy            float64\n",
              "RPT           float64\n",
              "VAL           float64\n",
              "ROS           float64\n",
              "KIL           float64\n",
              "SHA           float64\n",
              "BIR           float64\n",
              "DUB           float64\n",
              "CLA           float64\n",
              "MUL           float64\n",
              "CLO           float64\n",
              "BEL           float64\n",
              "MAL           float64\n",
              "dtype: object"
            ]
          },
          "metadata": {},
          "execution_count": 114
        }
      ]
    },
    {
      "cell_type": "code",
      "source": [
        "location = data.groupby('Yr')[['RPT', 'VAL', 'ROS', 'KIL', 'SHA', 'BIR', 'DUB', 'CLA', 'MUL', 'CLO','BEL', 'MAL']].resample('Y').mean()\n",
        "\n",
        "#yearly_mean = location.mean()\n",
        "\n",
        "print(location)"
      ],
      "metadata": {
        "colab": {
          "base_uri": "https://localhost:8080/"
        },
        "id": "dWL_IrF223Mq",
        "outputId": "959b6326-adc2-4ed5-98cc-a3d3c9b197ae"
      },
      "execution_count": 126,
      "outputs": [
        {
          "output_type": "stream",
          "name": "stdout",
          "text": [
            "                             RPT        VAL        ROS        KIL        SHA  \\\n",
            "Yr         Yr                                                                  \n",
            "1961-01-01 1961-12-31  12.100951  10.132192   9.264901  11.181845   9.606505   \n",
            "1962-01-01 1962-12-31  12.254252  10.947328  10.080766  11.972839   8.851287   \n",
            "1963-01-01 1963-12-31  12.284257  11.497382  10.224307  12.343640  10.052634   \n",
            "1964-01-01 1964-12-31  12.515821  10.792298   9.655885  11.362324  10.180625   \n",
            "1965-01-01 1965-12-31  12.838421  10.588167   9.784061  11.211250   9.471437   \n",
            "1966-01-01 1966-12-31  13.308486  11.056111  10.250698  12.028599   9.587283   \n",
            "1967-01-01 1967-12-31  12.465679  10.625328   9.838277  11.928375  10.531497   \n",
            "1968-01-01 1968-12-31  12.069077  10.118403   8.841746  10.526360   8.492034   \n",
            "1969-01-01 1969-12-31  11.856318   9.393556   8.554107   9.169289   9.448095   \n",
            "1970-01-01 1970-12-31  12.667941   9.824017   9.236720  10.796793   9.302118   \n",
            "1971-01-01 1971-12-31  11.256406   9.115687   7.551660   9.909643   7.991327   \n",
            "1972-01-01 1972-12-31  12.272491   9.982441   8.442163  10.524727   8.793037   \n",
            "1973-01-01 1973-12-31  12.160952   9.240283   8.228465   9.666380   8.284141   \n",
            "1974-01-01 1974-12-31  13.421531  10.309389   9.612377  11.306510  10.458629   \n",
            "1975-01-01 1975-12-31  12.153358   9.176667   7.621493   9.551272   9.809372   \n",
            "1976-01-01 1976-12-31  12.116484   8.677297   8.101333   9.513084   9.158586   \n",
            "1977-01-01 1977-12-31  12.822464  10.027280  10.071053  11.548353  11.099497   \n",
            "1978-01-01 1978-12-31  12.682393  10.078426   9.210440  10.967395   9.053237   \n",
            "\n",
            "                            BIR       DUB        CLA  MUL  CLO  BEL  MAL  \n",
            "Yr         Yr                                                             \n",
            "1961-01-01 1961-12-31  9.073878  8.608103   8.562400  NaN  NaN  NaN  NaN  \n",
            "1962-01-01 1962-12-31  7.988921  8.165636   7.669231  NaN  NaN  NaN  NaN  \n",
            "1963-01-01 1963-12-31  9.250172  8.076667   7.736744  NaN  NaN  NaN  NaN  \n",
            "1964-01-01 1964-12-31  9.129466  8.518241   9.140741  NaN  NaN  NaN  NaN  \n",
            "1965-01-01 1965-12-31  8.195855  9.399619   9.624000  NaN  NaN  NaN  NaN  \n",
            "1966-01-01 1966-12-31  8.592500  8.193922   8.346944  NaN  NaN  NaN  NaN  \n",
            "1967-01-01 1967-12-31  9.438710  8.621402   9.227045  NaN  NaN  NaN  NaN  \n",
            "1968-01-01 1968-12-31  7.958483  7.346014   9.189710  NaN  NaN  NaN  NaN  \n",
            "1969-01-01 1969-12-31  8.312160  8.596320   8.849839  NaN  NaN  NaN  NaN  \n",
            "1970-01-01 1970-12-31  8.890305  8.041322  10.153171  NaN  NaN  NaN  NaN  \n",
            "1971-01-01 1971-12-31  8.083551  7.265909   9.237945  NaN  NaN  NaN  NaN  \n",
            "1972-01-01 1972-12-31  8.430567  7.167986   9.443519  NaN  NaN  NaN  NaN  \n",
            "1973-01-01 1973-12-31  8.305241  8.371786   9.856667  NaN  NaN  NaN  NaN  \n",
            "1974-01-01 1974-12-31  9.327681  8.475253   9.837037  NaN  NaN  NaN  NaN  \n",
            "1975-01-01 1975-12-31  8.683590  7.963876   9.654923  NaN  NaN  NaN  NaN  \n",
            "1976-01-01 1976-12-31  7.859384  8.453798   8.915246  NaN  NaN  NaN  NaN  \n",
            "1977-01-01 1977-12-31  7.931769  8.141531  10.235357  NaN  NaN  NaN  NaN  \n",
            "1978-01-01 1978-12-31  8.745809  8.390385  10.053455  NaN  NaN  NaN  NaN  \n"
          ]
        }
      ]
    },
    {
      "cell_type": "markdown",
      "metadata": {
        "id": "ErVaq3wSxZ-X"
      },
      "source": [
        "### Step 13. Downsample the record to a monthly frequency for each location."
      ]
    },
    {
      "cell_type": "code",
      "execution_count": 129,
      "metadata": {
        "colab": {
          "base_uri": "https://localhost:8080/",
          "height": 238
        },
        "id": "UTwAbxebxZ-X",
        "outputId": "ab720a96-7790-4ddc-8430-3c9fe53d0d68"
      },
      "outputs": [
        {
          "output_type": "execute_result",
          "data": {
            "text/plain": [
              "            Mo   Dy    RPT    VAL   ROS   KIL    SHA    BIR  DUB  CLA  MUL  \\\n",
              "Yr                                                                           \n",
              "1961-01-01 NaN  1.0  15.04    NaN   NaN  9.87  10.83  15.04  NaN  NaN  NaN   \n",
              "1961-01-01 NaN  1.0  14.71    NaN  6.50  7.67    NaN   9.67  NaN  NaN  NaN   \n",
              "1961-01-01 NaN  1.0  18.50  10.13  6.17   NaN   8.50  12.75  NaN  NaN  NaN   \n",
              "1961-01-01 NaN  1.0  10.58  11.75   NaN  2.88    NaN   5.83  NaN  NaN  NaN   \n",
              "1961-01-01 NaN  1.0  13.33    NaN   NaN   NaN  10.34    NaN  NaN  NaN  NaN   \n",
              "\n",
              "            CLO  BEL  MAL  \n",
              "Yr                         \n",
              "1961-01-01  NaN  NaN  NaN  \n",
              "1961-01-01  NaN  NaN  NaN  \n",
              "1961-01-01  NaN  NaN  NaN  \n",
              "1961-01-01  NaN  NaN  NaN  \n",
              "1961-01-01  NaN  NaN  NaN  "
            ],
            "text/html": [
              "\n",
              "  <div id=\"df-29151196-7d17-44a0-8b96-b9b08573c724\" class=\"colab-df-container\">\n",
              "    <div>\n",
              "<style scoped>\n",
              "    .dataframe tbody tr th:only-of-type {\n",
              "        vertical-align: middle;\n",
              "    }\n",
              "\n",
              "    .dataframe tbody tr th {\n",
              "        vertical-align: top;\n",
              "    }\n",
              "\n",
              "    .dataframe thead th {\n",
              "        text-align: right;\n",
              "    }\n",
              "</style>\n",
              "<table border=\"1\" class=\"dataframe\">\n",
              "  <thead>\n",
              "    <tr style=\"text-align: right;\">\n",
              "      <th></th>\n",
              "      <th>Mo</th>\n",
              "      <th>Dy</th>\n",
              "      <th>RPT</th>\n",
              "      <th>VAL</th>\n",
              "      <th>ROS</th>\n",
              "      <th>KIL</th>\n",
              "      <th>SHA</th>\n",
              "      <th>BIR</th>\n",
              "      <th>DUB</th>\n",
              "      <th>CLA</th>\n",
              "      <th>MUL</th>\n",
              "      <th>CLO</th>\n",
              "      <th>BEL</th>\n",
              "      <th>MAL</th>\n",
              "    </tr>\n",
              "    <tr>\n",
              "      <th>Yr</th>\n",
              "      <th></th>\n",
              "      <th></th>\n",
              "      <th></th>\n",
              "      <th></th>\n",
              "      <th></th>\n",
              "      <th></th>\n",
              "      <th></th>\n",
              "      <th></th>\n",
              "      <th></th>\n",
              "      <th></th>\n",
              "      <th></th>\n",
              "      <th></th>\n",
              "      <th></th>\n",
              "      <th></th>\n",
              "    </tr>\n",
              "  </thead>\n",
              "  <tbody>\n",
              "    <tr>\n",
              "      <th>1961-01-01</th>\n",
              "      <td>NaN</td>\n",
              "      <td>1.0</td>\n",
              "      <td>15.04</td>\n",
              "      <td>NaN</td>\n",
              "      <td>NaN</td>\n",
              "      <td>9.87</td>\n",
              "      <td>10.83</td>\n",
              "      <td>15.04</td>\n",
              "      <td>NaN</td>\n",
              "      <td>NaN</td>\n",
              "      <td>NaN</td>\n",
              "      <td>NaN</td>\n",
              "      <td>NaN</td>\n",
              "      <td>NaN</td>\n",
              "    </tr>\n",
              "    <tr>\n",
              "      <th>1961-01-01</th>\n",
              "      <td>NaN</td>\n",
              "      <td>1.0</td>\n",
              "      <td>14.71</td>\n",
              "      <td>NaN</td>\n",
              "      <td>6.50</td>\n",
              "      <td>7.67</td>\n",
              "      <td>NaN</td>\n",
              "      <td>9.67</td>\n",
              "      <td>NaN</td>\n",
              "      <td>NaN</td>\n",
              "      <td>NaN</td>\n",
              "      <td>NaN</td>\n",
              "      <td>NaN</td>\n",
              "      <td>NaN</td>\n",
              "    </tr>\n",
              "    <tr>\n",
              "      <th>1961-01-01</th>\n",
              "      <td>NaN</td>\n",
              "      <td>1.0</td>\n",
              "      <td>18.50</td>\n",
              "      <td>10.13</td>\n",
              "      <td>6.17</td>\n",
              "      <td>NaN</td>\n",
              "      <td>8.50</td>\n",
              "      <td>12.75</td>\n",
              "      <td>NaN</td>\n",
              "      <td>NaN</td>\n",
              "      <td>NaN</td>\n",
              "      <td>NaN</td>\n",
              "      <td>NaN</td>\n",
              "      <td>NaN</td>\n",
              "    </tr>\n",
              "    <tr>\n",
              "      <th>1961-01-01</th>\n",
              "      <td>NaN</td>\n",
              "      <td>1.0</td>\n",
              "      <td>10.58</td>\n",
              "      <td>11.75</td>\n",
              "      <td>NaN</td>\n",
              "      <td>2.88</td>\n",
              "      <td>NaN</td>\n",
              "      <td>5.83</td>\n",
              "      <td>NaN</td>\n",
              "      <td>NaN</td>\n",
              "      <td>NaN</td>\n",
              "      <td>NaN</td>\n",
              "      <td>NaN</td>\n",
              "      <td>NaN</td>\n",
              "    </tr>\n",
              "    <tr>\n",
              "      <th>1961-01-01</th>\n",
              "      <td>NaN</td>\n",
              "      <td>1.0</td>\n",
              "      <td>13.33</td>\n",
              "      <td>NaN</td>\n",
              "      <td>NaN</td>\n",
              "      <td>NaN</td>\n",
              "      <td>10.34</td>\n",
              "      <td>NaN</td>\n",
              "      <td>NaN</td>\n",
              "      <td>NaN</td>\n",
              "      <td>NaN</td>\n",
              "      <td>NaN</td>\n",
              "      <td>NaN</td>\n",
              "      <td>NaN</td>\n",
              "    </tr>\n",
              "  </tbody>\n",
              "</table>\n",
              "</div>\n",
              "    <div class=\"colab-df-buttons\">\n",
              "\n",
              "  <div class=\"colab-df-container\">\n",
              "    <button class=\"colab-df-convert\" onclick=\"convertToInteractive('df-29151196-7d17-44a0-8b96-b9b08573c724')\"\n",
              "            title=\"Convert this dataframe to an interactive table.\"\n",
              "            style=\"display:none;\">\n",
              "\n",
              "  <svg xmlns=\"http://www.w3.org/2000/svg\" height=\"24px\" viewBox=\"0 -960 960 960\">\n",
              "    <path d=\"M120-120v-720h720v720H120Zm60-500h600v-160H180v160Zm220 220h160v-160H400v160Zm0 220h160v-160H400v160ZM180-400h160v-160H180v160Zm440 0h160v-160H620v160ZM180-180h160v-160H180v160Zm440 0h160v-160H620v160Z\"/>\n",
              "  </svg>\n",
              "    </button>\n",
              "\n",
              "  <style>\n",
              "    .colab-df-container {\n",
              "      display:flex;\n",
              "      gap: 12px;\n",
              "    }\n",
              "\n",
              "    .colab-df-convert {\n",
              "      background-color: #E8F0FE;\n",
              "      border: none;\n",
              "      border-radius: 50%;\n",
              "      cursor: pointer;\n",
              "      display: none;\n",
              "      fill: #1967D2;\n",
              "      height: 32px;\n",
              "      padding: 0 0 0 0;\n",
              "      width: 32px;\n",
              "    }\n",
              "\n",
              "    .colab-df-convert:hover {\n",
              "      background-color: #E2EBFA;\n",
              "      box-shadow: 0px 1px 2px rgba(60, 64, 67, 0.3), 0px 1px 3px 1px rgba(60, 64, 67, 0.15);\n",
              "      fill: #174EA6;\n",
              "    }\n",
              "\n",
              "    .colab-df-buttons div {\n",
              "      margin-bottom: 4px;\n",
              "    }\n",
              "\n",
              "    [theme=dark] .colab-df-convert {\n",
              "      background-color: #3B4455;\n",
              "      fill: #D2E3FC;\n",
              "    }\n",
              "\n",
              "    [theme=dark] .colab-df-convert:hover {\n",
              "      background-color: #434B5C;\n",
              "      box-shadow: 0px 1px 3px 1px rgba(0, 0, 0, 0.15);\n",
              "      filter: drop-shadow(0px 1px 2px rgba(0, 0, 0, 0.3));\n",
              "      fill: #FFFFFF;\n",
              "    }\n",
              "  </style>\n",
              "\n",
              "    <script>\n",
              "      const buttonEl =\n",
              "        document.querySelector('#df-29151196-7d17-44a0-8b96-b9b08573c724 button.colab-df-convert');\n",
              "      buttonEl.style.display =\n",
              "        google.colab.kernel.accessAllowed ? 'block' : 'none';\n",
              "\n",
              "      async function convertToInteractive(key) {\n",
              "        const element = document.querySelector('#df-29151196-7d17-44a0-8b96-b9b08573c724');\n",
              "        const dataTable =\n",
              "          await google.colab.kernel.invokeFunction('convertToInteractive',\n",
              "                                                    [key], {});\n",
              "        if (!dataTable) return;\n",
              "\n",
              "        const docLinkHtml = 'Like what you see? Visit the ' +\n",
              "          '<a target=\"_blank\" href=https://colab.research.google.com/notebooks/data_table.ipynb>data table notebook</a>'\n",
              "          + ' to learn more about interactive tables.';\n",
              "        element.innerHTML = '';\n",
              "        dataTable['output_type'] = 'display_data';\n",
              "        await google.colab.output.renderOutput(dataTable, element);\n",
              "        const docLink = document.createElement('div');\n",
              "        docLink.innerHTML = docLinkHtml;\n",
              "        element.appendChild(docLink);\n",
              "      }\n",
              "    </script>\n",
              "  </div>\n",
              "\n",
              "\n",
              "<div id=\"df-b6fa258b-1fe0-45e5-9cca-07902d1a8cbf\">\n",
              "  <button class=\"colab-df-quickchart\" onclick=\"quickchart('df-b6fa258b-1fe0-45e5-9cca-07902d1a8cbf')\"\n",
              "            title=\"Suggest charts\"\n",
              "            style=\"display:none;\">\n",
              "\n",
              "<svg xmlns=\"http://www.w3.org/2000/svg\" height=\"24px\"viewBox=\"0 0 24 24\"\n",
              "     width=\"24px\">\n",
              "    <g>\n",
              "        <path d=\"M19 3H5c-1.1 0-2 .9-2 2v14c0 1.1.9 2 2 2h14c1.1 0 2-.9 2-2V5c0-1.1-.9-2-2-2zM9 17H7v-7h2v7zm4 0h-2V7h2v10zm4 0h-2v-4h2v4z\"/>\n",
              "    </g>\n",
              "</svg>\n",
              "  </button>\n",
              "\n",
              "<style>\n",
              "  .colab-df-quickchart {\n",
              "      --bg-color: #E8F0FE;\n",
              "      --fill-color: #1967D2;\n",
              "      --hover-bg-color: #E2EBFA;\n",
              "      --hover-fill-color: #174EA6;\n",
              "      --disabled-fill-color: #AAA;\n",
              "      --disabled-bg-color: #DDD;\n",
              "  }\n",
              "\n",
              "  [theme=dark] .colab-df-quickchart {\n",
              "      --bg-color: #3B4455;\n",
              "      --fill-color: #D2E3FC;\n",
              "      --hover-bg-color: #434B5C;\n",
              "      --hover-fill-color: #FFFFFF;\n",
              "      --disabled-bg-color: #3B4455;\n",
              "      --disabled-fill-color: #666;\n",
              "  }\n",
              "\n",
              "  .colab-df-quickchart {\n",
              "    background-color: var(--bg-color);\n",
              "    border: none;\n",
              "    border-radius: 50%;\n",
              "    cursor: pointer;\n",
              "    display: none;\n",
              "    fill: var(--fill-color);\n",
              "    height: 32px;\n",
              "    padding: 0;\n",
              "    width: 32px;\n",
              "  }\n",
              "\n",
              "  .colab-df-quickchart:hover {\n",
              "    background-color: var(--hover-bg-color);\n",
              "    box-shadow: 0 1px 2px rgba(60, 64, 67, 0.3), 0 1px 3px 1px rgba(60, 64, 67, 0.15);\n",
              "    fill: var(--button-hover-fill-color);\n",
              "  }\n",
              "\n",
              "  .colab-df-quickchart-complete:disabled,\n",
              "  .colab-df-quickchart-complete:disabled:hover {\n",
              "    background-color: var(--disabled-bg-color);\n",
              "    fill: var(--disabled-fill-color);\n",
              "    box-shadow: none;\n",
              "  }\n",
              "\n",
              "  .colab-df-spinner {\n",
              "    border: 2px solid var(--fill-color);\n",
              "    border-color: transparent;\n",
              "    border-bottom-color: var(--fill-color);\n",
              "    animation:\n",
              "      spin 1s steps(1) infinite;\n",
              "  }\n",
              "\n",
              "  @keyframes spin {\n",
              "    0% {\n",
              "      border-color: transparent;\n",
              "      border-bottom-color: var(--fill-color);\n",
              "      border-left-color: var(--fill-color);\n",
              "    }\n",
              "    20% {\n",
              "      border-color: transparent;\n",
              "      border-left-color: var(--fill-color);\n",
              "      border-top-color: var(--fill-color);\n",
              "    }\n",
              "    30% {\n",
              "      border-color: transparent;\n",
              "      border-left-color: var(--fill-color);\n",
              "      border-top-color: var(--fill-color);\n",
              "      border-right-color: var(--fill-color);\n",
              "    }\n",
              "    40% {\n",
              "      border-color: transparent;\n",
              "      border-right-color: var(--fill-color);\n",
              "      border-top-color: var(--fill-color);\n",
              "    }\n",
              "    60% {\n",
              "      border-color: transparent;\n",
              "      border-right-color: var(--fill-color);\n",
              "    }\n",
              "    80% {\n",
              "      border-color: transparent;\n",
              "      border-right-color: var(--fill-color);\n",
              "      border-bottom-color: var(--fill-color);\n",
              "    }\n",
              "    90% {\n",
              "      border-color: transparent;\n",
              "      border-bottom-color: var(--fill-color);\n",
              "    }\n",
              "  }\n",
              "</style>\n",
              "\n",
              "  <script>\n",
              "    async function quickchart(key) {\n",
              "      const quickchartButtonEl =\n",
              "        document.querySelector('#' + key + ' button');\n",
              "      quickchartButtonEl.disabled = true;  // To prevent multiple clicks.\n",
              "      quickchartButtonEl.classList.add('colab-df-spinner');\n",
              "      try {\n",
              "        const charts = await google.colab.kernel.invokeFunction(\n",
              "            'suggestCharts', [key], {});\n",
              "      } catch (error) {\n",
              "        console.error('Error during call to suggestCharts:', error);\n",
              "      }\n",
              "      quickchartButtonEl.classList.remove('colab-df-spinner');\n",
              "      quickchartButtonEl.classList.add('colab-df-quickchart-complete');\n",
              "    }\n",
              "    (() => {\n",
              "      let quickchartButtonEl =\n",
              "        document.querySelector('#df-b6fa258b-1fe0-45e5-9cca-07902d1a8cbf button');\n",
              "      quickchartButtonEl.style.display =\n",
              "        google.colab.kernel.accessAllowed ? 'block' : 'none';\n",
              "    })();\n",
              "  </script>\n",
              "</div>\n",
              "\n",
              "    </div>\n",
              "  </div>\n"
            ],
            "application/vnd.google.colaboratory.intrinsic+json": {
              "type": "dataframe",
              "variable_name": "data",
              "summary": "{\n  \"name\": \"data\",\n  \"rows\": 6574,\n  \"fields\": [\n    {\n      \"column\": \"Yr\",\n      \"properties\": {\n        \"dtype\": \"date\",\n        \"min\": \"1961-01-01 00:00:00\",\n        \"max\": \"1978-01-01 00:00:00\",\n        \"num_unique_values\": 18,\n        \"samples\": [\n          \"1961-01-01 00:00:00\",\n          \"1962-01-01 00:00:00\",\n          \"1969-01-01 00:00:00\"\n        ],\n        \"semantic_type\": \"\",\n        \"description\": \"\"\n      }\n    },\n    {\n      \"column\": \"Mo\",\n      \"properties\": {\n        \"dtype\": \"number\",\n        \"std\": 0.8211700443220289,\n        \"min\": 10.0,\n        \"max\": 12.0,\n        \"num_unique_values\": 3,\n        \"samples\": [\n          10.0,\n          11.0,\n          12.0\n        ],\n        \"semantic_type\": \"\",\n        \"description\": \"\"\n      }\n    },\n    {\n      \"column\": \"Dy\",\n      \"properties\": {\n        \"dtype\": \"number\",\n        \"std\": 7.025155330658224,\n        \"min\": 1.0,\n        \"max\": 31.0,\n        \"num_unique_values\": 31,\n        \"samples\": [\n          28.0,\n          16.0,\n          24.0\n        ],\n        \"semantic_type\": \"\",\n        \"description\": \"\"\n      }\n    },\n    {\n      \"column\": \"RPT\",\n      \"properties\": {\n        \"dtype\": \"number\",\n        \"std\": 5.229847798859123,\n        \"min\": 0.67,\n        \"max\": 35.8,\n        \"num_unique_values\": 612,\n        \"samples\": [\n          14.04,\n          21.42,\n          15.29\n        ],\n        \"semantic_type\": \"\",\n        \"description\": \"\"\n      }\n    },\n    {\n      \"column\": \"VAL\",\n      \"properties\": {\n        \"dtype\": \"number\",\n        \"std\": 4.953028374075272,\n        \"min\": 0.33,\n        \"max\": 37.54,\n        \"num_unique_values\": 564,\n        \"samples\": [\n          21.79,\n          0.87,\n          13.13\n        ],\n        \"semantic_type\": \"\",\n        \"description\": \"\"\n      }\n    },\n    {\n      \"column\": \"ROS\",\n      \"properties\": {\n        \"dtype\": \"number\",\n        \"std\": 5.175858423798736,\n        \"min\": 0.08,\n        \"max\": 31.08,\n        \"num_unique_values\": 533,\n        \"samples\": [\n          2.96,\n          0.79,\n          6.71\n        ],\n        \"semantic_type\": \"\",\n        \"description\": \"\"\n      }\n    },\n    {\n      \"column\": \"KIL\",\n      \"properties\": {\n        \"dtype\": \"number\",\n        \"std\": 6.676378654304423,\n        \"min\": 0.0,\n        \"max\": 42.38,\n        \"num_unique_values\": 702,\n        \"samples\": [\n          32.05,\n          14.5,\n          6.79\n        ],\n        \"semantic_type\": \"\",\n        \"description\": \"\"\n      }\n    },\n    {\n      \"column\": \"SHA\",\n      \"properties\": {\n        \"dtype\": \"number\",\n        \"std\": 5.788945077648538,\n        \"min\": 0.25,\n        \"max\": 37.99,\n        \"num_unique_values\": 593,\n        \"samples\": [\n          18.41,\n          5.41,\n          15.04\n        ],\n        \"semantic_type\": \"\",\n        \"description\": \"\"\n      }\n    },\n    {\n      \"column\": \"BIR\",\n      \"properties\": {\n        \"dtype\": \"number\",\n        \"std\": 5.31589611574899,\n        \"min\": 0.0,\n        \"max\": 35.5,\n        \"num_unique_values\": 526,\n        \"samples\": [\n          16.04,\n          19.08,\n          13.04\n        ],\n        \"semantic_type\": \"\",\n        \"description\": \"\"\n      }\n    },\n    {\n      \"column\": \"DUB\",\n      \"properties\": {\n        \"dtype\": \"number\",\n        \"std\": 4.968116180112834,\n        \"min\": 0.04,\n        \"max\": 34.08,\n        \"num_unique_values\": 473,\n        \"samples\": [\n          17.41,\n          7.96,\n          12.42\n        ],\n        \"semantic_type\": \"\",\n        \"description\": \"\"\n      }\n    },\n    {\n      \"column\": \"CLA\",\n      \"properties\": {\n        \"dtype\": \"number\",\n        \"std\": 3.62370488774251,\n        \"min\": 0.58,\n        \"max\": 26.25,\n        \"num_unique_values\": 334,\n        \"samples\": [\n          9.25,\n          3.83,\n          19.46\n        ],\n        \"semantic_type\": \"\",\n        \"description\": \"\"\n      }\n    },\n    {\n      \"column\": \"MUL\",\n      \"properties\": {\n        \"dtype\": \"number\",\n        \"std\": null,\n        \"min\": null,\n        \"max\": null,\n        \"num_unique_values\": 0,\n        \"samples\": [],\n        \"semantic_type\": \"\",\n        \"description\": \"\"\n      }\n    },\n    {\n      \"column\": \"CLO\",\n      \"properties\": {\n        \"dtype\": \"number\",\n        \"std\": null,\n        \"min\": null,\n        \"max\": null,\n        \"num_unique_values\": 0,\n        \"samples\": [],\n        \"semantic_type\": \"\",\n        \"description\": \"\"\n      }\n    },\n    {\n      \"column\": \"BEL\",\n      \"properties\": {\n        \"dtype\": \"number\",\n        \"std\": null,\n        \"min\": null,\n        \"max\": null,\n        \"num_unique_values\": 0,\n        \"samples\": [],\n        \"semantic_type\": \"\",\n        \"description\": \"\"\n      }\n    },\n    {\n      \"column\": \"MAL\",\n      \"properties\": {\n        \"dtype\": \"number\",\n        \"std\": null,\n        \"min\": null,\n        \"max\": null,\n        \"num_unique_values\": 0,\n        \"samples\": [],\n        \"semantic_type\": \"\",\n        \"description\": \"\"\n      }\n    }\n  ]\n}"
            }
          },
          "metadata": {},
          "execution_count": 129
        }
      ],
      "source": [
        "data.head()"
      ]
    },
    {
      "cell_type": "code",
      "source": [
        "monthly_data = data.resample('M').mean()\n",
        "print(monthly_data)"
      ],
      "metadata": {
        "colab": {
          "base_uri": "https://localhost:8080/"
        },
        "id": "lE1B4pmmCi4H",
        "outputId": "74a25d59-e79d-4c88-d608-79d3320b267c"
      },
      "execution_count": 131,
      "outputs": [
        {
          "output_type": "stream",
          "name": "stdout",
          "text": [
            "              Mo        Dy        RPT        VAL       ROS        KIL  \\\n",
            "Yr                                                                      \n",
            "1961-01-31  11.0  7.964497  12.100951  10.132192  9.264901  11.181845   \n",
            "1961-02-28   NaN       NaN        NaN        NaN       NaN        NaN   \n",
            "1961-03-31   NaN       NaN        NaN        NaN       NaN        NaN   \n",
            "1961-04-30   NaN       NaN        NaN        NaN       NaN        NaN   \n",
            "1961-05-31   NaN       NaN        NaN        NaN       NaN        NaN   \n",
            "...          ...       ...        ...        ...       ...        ...   \n",
            "1977-09-30   NaN       NaN        NaN        NaN       NaN        NaN   \n",
            "1977-10-31   NaN       NaN        NaN        NaN       NaN        NaN   \n",
            "1977-11-30   NaN       NaN        NaN        NaN       NaN        NaN   \n",
            "1977-12-31   NaN       NaN        NaN        NaN       NaN        NaN   \n",
            "1978-01-31  11.0  7.964497  12.682393  10.078426  9.210440  10.967395   \n",
            "\n",
            "                 SHA       BIR       DUB        CLA  MUL  CLO  BEL  MAL  \n",
            "Yr                                                                       \n",
            "1961-01-31  9.606505  9.073878  8.608103   8.562400  NaN  NaN  NaN  NaN  \n",
            "1961-02-28       NaN       NaN       NaN        NaN  NaN  NaN  NaN  NaN  \n",
            "1961-03-31       NaN       NaN       NaN        NaN  NaN  NaN  NaN  NaN  \n",
            "1961-04-30       NaN       NaN       NaN        NaN  NaN  NaN  NaN  NaN  \n",
            "1961-05-31       NaN       NaN       NaN        NaN  NaN  NaN  NaN  NaN  \n",
            "...              ...       ...       ...        ...  ...  ...  ...  ...  \n",
            "1977-09-30       NaN       NaN       NaN        NaN  NaN  NaN  NaN  NaN  \n",
            "1977-10-31       NaN       NaN       NaN        NaN  NaN  NaN  NaN  NaN  \n",
            "1977-11-30       NaN       NaN       NaN        NaN  NaN  NaN  NaN  NaN  \n",
            "1977-12-31       NaN       NaN       NaN        NaN  NaN  NaN  NaN  NaN  \n",
            "1978-01-31  9.053237  8.745809  8.390385  10.053455  NaN  NaN  NaN  NaN  \n",
            "\n",
            "[205 rows x 14 columns]\n"
          ]
        }
      ]
    },
    {
      "cell_type": "markdown",
      "metadata": {
        "id": "BWNuI9t-xZ-Y"
      },
      "source": [
        "### Step 14. Downsample the record to a weekly frequency for each location."
      ]
    },
    {
      "cell_type": "code",
      "execution_count": 132,
      "metadata": {
        "colab": {
          "base_uri": "https://localhost:8080/"
        },
        "id": "dIayepnnxZ-Y",
        "outputId": "7a5bf2a4-e039-44c7-feab-8077da1fd081"
      },
      "outputs": [
        {
          "output_type": "stream",
          "name": "stdout",
          "text": [
            "              Mo        Dy        RPT        VAL       ROS        KIL  \\\n",
            "Yr                                                                      \n",
            "1961-01-01  11.0  7.964497  12.100951  10.132192  9.264901  11.181845   \n",
            "1961-01-08   NaN       NaN        NaN        NaN       NaN        NaN   \n",
            "1961-01-15   NaN       NaN        NaN        NaN       NaN        NaN   \n",
            "1961-01-22   NaN       NaN        NaN        NaN       NaN        NaN   \n",
            "1961-01-29   NaN       NaN        NaN        NaN       NaN        NaN   \n",
            "...          ...       ...        ...        ...       ...        ...   \n",
            "1977-12-04   NaN       NaN        NaN        NaN       NaN        NaN   \n",
            "1977-12-11   NaN       NaN        NaN        NaN       NaN        NaN   \n",
            "1977-12-18   NaN       NaN        NaN        NaN       NaN        NaN   \n",
            "1977-12-25   NaN       NaN        NaN        NaN       NaN        NaN   \n",
            "1978-01-01  11.0  7.964497  12.682393  10.078426  9.210440  10.967395   \n",
            "\n",
            "                 SHA       BIR       DUB        CLA  MUL  CLO  BEL  MAL  \n",
            "Yr                                                                       \n",
            "1961-01-01  9.606505  9.073878  8.608103   8.562400  NaN  NaN  NaN  NaN  \n",
            "1961-01-08       NaN       NaN       NaN        NaN  NaN  NaN  NaN  NaN  \n",
            "1961-01-15       NaN       NaN       NaN        NaN  NaN  NaN  NaN  NaN  \n",
            "1961-01-22       NaN       NaN       NaN        NaN  NaN  NaN  NaN  NaN  \n",
            "1961-01-29       NaN       NaN       NaN        NaN  NaN  NaN  NaN  NaN  \n",
            "...              ...       ...       ...        ...  ...  ...  ...  ...  \n",
            "1977-12-04       NaN       NaN       NaN        NaN  NaN  NaN  NaN  NaN  \n",
            "1977-12-11       NaN       NaN       NaN        NaN  NaN  NaN  NaN  NaN  \n",
            "1977-12-18       NaN       NaN       NaN        NaN  NaN  NaN  NaN  NaN  \n",
            "1977-12-25       NaN       NaN       NaN        NaN  NaN  NaN  NaN  NaN  \n",
            "1978-01-01  9.053237  8.745809  8.390385  10.053455  NaN  NaN  NaN  NaN  \n",
            "\n",
            "[888 rows x 14 columns]\n"
          ]
        }
      ],
      "source": [
        "weekly_data = data.resample('W').mean()\n",
        "print(weekly_data)"
      ]
    },
    {
      "cell_type": "markdown",
      "metadata": {
        "id": "Qb4SD8UjxZ-Y"
      },
      "source": [
        "### Step 15. Calculate the min, max and mean windspeeds and standard deviations of the windspeeds across all locations for each week (assume that the first week starts on January 2 1961) for the first 52 weeks."
      ]
    },
    {
      "cell_type": "code",
      "execution_count": 137,
      "metadata": {
        "colab": {
          "base_uri": "https://localhost:8080/"
        },
        "id": "de2ABYvOxZ-Y",
        "outputId": "a9e3424b-fd3f-434c-fb10-e83fc2bbef4c"
      },
      "outputs": [
        {
          "output_type": "stream",
          "name": "stdout",
          "text": [
            "              Mo                        Dy                             RPT  \\\n",
            "             min   max  mean      std  min   max      mean       std   min   \n",
            "Yr                                                                           \n",
            "1961-01-01  10.0  12.0  11.0  0.82542  1.0  31.0  7.964497  7.035639  3.04   \n",
            "1961-01-08   NaN   NaN   NaN      NaN  NaN   NaN       NaN       NaN   NaN   \n",
            "1961-01-15   NaN   NaN   NaN      NaN  NaN   NaN       NaN       NaN   NaN   \n",
            "1961-01-22   NaN   NaN   NaN      NaN  NaN   NaN       NaN       NaN   NaN   \n",
            "1961-01-29   NaN   NaN   NaN      NaN  NaN   NaN       NaN       NaN   NaN   \n",
            "1961-02-05   NaN   NaN   NaN      NaN  NaN   NaN       NaN       NaN   NaN   \n",
            "1961-02-12   NaN   NaN   NaN      NaN  NaN   NaN       NaN       NaN   NaN   \n",
            "1961-02-19   NaN   NaN   NaN      NaN  NaN   NaN       NaN       NaN   NaN   \n",
            "1961-02-26   NaN   NaN   NaN      NaN  NaN   NaN       NaN       NaN   NaN   \n",
            "1961-03-05   NaN   NaN   NaN      NaN  NaN   NaN       NaN       NaN   NaN   \n",
            "1961-03-12   NaN   NaN   NaN      NaN  NaN   NaN       NaN       NaN   NaN   \n",
            "1961-03-19   NaN   NaN   NaN      NaN  NaN   NaN       NaN       NaN   NaN   \n",
            "1961-03-26   NaN   NaN   NaN      NaN  NaN   NaN       NaN       NaN   NaN   \n",
            "1961-04-02   NaN   NaN   NaN      NaN  NaN   NaN       NaN       NaN   NaN   \n",
            "1961-04-09   NaN   NaN   NaN      NaN  NaN   NaN       NaN       NaN   NaN   \n",
            "1961-04-16   NaN   NaN   NaN      NaN  NaN   NaN       NaN       NaN   NaN   \n",
            "1961-04-23   NaN   NaN   NaN      NaN  NaN   NaN       NaN       NaN   NaN   \n",
            "1961-04-30   NaN   NaN   NaN      NaN  NaN   NaN       NaN       NaN   NaN   \n",
            "1961-05-07   NaN   NaN   NaN      NaN  NaN   NaN       NaN       NaN   NaN   \n",
            "1961-05-14   NaN   NaN   NaN      NaN  NaN   NaN       NaN       NaN   NaN   \n",
            "1961-05-21   NaN   NaN   NaN      NaN  NaN   NaN       NaN       NaN   NaN   \n",
            "1961-05-28   NaN   NaN   NaN      NaN  NaN   NaN       NaN       NaN   NaN   \n",
            "1961-06-04   NaN   NaN   NaN      NaN  NaN   NaN       NaN       NaN   NaN   \n",
            "1961-06-11   NaN   NaN   NaN      NaN  NaN   NaN       NaN       NaN   NaN   \n",
            "1961-06-18   NaN   NaN   NaN      NaN  NaN   NaN       NaN       NaN   NaN   \n",
            "1961-06-25   NaN   NaN   NaN      NaN  NaN   NaN       NaN       NaN   NaN   \n",
            "1961-07-02   NaN   NaN   NaN      NaN  NaN   NaN       NaN       NaN   NaN   \n",
            "1961-07-09   NaN   NaN   NaN      NaN  NaN   NaN       NaN       NaN   NaN   \n",
            "1961-07-16   NaN   NaN   NaN      NaN  NaN   NaN       NaN       NaN   NaN   \n",
            "1961-07-23   NaN   NaN   NaN      NaN  NaN   NaN       NaN       NaN   NaN   \n",
            "1961-07-30   NaN   NaN   NaN      NaN  NaN   NaN       NaN       NaN   NaN   \n",
            "1961-08-06   NaN   NaN   NaN      NaN  NaN   NaN       NaN       NaN   NaN   \n",
            "1961-08-13   NaN   NaN   NaN      NaN  NaN   NaN       NaN       NaN   NaN   \n",
            "1961-08-20   NaN   NaN   NaN      NaN  NaN   NaN       NaN       NaN   NaN   \n",
            "1961-08-27   NaN   NaN   NaN      NaN  NaN   NaN       NaN       NaN   NaN   \n",
            "1961-09-03   NaN   NaN   NaN      NaN  NaN   NaN       NaN       NaN   NaN   \n",
            "1961-09-10   NaN   NaN   NaN      NaN  NaN   NaN       NaN       NaN   NaN   \n",
            "1961-09-17   NaN   NaN   NaN      NaN  NaN   NaN       NaN       NaN   NaN   \n",
            "1961-09-24   NaN   NaN   NaN      NaN  NaN   NaN       NaN       NaN   NaN   \n",
            "1961-10-01   NaN   NaN   NaN      NaN  NaN   NaN       NaN       NaN   NaN   \n",
            "1961-10-08   NaN   NaN   NaN      NaN  NaN   NaN       NaN       NaN   NaN   \n",
            "1961-10-15   NaN   NaN   NaN      NaN  NaN   NaN       NaN       NaN   NaN   \n",
            "1961-10-22   NaN   NaN   NaN      NaN  NaN   NaN       NaN       NaN   NaN   \n",
            "1961-10-29   NaN   NaN   NaN      NaN  NaN   NaN       NaN       NaN   NaN   \n",
            "1961-11-05   NaN   NaN   NaN      NaN  NaN   NaN       NaN       NaN   NaN   \n",
            "1961-11-12   NaN   NaN   NaN      NaN  NaN   NaN       NaN       NaN   NaN   \n",
            "1961-11-19   NaN   NaN   NaN      NaN  NaN   NaN       NaN       NaN   NaN   \n",
            "1961-11-26   NaN   NaN   NaN      NaN  NaN   NaN       NaN       NaN   NaN   \n",
            "1961-12-03   NaN   NaN   NaN      NaN  NaN   NaN       NaN       NaN   NaN   \n",
            "1961-12-10   NaN   NaN   NaN      NaN  NaN   NaN       NaN       NaN   NaN   \n",
            "1961-12-17   NaN   NaN   NaN      NaN  NaN   NaN       NaN       NaN   NaN   \n",
            "1961-12-24   NaN   NaN   NaN      NaN  NaN   NaN       NaN       NaN   NaN   \n",
            "\n",
            "                   ...  CLO     BEL              MAL               \n",
            "              max  ... mean std min max mean std min max mean std  \n",
            "Yr                 ...                                             \n",
            "1961-01-01  32.71  ...  NaN NaN NaN NaN  NaN NaN NaN NaN  NaN NaN  \n",
            "1961-01-08    NaN  ...  NaN NaN NaN NaN  NaN NaN NaN NaN  NaN NaN  \n",
            "1961-01-15    NaN  ...  NaN NaN NaN NaN  NaN NaN NaN NaN  NaN NaN  \n",
            "1961-01-22    NaN  ...  NaN NaN NaN NaN  NaN NaN NaN NaN  NaN NaN  \n",
            "1961-01-29    NaN  ...  NaN NaN NaN NaN  NaN NaN NaN NaN  NaN NaN  \n",
            "1961-02-05    NaN  ...  NaN NaN NaN NaN  NaN NaN NaN NaN  NaN NaN  \n",
            "1961-02-12    NaN  ...  NaN NaN NaN NaN  NaN NaN NaN NaN  NaN NaN  \n",
            "1961-02-19    NaN  ...  NaN NaN NaN NaN  NaN NaN NaN NaN  NaN NaN  \n",
            "1961-02-26    NaN  ...  NaN NaN NaN NaN  NaN NaN NaN NaN  NaN NaN  \n",
            "1961-03-05    NaN  ...  NaN NaN NaN NaN  NaN NaN NaN NaN  NaN NaN  \n",
            "1961-03-12    NaN  ...  NaN NaN NaN NaN  NaN NaN NaN NaN  NaN NaN  \n",
            "1961-03-19    NaN  ...  NaN NaN NaN NaN  NaN NaN NaN NaN  NaN NaN  \n",
            "1961-03-26    NaN  ...  NaN NaN NaN NaN  NaN NaN NaN NaN  NaN NaN  \n",
            "1961-04-02    NaN  ...  NaN NaN NaN NaN  NaN NaN NaN NaN  NaN NaN  \n",
            "1961-04-09    NaN  ...  NaN NaN NaN NaN  NaN NaN NaN NaN  NaN NaN  \n",
            "1961-04-16    NaN  ...  NaN NaN NaN NaN  NaN NaN NaN NaN  NaN NaN  \n",
            "1961-04-23    NaN  ...  NaN NaN NaN NaN  NaN NaN NaN NaN  NaN NaN  \n",
            "1961-04-30    NaN  ...  NaN NaN NaN NaN  NaN NaN NaN NaN  NaN NaN  \n",
            "1961-05-07    NaN  ...  NaN NaN NaN NaN  NaN NaN NaN NaN  NaN NaN  \n",
            "1961-05-14    NaN  ...  NaN NaN NaN NaN  NaN NaN NaN NaN  NaN NaN  \n",
            "1961-05-21    NaN  ...  NaN NaN NaN NaN  NaN NaN NaN NaN  NaN NaN  \n",
            "1961-05-28    NaN  ...  NaN NaN NaN NaN  NaN NaN NaN NaN  NaN NaN  \n",
            "1961-06-04    NaN  ...  NaN NaN NaN NaN  NaN NaN NaN NaN  NaN NaN  \n",
            "1961-06-11    NaN  ...  NaN NaN NaN NaN  NaN NaN NaN NaN  NaN NaN  \n",
            "1961-06-18    NaN  ...  NaN NaN NaN NaN  NaN NaN NaN NaN  NaN NaN  \n",
            "1961-06-25    NaN  ...  NaN NaN NaN NaN  NaN NaN NaN NaN  NaN NaN  \n",
            "1961-07-02    NaN  ...  NaN NaN NaN NaN  NaN NaN NaN NaN  NaN NaN  \n",
            "1961-07-09    NaN  ...  NaN NaN NaN NaN  NaN NaN NaN NaN  NaN NaN  \n",
            "1961-07-16    NaN  ...  NaN NaN NaN NaN  NaN NaN NaN NaN  NaN NaN  \n",
            "1961-07-23    NaN  ...  NaN NaN NaN NaN  NaN NaN NaN NaN  NaN NaN  \n",
            "1961-07-30    NaN  ...  NaN NaN NaN NaN  NaN NaN NaN NaN  NaN NaN  \n",
            "1961-08-06    NaN  ...  NaN NaN NaN NaN  NaN NaN NaN NaN  NaN NaN  \n",
            "1961-08-13    NaN  ...  NaN NaN NaN NaN  NaN NaN NaN NaN  NaN NaN  \n",
            "1961-08-20    NaN  ...  NaN NaN NaN NaN  NaN NaN NaN NaN  NaN NaN  \n",
            "1961-08-27    NaN  ...  NaN NaN NaN NaN  NaN NaN NaN NaN  NaN NaN  \n",
            "1961-09-03    NaN  ...  NaN NaN NaN NaN  NaN NaN NaN NaN  NaN NaN  \n",
            "1961-09-10    NaN  ...  NaN NaN NaN NaN  NaN NaN NaN NaN  NaN NaN  \n",
            "1961-09-17    NaN  ...  NaN NaN NaN NaN  NaN NaN NaN NaN  NaN NaN  \n",
            "1961-09-24    NaN  ...  NaN NaN NaN NaN  NaN NaN NaN NaN  NaN NaN  \n",
            "1961-10-01    NaN  ...  NaN NaN NaN NaN  NaN NaN NaN NaN  NaN NaN  \n",
            "1961-10-08    NaN  ...  NaN NaN NaN NaN  NaN NaN NaN NaN  NaN NaN  \n",
            "1961-10-15    NaN  ...  NaN NaN NaN NaN  NaN NaN NaN NaN  NaN NaN  \n",
            "1961-10-22    NaN  ...  NaN NaN NaN NaN  NaN NaN NaN NaN  NaN NaN  \n",
            "1961-10-29    NaN  ...  NaN NaN NaN NaN  NaN NaN NaN NaN  NaN NaN  \n",
            "1961-11-05    NaN  ...  NaN NaN NaN NaN  NaN NaN NaN NaN  NaN NaN  \n",
            "1961-11-12    NaN  ...  NaN NaN NaN NaN  NaN NaN NaN NaN  NaN NaN  \n",
            "1961-11-19    NaN  ...  NaN NaN NaN NaN  NaN NaN NaN NaN  NaN NaN  \n",
            "1961-11-26    NaN  ...  NaN NaN NaN NaN  NaN NaN NaN NaN  NaN NaN  \n",
            "1961-12-03    NaN  ...  NaN NaN NaN NaN  NaN NaN NaN NaN  NaN NaN  \n",
            "1961-12-10    NaN  ...  NaN NaN NaN NaN  NaN NaN NaN NaN  NaN NaN  \n",
            "1961-12-17    NaN  ...  NaN NaN NaN NaN  NaN NaN NaN NaN  NaN NaN  \n",
            "1961-12-24    NaN  ...  NaN NaN NaN NaN  NaN NaN NaN NaN  NaN NaN  \n",
            "\n",
            "[52 rows x 56 columns]\n"
          ]
        }
      ],
      "source": [
        "weekly = data.resample('W').agg(['min', 'max', 'mean', 'std'])\n",
        "weeks = weekly.iloc[:52]\n",
        "print(weeks)"
      ]
    },
    {
      "cell_type": "code",
      "source": [],
      "metadata": {
        "id": "nL8HcyTfEAVk"
      },
      "execution_count": null,
      "outputs": []
    }
  ],
  "metadata": {
    "anaconda-cloud": {},
    "kernelspec": {
      "display_name": "Python [default]",
      "language": "python",
      "name": "python2"
    },
    "language_info": {
      "codemirror_mode": {
        "name": "ipython",
        "version": 2
      },
      "file_extension": ".py",
      "mimetype": "text/x-python",
      "name": "python",
      "nbconvert_exporter": "python",
      "pygments_lexer": "ipython2",
      "version": "2.7.12"
    },
    "colab": {
      "provenance": [],
      "include_colab_link": true
    }
  },
  "nbformat": 4,
  "nbformat_minor": 0
}