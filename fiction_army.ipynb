{
  "cells": [
    {
      "cell_type": "markdown",
      "metadata": {
        "id": "view-in-github",
        "colab_type": "text"
      },
      "source": [
        "<a href=\"https://colab.research.google.com/github/Mercymerine/Pandas-Analysis/blob/main/fiction_army.ipynb\" target=\"_parent\"><img src=\"https://colab.research.google.com/assets/colab-badge.svg\" alt=\"Open In Colab\"/></a>"
      ]
    },
    {
      "cell_type": "markdown",
      "metadata": {
        "id": "XakDmw4Frslk"
      },
      "source": [
        "# Fictional Army - Filtering and Sorting"
      ]
    },
    {
      "cell_type": "markdown",
      "metadata": {
        "id": "8sdUywwvrslm"
      },
      "source": [
        "### Introduction:\n",
        "\n",
        "This exercise was inspired by this [page](http://chrisalbon.com/python/)\n",
        "\n",
        "Special thanks to: https://github.com/chrisalbon for sharing the dataset and materials.\n",
        "\n",
        "### Step 1. Import the necessary libraries"
      ]
    },
    {
      "cell_type": "code",
      "execution_count": 18,
      "metadata": {
        "id": "xsspDVunrsln"
      },
      "outputs": [],
      "source": [
        "import pandas as pd"
      ]
    },
    {
      "cell_type": "markdown",
      "metadata": {
        "id": "rUOVNjsyrslo"
      },
      "source": [
        "### Step 2. This is the data given as a dictionary"
      ]
    },
    {
      "cell_type": "code",
      "execution_count": 19,
      "metadata": {
        "collapsed": true,
        "jupyter": {
          "outputs_hidden": true
        },
        "id": "Equ91MzGrslo"
      },
      "outputs": [],
      "source": [
        "# Create an example dataframe about a fictional army\n",
        "raw_data = {'regiment': ['Nighthawks', 'Nighthawks', 'Nighthawks', 'Nighthawks', 'Dragoons', 'Dragoons', 'Dragoons', 'Dragoons', 'Scouts', 'Scouts', 'Scouts', 'Scouts'],\n",
        "            'company': ['1st', '1st', '2nd', '2nd', '1st', '1st', '2nd', '2nd','1st', '1st', '2nd', '2nd'],\n",
        "            'deaths': [523, 52, 25, 616, 43, 234, 523, 62, 62, 73, 37, 35],\n",
        "            'battles': [5, 42, 2, 2, 4, 7, 8, 3, 4, 7, 8, 9],\n",
        "            'size': [1045, 957, 1099, 1400, 1592, 1006, 987, 849, 973, 1005, 1099, 1523],\n",
        "            'veterans': [1, 5, 62, 26, 73, 37, 949, 48, 48, 435, 63, 345],\n",
        "            'readiness': [1, 2, 3, 3, 2, 1, 2, 3, 2, 1, 2, 3],\n",
        "            'armored': [1, 0, 1, 1, 0, 1, 0, 1, 0, 0, 1, 1],\n",
        "            'deserters': [4, 24, 31, 2, 3, 4, 24, 31, 2, 3, 2, 3],\n",
        "            'origin': ['Arizona', 'California', 'Texas', 'Florida', 'Maine', 'Iowa', 'Alaska', 'Washington', 'Oregon', 'Wyoming', 'Louisana', 'Georgia']}"
      ]
    },
    {
      "cell_type": "markdown",
      "metadata": {
        "id": "Hh49mM2Erslp"
      },
      "source": [
        "### Step 3. Create a dataframe and assign it to a variable called army.\n",
        "\n",
        "#### Don't forget to include the columns names in the order presented in the dictionary ('regiment', 'company', 'deaths'...) so that the column index order is consistent with the solutions. If omitted, pandas will order the columns alphabetically."
      ]
    },
    {
      "cell_type": "code",
      "execution_count": 20,
      "metadata": {
        "colab": {
          "base_uri": "https://localhost:8080/"
        },
        "id": "k8nJj0AXrslp",
        "outputId": "0ee38b90-1777-4e15-eb41-b93dd6b3ea66"
      },
      "outputs": [
        {
          "output_type": "stream",
          "name": "stdout",
          "text": [
            "   regimen company  deaths  battles  size  veterans  readiness  armored  \\\n",
            "0      NaN     1st     523        5  1045         1          1        1   \n",
            "1      NaN     1st      52       42   957         5          2        0   \n",
            "2      NaN     2nd      25        2  1099        62          3        1   \n",
            "3      NaN     2nd     616        2  1400        26          3        1   \n",
            "4      NaN     1st      43        4  1592        73          2        0   \n",
            "5      NaN     1st     234        7  1006        37          1        1   \n",
            "6      NaN     2nd     523        8   987       949          2        0   \n",
            "7      NaN     2nd      62        3   849        48          3        1   \n",
            "8      NaN     1st      62        4   973        48          2        0   \n",
            "9      NaN     1st      73        7  1005       435          1        0   \n",
            "10     NaN     2nd      37        8  1099        63          2        1   \n",
            "11     NaN     2nd      35        9  1523       345          3        1   \n",
            "\n",
            "    deserters      origin  \n",
            "0           4     Arizona  \n",
            "1          24  California  \n",
            "2          31       Texas  \n",
            "3           2     Florida  \n",
            "4           3       Maine  \n",
            "5           4        Iowa  \n",
            "6          24      Alaska  \n",
            "7          31  Washington  \n",
            "8           2      Oregon  \n",
            "9           3     Wyoming  \n",
            "10          2    Louisana  \n",
            "11          3     Georgia  \n"
          ]
        }
      ],
      "source": [
        "army = pd.DataFrame(raw_data, columns=['regimen', 'company', 'deaths', 'battles', 'size', 'veterans', 'readiness', 'armored', 'deserters', 'origin'])\n",
        "print(army)"
      ]
    },
    {
      "cell_type": "markdown",
      "metadata": {
        "id": "DS6L5Hjurslp"
      },
      "source": [
        "### Step 4. Set the 'origin' colum as the index of the dataframe"
      ]
    },
    {
      "cell_type": "code",
      "execution_count": 21,
      "metadata": {
        "id": "9K-Nw4aKrslq"
      },
      "outputs": [],
      "source": [
        "army.set_index('origin', inplace =True)"
      ]
    },
    {
      "cell_type": "markdown",
      "metadata": {
        "id": "b-y8tnBZrslq"
      },
      "source": [
        "### Step 5. Print only the column veterans"
      ]
    },
    {
      "cell_type": "code",
      "source": [
        "army.columns"
      ],
      "metadata": {
        "id": "ZmdtVLSHxSe8",
        "outputId": "36cfcdc5-ff8f-4ff7-a7c8-7817638c0038",
        "colab": {
          "base_uri": "https://localhost:8080/"
        }
      },
      "execution_count": 22,
      "outputs": [
        {
          "output_type": "execute_result",
          "data": {
            "text/plain": [
              "Index(['regimen', 'company', 'deaths', 'battles', 'size', 'veterans',\n",
              "       'readiness', 'armored', 'deserters'],\n",
              "      dtype='object')"
            ]
          },
          "metadata": {},
          "execution_count": 22
        }
      ]
    },
    {
      "cell_type": "code",
      "execution_count": 23,
      "metadata": {
        "colab": {
          "base_uri": "https://localhost:8080/"
        },
        "id": "Ncnf3acLrslq",
        "outputId": "c4051e53-fcf7-4f81-db61-0183746e40d9"
      },
      "outputs": [
        {
          "output_type": "execute_result",
          "data": {
            "text/plain": [
              "origin\n",
              "Arizona         1\n",
              "California      5\n",
              "Texas          62\n",
              "Florida        26\n",
              "Maine          73\n",
              "Iowa           37\n",
              "Alaska        949\n",
              "Washington     48\n",
              "Oregon         48\n",
              "Wyoming       435\n",
              "Louisana       63\n",
              "Georgia       345\n",
              "Name: veterans, dtype: int64"
            ]
          },
          "metadata": {},
          "execution_count": 23
        }
      ],
      "source": [
        "army.veterans"
      ]
    },
    {
      "cell_type": "markdown",
      "metadata": {
        "id": "HSCqLzd1rslq"
      },
      "source": [
        "### Step 6. Print the columns 'veterans' and 'deaths'"
      ]
    },
    {
      "cell_type": "code",
      "source": [
        "army.columns"
      ],
      "metadata": {
        "id": "RAoTGLZWxdSA",
        "outputId": "d745da24-1a00-4859-9e46-f3c3e9bb2397",
        "colab": {
          "base_uri": "https://localhost:8080/"
        }
      },
      "execution_count": 24,
      "outputs": [
        {
          "output_type": "execute_result",
          "data": {
            "text/plain": [
              "Index(['regimen', 'company', 'deaths', 'battles', 'size', 'veterans',\n",
              "       'readiness', 'armored', 'deserters'],\n",
              "      dtype='object')"
            ]
          },
          "metadata": {},
          "execution_count": 24
        }
      ]
    },
    {
      "cell_type": "code",
      "execution_count": 25,
      "metadata": {
        "colab": {
          "base_uri": "https://localhost:8080/"
        },
        "id": "AmQWe8X6rslq",
        "outputId": "b1bec8ab-5516-44c9-c827-8c53bc4432e9"
      },
      "outputs": [
        {
          "output_type": "stream",
          "name": "stdout",
          "text": [
            "            veterans  deaths\n",
            "origin                      \n",
            "Arizona            1     523\n",
            "California         5      52\n",
            "Texas             62      25\n",
            "Florida           26     616\n",
            "Maine             73      43\n",
            "Iowa              37     234\n",
            "Alaska           949     523\n",
            "Washington        48      62\n",
            "Oregon            48      62\n",
            "Wyoming          435      73\n",
            "Louisana          63      37\n",
            "Georgia          345      35\n"
          ]
        }
      ],
      "source": [
        "print(army[['veterans' ,'deaths']])"
      ]
    },
    {
      "cell_type": "markdown",
      "metadata": {
        "id": "O42uPQgorslr"
      },
      "source": [
        "### Step 7. Print the name of all the columns."
      ]
    },
    {
      "cell_type": "code",
      "execution_count": 26,
      "metadata": {
        "colab": {
          "base_uri": "https://localhost:8080/"
        },
        "id": "TmEpzvwdrslr",
        "outputId": "9acb52f7-3535-4b83-bc74-2a268a5e9357"
      },
      "outputs": [
        {
          "output_type": "stream",
          "name": "stdout",
          "text": [
            "Index(['regimen', 'company', 'deaths', 'battles', 'size', 'veterans',\n",
            "       'readiness', 'armored', 'deserters'],\n",
            "      dtype='object')\n"
          ]
        }
      ],
      "source": [
        "print(army.columns)"
      ]
    },
    {
      "cell_type": "markdown",
      "metadata": {
        "id": "BOm2xlj5rslr"
      },
      "source": [
        "### Step 8. Select the 'deaths', 'size' and 'deserters' columns from Maine and Alaska"
      ]
    },
    {
      "cell_type": "code",
      "source": [
        "army.head()"
      ],
      "metadata": {
        "id": "hY2BGa6zzuUc",
        "outputId": "f92b9fa6-17ab-4f48-f4a6-cc0d8df28bae",
        "colab": {
          "base_uri": "https://localhost:8080/",
          "height": 258
        }
      },
      "execution_count": 27,
      "outputs": [
        {
          "output_type": "execute_result",
          "data": {
            "text/plain": [
              "           regimen company  deaths  battles  size  veterans  readiness  \\\n",
              "origin                                                                   \n",
              "Arizona        NaN     1st     523        5  1045         1          1   \n",
              "California     NaN     1st      52       42   957         5          2   \n",
              "Texas          NaN     2nd      25        2  1099        62          3   \n",
              "Florida        NaN     2nd     616        2  1400        26          3   \n",
              "Maine          NaN     1st      43        4  1592        73          2   \n",
              "\n",
              "            armored  deserters  \n",
              "origin                          \n",
              "Arizona           1          4  \n",
              "California        0         24  \n",
              "Texas             1         31  \n",
              "Florida           1          2  \n",
              "Maine             0          3  "
            ],
            "text/html": [
              "\n",
              "  <div id=\"df-0641955a-6bb4-4c8e-a300-f565656bf520\" class=\"colab-df-container\">\n",
              "    <div>\n",
              "<style scoped>\n",
              "    .dataframe tbody tr th:only-of-type {\n",
              "        vertical-align: middle;\n",
              "    }\n",
              "\n",
              "    .dataframe tbody tr th {\n",
              "        vertical-align: top;\n",
              "    }\n",
              "\n",
              "    .dataframe thead th {\n",
              "        text-align: right;\n",
              "    }\n",
              "</style>\n",
              "<table border=\"1\" class=\"dataframe\">\n",
              "  <thead>\n",
              "    <tr style=\"text-align: right;\">\n",
              "      <th></th>\n",
              "      <th>regimen</th>\n",
              "      <th>company</th>\n",
              "      <th>deaths</th>\n",
              "      <th>battles</th>\n",
              "      <th>size</th>\n",
              "      <th>veterans</th>\n",
              "      <th>readiness</th>\n",
              "      <th>armored</th>\n",
              "      <th>deserters</th>\n",
              "    </tr>\n",
              "    <tr>\n",
              "      <th>origin</th>\n",
              "      <th></th>\n",
              "      <th></th>\n",
              "      <th></th>\n",
              "      <th></th>\n",
              "      <th></th>\n",
              "      <th></th>\n",
              "      <th></th>\n",
              "      <th></th>\n",
              "      <th></th>\n",
              "    </tr>\n",
              "  </thead>\n",
              "  <tbody>\n",
              "    <tr>\n",
              "      <th>Arizona</th>\n",
              "      <td>NaN</td>\n",
              "      <td>1st</td>\n",
              "      <td>523</td>\n",
              "      <td>5</td>\n",
              "      <td>1045</td>\n",
              "      <td>1</td>\n",
              "      <td>1</td>\n",
              "      <td>1</td>\n",
              "      <td>4</td>\n",
              "    </tr>\n",
              "    <tr>\n",
              "      <th>California</th>\n",
              "      <td>NaN</td>\n",
              "      <td>1st</td>\n",
              "      <td>52</td>\n",
              "      <td>42</td>\n",
              "      <td>957</td>\n",
              "      <td>5</td>\n",
              "      <td>2</td>\n",
              "      <td>0</td>\n",
              "      <td>24</td>\n",
              "    </tr>\n",
              "    <tr>\n",
              "      <th>Texas</th>\n",
              "      <td>NaN</td>\n",
              "      <td>2nd</td>\n",
              "      <td>25</td>\n",
              "      <td>2</td>\n",
              "      <td>1099</td>\n",
              "      <td>62</td>\n",
              "      <td>3</td>\n",
              "      <td>1</td>\n",
              "      <td>31</td>\n",
              "    </tr>\n",
              "    <tr>\n",
              "      <th>Florida</th>\n",
              "      <td>NaN</td>\n",
              "      <td>2nd</td>\n",
              "      <td>616</td>\n",
              "      <td>2</td>\n",
              "      <td>1400</td>\n",
              "      <td>26</td>\n",
              "      <td>3</td>\n",
              "      <td>1</td>\n",
              "      <td>2</td>\n",
              "    </tr>\n",
              "    <tr>\n",
              "      <th>Maine</th>\n",
              "      <td>NaN</td>\n",
              "      <td>1st</td>\n",
              "      <td>43</td>\n",
              "      <td>4</td>\n",
              "      <td>1592</td>\n",
              "      <td>73</td>\n",
              "      <td>2</td>\n",
              "      <td>0</td>\n",
              "      <td>3</td>\n",
              "    </tr>\n",
              "  </tbody>\n",
              "</table>\n",
              "</div>\n",
              "    <div class=\"colab-df-buttons\">\n",
              "\n",
              "  <div class=\"colab-df-container\">\n",
              "    <button class=\"colab-df-convert\" onclick=\"convertToInteractive('df-0641955a-6bb4-4c8e-a300-f565656bf520')\"\n",
              "            title=\"Convert this dataframe to an interactive table.\"\n",
              "            style=\"display:none;\">\n",
              "\n",
              "  <svg xmlns=\"http://www.w3.org/2000/svg\" height=\"24px\" viewBox=\"0 -960 960 960\">\n",
              "    <path d=\"M120-120v-720h720v720H120Zm60-500h600v-160H180v160Zm220 220h160v-160H400v160Zm0 220h160v-160H400v160ZM180-400h160v-160H180v160Zm440 0h160v-160H620v160ZM180-180h160v-160H180v160Zm440 0h160v-160H620v160Z\"/>\n",
              "  </svg>\n",
              "    </button>\n",
              "\n",
              "  <style>\n",
              "    .colab-df-container {\n",
              "      display:flex;\n",
              "      gap: 12px;\n",
              "    }\n",
              "\n",
              "    .colab-df-convert {\n",
              "      background-color: #E8F0FE;\n",
              "      border: none;\n",
              "      border-radius: 50%;\n",
              "      cursor: pointer;\n",
              "      display: none;\n",
              "      fill: #1967D2;\n",
              "      height: 32px;\n",
              "      padding: 0 0 0 0;\n",
              "      width: 32px;\n",
              "    }\n",
              "\n",
              "    .colab-df-convert:hover {\n",
              "      background-color: #E2EBFA;\n",
              "      box-shadow: 0px 1px 2px rgba(60, 64, 67, 0.3), 0px 1px 3px 1px rgba(60, 64, 67, 0.15);\n",
              "      fill: #174EA6;\n",
              "    }\n",
              "\n",
              "    .colab-df-buttons div {\n",
              "      margin-bottom: 4px;\n",
              "    }\n",
              "\n",
              "    [theme=dark] .colab-df-convert {\n",
              "      background-color: #3B4455;\n",
              "      fill: #D2E3FC;\n",
              "    }\n",
              "\n",
              "    [theme=dark] .colab-df-convert:hover {\n",
              "      background-color: #434B5C;\n",
              "      box-shadow: 0px 1px 3px 1px rgba(0, 0, 0, 0.15);\n",
              "      filter: drop-shadow(0px 1px 2px rgba(0, 0, 0, 0.3));\n",
              "      fill: #FFFFFF;\n",
              "    }\n",
              "  </style>\n",
              "\n",
              "    <script>\n",
              "      const buttonEl =\n",
              "        document.querySelector('#df-0641955a-6bb4-4c8e-a300-f565656bf520 button.colab-df-convert');\n",
              "      buttonEl.style.display =\n",
              "        google.colab.kernel.accessAllowed ? 'block' : 'none';\n",
              "\n",
              "      async function convertToInteractive(key) {\n",
              "        const element = document.querySelector('#df-0641955a-6bb4-4c8e-a300-f565656bf520');\n",
              "        const dataTable =\n",
              "          await google.colab.kernel.invokeFunction('convertToInteractive',\n",
              "                                                    [key], {});\n",
              "        if (!dataTable) return;\n",
              "\n",
              "        const docLinkHtml = 'Like what you see? Visit the ' +\n",
              "          '<a target=\"_blank\" href=https://colab.research.google.com/notebooks/data_table.ipynb>data table notebook</a>'\n",
              "          + ' to learn more about interactive tables.';\n",
              "        element.innerHTML = '';\n",
              "        dataTable['output_type'] = 'display_data';\n",
              "        await google.colab.output.renderOutput(dataTable, element);\n",
              "        const docLink = document.createElement('div');\n",
              "        docLink.innerHTML = docLinkHtml;\n",
              "        element.appendChild(docLink);\n",
              "      }\n",
              "    </script>\n",
              "  </div>\n",
              "\n",
              "\n",
              "<div id=\"df-9d4acca7-6bc8-45b7-a635-1c547d323aa3\">\n",
              "  <button class=\"colab-df-quickchart\" onclick=\"quickchart('df-9d4acca7-6bc8-45b7-a635-1c547d323aa3')\"\n",
              "            title=\"Suggest charts\"\n",
              "            style=\"display:none;\">\n",
              "\n",
              "<svg xmlns=\"http://www.w3.org/2000/svg\" height=\"24px\"viewBox=\"0 0 24 24\"\n",
              "     width=\"24px\">\n",
              "    <g>\n",
              "        <path d=\"M19 3H5c-1.1 0-2 .9-2 2v14c0 1.1.9 2 2 2h14c1.1 0 2-.9 2-2V5c0-1.1-.9-2-2-2zM9 17H7v-7h2v7zm4 0h-2V7h2v10zm4 0h-2v-4h2v4z\"/>\n",
              "    </g>\n",
              "</svg>\n",
              "  </button>\n",
              "\n",
              "<style>\n",
              "  .colab-df-quickchart {\n",
              "      --bg-color: #E8F0FE;\n",
              "      --fill-color: #1967D2;\n",
              "      --hover-bg-color: #E2EBFA;\n",
              "      --hover-fill-color: #174EA6;\n",
              "      --disabled-fill-color: #AAA;\n",
              "      --disabled-bg-color: #DDD;\n",
              "  }\n",
              "\n",
              "  [theme=dark] .colab-df-quickchart {\n",
              "      --bg-color: #3B4455;\n",
              "      --fill-color: #D2E3FC;\n",
              "      --hover-bg-color: #434B5C;\n",
              "      --hover-fill-color: #FFFFFF;\n",
              "      --disabled-bg-color: #3B4455;\n",
              "      --disabled-fill-color: #666;\n",
              "  }\n",
              "\n",
              "  .colab-df-quickchart {\n",
              "    background-color: var(--bg-color);\n",
              "    border: none;\n",
              "    border-radius: 50%;\n",
              "    cursor: pointer;\n",
              "    display: none;\n",
              "    fill: var(--fill-color);\n",
              "    height: 32px;\n",
              "    padding: 0;\n",
              "    width: 32px;\n",
              "  }\n",
              "\n",
              "  .colab-df-quickchart:hover {\n",
              "    background-color: var(--hover-bg-color);\n",
              "    box-shadow: 0 1px 2px rgba(60, 64, 67, 0.3), 0 1px 3px 1px rgba(60, 64, 67, 0.15);\n",
              "    fill: var(--button-hover-fill-color);\n",
              "  }\n",
              "\n",
              "  .colab-df-quickchart-complete:disabled,\n",
              "  .colab-df-quickchart-complete:disabled:hover {\n",
              "    background-color: var(--disabled-bg-color);\n",
              "    fill: var(--disabled-fill-color);\n",
              "    box-shadow: none;\n",
              "  }\n",
              "\n",
              "  .colab-df-spinner {\n",
              "    border: 2px solid var(--fill-color);\n",
              "    border-color: transparent;\n",
              "    border-bottom-color: var(--fill-color);\n",
              "    animation:\n",
              "      spin 1s steps(1) infinite;\n",
              "  }\n",
              "\n",
              "  @keyframes spin {\n",
              "    0% {\n",
              "      border-color: transparent;\n",
              "      border-bottom-color: var(--fill-color);\n",
              "      border-left-color: var(--fill-color);\n",
              "    }\n",
              "    20% {\n",
              "      border-color: transparent;\n",
              "      border-left-color: var(--fill-color);\n",
              "      border-top-color: var(--fill-color);\n",
              "    }\n",
              "    30% {\n",
              "      border-color: transparent;\n",
              "      border-left-color: var(--fill-color);\n",
              "      border-top-color: var(--fill-color);\n",
              "      border-right-color: var(--fill-color);\n",
              "    }\n",
              "    40% {\n",
              "      border-color: transparent;\n",
              "      border-right-color: var(--fill-color);\n",
              "      border-top-color: var(--fill-color);\n",
              "    }\n",
              "    60% {\n",
              "      border-color: transparent;\n",
              "      border-right-color: var(--fill-color);\n",
              "    }\n",
              "    80% {\n",
              "      border-color: transparent;\n",
              "      border-right-color: var(--fill-color);\n",
              "      border-bottom-color: var(--fill-color);\n",
              "    }\n",
              "    90% {\n",
              "      border-color: transparent;\n",
              "      border-bottom-color: var(--fill-color);\n",
              "    }\n",
              "  }\n",
              "</style>\n",
              "\n",
              "  <script>\n",
              "    async function quickchart(key) {\n",
              "      const quickchartButtonEl =\n",
              "        document.querySelector('#' + key + ' button');\n",
              "      quickchartButtonEl.disabled = true;  // To prevent multiple clicks.\n",
              "      quickchartButtonEl.classList.add('colab-df-spinner');\n",
              "      try {\n",
              "        const charts = await google.colab.kernel.invokeFunction(\n",
              "            'suggestCharts', [key], {});\n",
              "      } catch (error) {\n",
              "        console.error('Error during call to suggestCharts:', error);\n",
              "      }\n",
              "      quickchartButtonEl.classList.remove('colab-df-spinner');\n",
              "      quickchartButtonEl.classList.add('colab-df-quickchart-complete');\n",
              "    }\n",
              "    (() => {\n",
              "      let quickchartButtonEl =\n",
              "        document.querySelector('#df-9d4acca7-6bc8-45b7-a635-1c547d323aa3 button');\n",
              "      quickchartButtonEl.style.display =\n",
              "        google.colab.kernel.accessAllowed ? 'block' : 'none';\n",
              "    })();\n",
              "  </script>\n",
              "</div>\n",
              "\n",
              "    </div>\n",
              "  </div>\n"
            ],
            "application/vnd.google.colaboratory.intrinsic+json": {
              "type": "dataframe",
              "variable_name": "army",
              "repr_error": "Out of range float values are not JSON compliant: nan"
            }
          },
          "metadata": {},
          "execution_count": 27
        }
      ]
    },
    {
      "cell_type": "code",
      "execution_count": 49,
      "metadata": {
        "colab": {
          "base_uri": "https://localhost:8080/"
        },
        "id": "dbZ4e0Kxrslr",
        "outputId": "ab8f1ed8-1c58-4911-8606-ed041e2b349b"
      },
      "outputs": [
        {
          "output_type": "stream",
          "name": "stdout",
          "text": [
            "        deaths  size  deserters\n",
            "origin                         \n",
            "Maine       43  1592          3\n",
            "Alaska     523   987         24\n"
          ]
        }
      ],
      "source": [
        "selected = army.loc[['Maine', 'Alaska'], ['deaths', 'size', 'deserters']]\n",
        "print(selected)"
      ]
    },
    {
      "cell_type": "markdown",
      "metadata": {
        "id": "px3fxNgYrslr"
      },
      "source": [
        "### Step 9. Select the rows 3 to 7 and the columns 3 to 6"
      ]
    },
    {
      "cell_type": "code",
      "execution_count": 29,
      "metadata": {
        "colab": {
          "base_uri": "https://localhost:8080/"
        },
        "id": "OZIQQQdSrsls",
        "outputId": "1b7bb7d0-3410-47ee-8886-c726c50071a8"
      },
      "outputs": [
        {
          "output_type": "stream",
          "name": "stdout",
          "text": [
            "         battles  size  veterans\n",
            "origin                          \n",
            "Florida        2  1400        26\n",
            "Maine          4  1592        73\n",
            "Iowa           7  1006        37\n",
            "Alaska         8   987       949\n"
          ]
        }
      ],
      "source": [
        "print(army.iloc[3:7, 3:6])"
      ]
    },
    {
      "cell_type": "markdown",
      "metadata": {
        "id": "oICI2HqRrsls"
      },
      "source": [
        "### Step 10. Select every row after the fourth row and all columns"
      ]
    },
    {
      "cell_type": "code",
      "execution_count": 30,
      "metadata": {
        "colab": {
          "base_uri": "https://localhost:8080/"
        },
        "id": "urcMMiRyrsls",
        "outputId": "09ed2a8b-9574-465e-eeac-3238e2a78be3"
      },
      "outputs": [
        {
          "output_type": "stream",
          "name": "stdout",
          "text": [
            "           regimen company  deaths  battles  size  veterans  readiness  \\\n",
            "origin                                                                   \n",
            "Arizona        NaN     1st     523        5  1045         1          1   \n",
            "California     NaN     1st      52       42   957         5          2   \n",
            "Texas          NaN     2nd      25        2  1099        62          3   \n",
            "Florida        NaN     2nd     616        2  1400        26          3   \n",
            "\n",
            "            armored  deserters  \n",
            "origin                          \n",
            "Arizona           1          4  \n",
            "California        0         24  \n",
            "Texas             1         31  \n",
            "Florida           1          2  \n"
          ]
        }
      ],
      "source": [
        "print(army.iloc[0:4, :])"
      ]
    },
    {
      "cell_type": "markdown",
      "metadata": {
        "id": "fWsaCFccrsls"
      },
      "source": [
        "### Step 11. Select every row up to the 4th row and all columns"
      ]
    },
    {
      "cell_type": "code",
      "execution_count": 31,
      "metadata": {
        "colab": {
          "base_uri": "https://localhost:8080/"
        },
        "id": "93NixVjRrsls",
        "outputId": "b7942f83-3473-4f52-f174-4d28888595e2"
      },
      "outputs": [
        {
          "output_type": "stream",
          "name": "stdout",
          "text": [
            "           regimen company  deaths  battles  size  veterans  readiness  \\\n",
            "origin                                                                   \n",
            "Arizona        NaN     1st     523        5  1045         1          1   \n",
            "California     NaN     1st      52       42   957         5          2   \n",
            "Texas          NaN     2nd      25        2  1099        62          3   \n",
            "Florida        NaN     2nd     616        2  1400        26          3   \n",
            "\n",
            "            armored  deserters  \n",
            "origin                          \n",
            "Arizona           1          4  \n",
            "California        0         24  \n",
            "Texas             1         31  \n",
            "Florida           1          2  \n"
          ]
        }
      ],
      "source": [
        "print(army.iloc[0:4, :])\n"
      ]
    },
    {
      "cell_type": "markdown",
      "metadata": {
        "id": "c0YLWMuursls"
      },
      "source": [
        "### Step 12. Select the 3rd column up to the 7th column"
      ]
    },
    {
      "cell_type": "code",
      "execution_count": 32,
      "metadata": {
        "colab": {
          "base_uri": "https://localhost:8080/"
        },
        "id": "l_UXHdRLrsls",
        "outputId": "cdca95f7-3462-4325-ce5d-7a1b38eab842"
      },
      "outputs": [
        {
          "output_type": "stream",
          "name": "stdout",
          "text": [
            "            battles  size  veterans  readiness\n",
            "origin                                        \n",
            "Arizona           5  1045         1          1\n",
            "California       42   957         5          2\n",
            "Texas             2  1099        62          3\n",
            "Florida           2  1400        26          3\n",
            "Maine             4  1592        73          2\n",
            "Iowa              7  1006        37          1\n",
            "Alaska            8   987       949          2\n",
            "Washington        3   849        48          3\n",
            "Oregon            4   973        48          2\n",
            "Wyoming           7  1005       435          1\n",
            "Louisana          8  1099        63          2\n",
            "Georgia           9  1523       345          3\n"
          ]
        }
      ],
      "source": [
        "print(army.iloc[:, 3:7])"
      ]
    },
    {
      "cell_type": "markdown",
      "metadata": {
        "id": "aq4_doWBrslt"
      },
      "source": [
        "### Step 13. Select rows where df.deaths is greater than 50"
      ]
    },
    {
      "cell_type": "code",
      "source": [
        "army.columns"
      ],
      "metadata": {
        "id": "RauZ60dU1A_l",
        "outputId": "a46ba8f4-9eea-4418-dd82-e560da5ac611",
        "colab": {
          "base_uri": "https://localhost:8080/"
        }
      },
      "execution_count": 33,
      "outputs": [
        {
          "output_type": "execute_result",
          "data": {
            "text/plain": [
              "Index(['regimen', 'company', 'deaths', 'battles', 'size', 'veterans',\n",
              "       'readiness', 'armored', 'deserters'],\n",
              "      dtype='object')"
            ]
          },
          "metadata": {},
          "execution_count": 33
        }
      ]
    },
    {
      "cell_type": "code",
      "execution_count": 34,
      "metadata": {
        "colab": {
          "base_uri": "https://localhost:8080/"
        },
        "id": "YTf1v2_brslt",
        "outputId": "a8143e3a-eb52-4224-da35-ac1ba0f09c70"
      },
      "outputs": [
        {
          "output_type": "stream",
          "name": "stdout",
          "text": [
            "           regimen company  deaths  battles  size  veterans  readiness  \\\n",
            "origin                                                                   \n",
            "Arizona        NaN     1st     523        5  1045         1          1   \n",
            "California     NaN     1st      52       42   957         5          2   \n",
            "Florida        NaN     2nd     616        2  1400        26          3   \n",
            "Iowa           NaN     1st     234        7  1006        37          1   \n",
            "Alaska         NaN     2nd     523        8   987       949          2   \n",
            "Washington     NaN     2nd      62        3   849        48          3   \n",
            "Oregon         NaN     1st      62        4   973        48          2   \n",
            "Wyoming        NaN     1st      73        7  1005       435          1   \n",
            "\n",
            "            armored  deserters  \n",
            "origin                          \n",
            "Arizona           1          4  \n",
            "California        0         24  \n",
            "Florida           1          2  \n",
            "Iowa              1          4  \n",
            "Alaska            0         24  \n",
            "Washington        1         31  \n",
            "Oregon            0          2  \n",
            "Wyoming           0          3  \n"
          ]
        }
      ],
      "source": [
        "deaths = army[army['deaths'] > 50]\n",
        "print(deaths)"
      ]
    },
    {
      "cell_type": "markdown",
      "metadata": {
        "id": "dH6sj-RSrslt"
      },
      "source": [
        "### Step 14. Select rows where df.deaths is greater than 500 or less than 50"
      ]
    },
    {
      "cell_type": "code",
      "execution_count": 38,
      "metadata": {
        "colab": {
          "base_uri": "https://localhost:8080/"
        },
        "id": "SAxr026irslt",
        "outputId": "cc313cc2-e7db-4c55-ad99-3182b5c4f0e4"
      },
      "outputs": [
        {
          "output_type": "stream",
          "name": "stdout",
          "text": [
            "         regimen company  deaths  battles  size  veterans  readiness  armored  \\\n",
            "origin                                                                          \n",
            "Arizona      NaN     1st     523        5  1045         1          1        1   \n",
            "Texas        NaN     2nd      25        2  1099        62          3        1   \n",
            "Florida      NaN     2nd     616        2  1400        26          3        1   \n",
            "Maine        NaN     1st      43        4  1592        73          2        0   \n",
            "Alaska       NaN     2nd     523        8   987       949          2        0   \n",
            "Louisana     NaN     2nd      37        8  1099        63          2        1   \n",
            "Georgia      NaN     2nd      35        9  1523       345          3        1   \n",
            "\n",
            "          deserters  \n",
            "origin               \n",
            "Arizona           4  \n",
            "Texas            31  \n",
            "Florida           2  \n",
            "Maine             3  \n",
            "Alaska           24  \n",
            "Louisana          2  \n",
            "Georgia           3  \n"
          ]
        }
      ],
      "source": [
        "deaths = army[(army['deaths'] > 500)| (army['deaths'] < 50)]\n",
        "print(deaths)"
      ]
    },
    {
      "cell_type": "markdown",
      "metadata": {
        "id": "5yt6cHUGrslt"
      },
      "source": [
        "### Step 15. Select all the regiments not named \"Dragoons\""
      ]
    },
    {
      "cell_type": "code",
      "source": [
        "army.columns"
      ],
      "metadata": {
        "id": "uTPyojB26OFO",
        "outputId": "f01211f8-52b2-4a2c-d924-a60a597e2e35",
        "colab": {
          "base_uri": "https://localhost:8080/"
        }
      },
      "execution_count": 40,
      "outputs": [
        {
          "output_type": "execute_result",
          "data": {
            "text/plain": [
              "Index(['regimen', 'company', 'deaths', 'battles', 'size', 'veterans',\n",
              "       'readiness', 'armored', 'deserters'],\n",
              "      dtype='object')"
            ]
          },
          "metadata": {},
          "execution_count": 40
        }
      ]
    },
    {
      "cell_type": "code",
      "execution_count": 41,
      "metadata": {
        "colab": {
          "base_uri": "https://localhost:8080/"
        },
        "id": "zDmI5__crslt",
        "outputId": "fe0b4561-9aab-4afb-bb6e-8b1c21c56cf4"
      },
      "outputs": [
        {
          "output_type": "stream",
          "name": "stdout",
          "text": [
            "Empty DataFrame\n",
            "Columns: [regimen, company, deaths, battles, size, veterans, readiness, armored, deserters]\n",
            "Index: []\n"
          ]
        }
      ],
      "source": [
        "dragoons = army[army['regimen']=='Dragoons']\n",
        "print(dragoons)"
      ]
    },
    {
      "cell_type": "markdown",
      "metadata": {
        "id": "RrvqKIx8rslu"
      },
      "source": [
        "### Step 16. Select the rows called Texas and Arizona"
      ]
    },
    {
      "cell_type": "code",
      "execution_count": 50,
      "metadata": {
        "colab": {
          "base_uri": "https://localhost:8080/"
        },
        "id": "-f9-Feimrslu",
        "outputId": "52b53585-6d6f-4c8e-c4a6-cb6eb5bb8e12"
      },
      "outputs": [
        {
          "output_type": "stream",
          "name": "stdout",
          "text": [
            "       regimen company  deaths  battles  size  veterans  readiness  armored  \\\n",
            "origin                                                                        \n",
            "Texas      NaN     2nd      25        2  1099        62          3        1   \n",
            "Alaska     NaN     2nd     523        8   987       949          2        0   \n",
            "\n",
            "        deserters  \n",
            "origin             \n",
            "Texas          31  \n",
            "Alaska         24  \n"
          ]
        }
      ],
      "source": [
        "print(army.loc[['Texas', 'Alaska']])"
      ]
    },
    {
      "cell_type": "markdown",
      "metadata": {
        "id": "z0l_UWdIrslu"
      },
      "source": [
        "### Step 17. Select the third cell in the row named Arizona"
      ]
    },
    {
      "cell_type": "code",
      "execution_count": 45,
      "metadata": {
        "colab": {
          "base_uri": "https://localhost:8080/"
        },
        "id": "8u0rc5hRrslu",
        "outputId": "37c3b361-eeba-43ee-b313-af24b3d42130"
      },
      "outputs": [
        {
          "output_type": "stream",
          "name": "stdout",
          "text": [
            "523\n"
          ]
        }
      ],
      "source": [
        "print(army.loc['Arizona'].iloc[2])"
      ]
    },
    {
      "cell_type": "markdown",
      "metadata": {
        "id": "y5x61AcZrslu"
      },
      "source": [
        "### Step 18. Select the third cell down in the column named deaths"
      ]
    },
    {
      "cell_type": "code",
      "execution_count": 47,
      "metadata": {
        "colab": {
          "base_uri": "https://localhost:8080/"
        },
        "id": "5dSgLukVrslu",
        "outputId": "436a0fcc-bff1-49a4-84f8-4b4239957965"
      },
      "outputs": [
        {
          "output_type": "stream",
          "name": "stdout",
          "text": [
            "25\n"
          ]
        }
      ],
      "source": [
        "print(army.iloc[2].loc['deaths'])"
      ]
    },
    {
      "cell_type": "code",
      "source": [],
      "metadata": {
        "id": "KCUhNX5F7SB-"
      },
      "execution_count": null,
      "outputs": []
    }
  ],
  "metadata": {
    "kernelspec": {
      "display_name": "Python 3 (ipykernel)",
      "language": "python",
      "name": "python3"
    },
    "language_info": {
      "codemirror_mode": {
        "name": "ipython",
        "version": 3
      },
      "file_extension": ".py",
      "mimetype": "text/x-python",
      "name": "python",
      "nbconvert_exporter": "python",
      "pygments_lexer": "ipython3",
      "version": "3.11.7"
    },
    "colab": {
      "provenance": [],
      "include_colab_link": true
    }
  },
  "nbformat": 4,
  "nbformat_minor": 0
}