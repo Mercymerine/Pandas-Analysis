{
  "cells": [
    {
      "cell_type": "markdown",
      "metadata": {
        "id": "view-in-github",
        "colab_type": "text"
      },
      "source": [
        "<a href=\"https://colab.research.google.com/github/Mercymerine/Pandas-Analysis/blob/main/finance.ipynb\" target=\"_parent\"><img src=\"https://colab.research.google.com/assets/colab-badge.svg\" alt=\"Open In Colab\"/></a>"
      ]
    },
    {
      "cell_type": "markdown",
      "metadata": {
        "id": "HHEvW6fzUsvq"
      },
      "source": [
        "# Getting Financial Data - Google Finance"
      ]
    },
    {
      "cell_type": "markdown",
      "metadata": {
        "id": "PbxyZNcwUsvt"
      },
      "source": [
        "### Introduction:\n",
        "\n",
        "This time you will get data from a website.\n",
        "\n",
        "\n",
        "### Step 1. Import the necessary libraries"
      ]
    },
    {
      "cell_type": "code",
      "execution_count": 11,
      "metadata": {
        "id": "Yf-7l-onUsvt"
      },
      "outputs": [],
      "source": [
        "import pandas as pd\n",
        "import yfinance as yf\n",
        "from datetime import datetime"
      ]
    },
    {
      "cell_type": "markdown",
      "metadata": {
        "id": "XXadOpijUsvu"
      },
      "source": [
        "### Step 2. Create your time range (start and end variables). The start date should be 01/01/2015 and the end should today (whatever your today is)"
      ]
    },
    {
      "cell_type": "code",
      "execution_count": 13,
      "metadata": {
        "id": "mU-RDssvUsvu"
      },
      "outputs": [],
      "source": [
        "start_date = '2015-01-01'\n",
        "end_date = datetime.today().strftime('2024-05-08')"
      ]
    },
    {
      "cell_type": "markdown",
      "metadata": {
        "id": "fNvZBH4jUsvu"
      },
      "source": [
        "### Step 3. Select the Apple, Tesla, Twitter, IBM, LinkedIn stocks symbols and assign them to a variable called stocks"
      ]
    },
    {
      "cell_type": "code",
      "execution_count": 14,
      "metadata": {
        "id": "lBAsYfXRUsvv"
      },
      "outputs": [],
      "source": [
        "tickers = ['AAPL', 'TSLA', 'IBM', ]"
      ]
    },
    {
      "cell_type": "markdown",
      "metadata": {
        "id": "6iTKbeH-Usvv"
      },
      "source": [
        "### Step 4. Read the data from google, assign to df and print it"
      ]
    },
    {
      "cell_type": "code",
      "execution_count": 15,
      "metadata": {
        "id": "mHvSUmZgUsvv",
        "colab": {
          "base_uri": "https://localhost:8080/"
        },
        "outputId": "bbbcb1cf-85b4-4c5d-c235-b2a72979f3e6"
      },
      "outputs": [
        {
          "output_type": "stream",
          "name": "stderr",
          "text": [
            "[*********************100%%**********************]  3 of 3 completed\n"
          ]
        }
      ],
      "source": [
        "df = yf.download(tickers, start=start_date, end=end_date)"
      ]
    },
    {
      "cell_type": "markdown",
      "metadata": {
        "id": "2iF2YL4-Usvv"
      },
      "source": [
        "### Step 5.  What is the type of structure of df ?"
      ]
    },
    {
      "cell_type": "code",
      "execution_count": 16,
      "metadata": {
        "id": "rpans4xTUsvv",
        "colab": {
          "base_uri": "https://localhost:8080/"
        },
        "outputId": "acc59d89-c8e0-4515-8c7b-94243c53862d"
      },
      "outputs": [
        {
          "output_type": "stream",
          "name": "stdout",
          "text": [
            "<class 'pandas.core.frame.DataFrame'>\n",
            "DatetimeIndex: 2352 entries, 2015-01-02 to 2024-05-07\n",
            "Data columns (total 18 columns):\n",
            " #   Column             Non-Null Count  Dtype  \n",
            "---  ------             --------------  -----  \n",
            " 0   (Adj Close, AAPL)  2352 non-null   float64\n",
            " 1   (Adj Close, IBM)   2352 non-null   float64\n",
            " 2   (Adj Close, TSLA)  2352 non-null   float64\n",
            " 3   (Close, AAPL)      2352 non-null   float64\n",
            " 4   (Close, IBM)       2352 non-null   float64\n",
            " 5   (Close, TSLA)      2352 non-null   float64\n",
            " 6   (High, AAPL)       2352 non-null   float64\n",
            " 7   (High, IBM)        2352 non-null   float64\n",
            " 8   (High, TSLA)       2352 non-null   float64\n",
            " 9   (Low, AAPL)        2352 non-null   float64\n",
            " 10  (Low, IBM)         2352 non-null   float64\n",
            " 11  (Low, TSLA)        2352 non-null   float64\n",
            " 12  (Open, AAPL)       2352 non-null   float64\n",
            " 13  (Open, IBM)        2352 non-null   float64\n",
            " 14  (Open, TSLA)       2352 non-null   float64\n",
            " 15  (Volume, AAPL)     2352 non-null   int64  \n",
            " 16  (Volume, IBM)      2352 non-null   int64  \n",
            " 17  (Volume, TSLA)     2352 non-null   int64  \n",
            "dtypes: float64(15), int64(3)\n",
            "memory usage: 349.1 KB\n"
          ]
        }
      ],
      "source": [
        "df.info()"
      ]
    },
    {
      "cell_type": "code",
      "source": [
        "print(df.head())"
      ],
      "metadata": {
        "colab": {
          "base_uri": "https://localhost:8080/"
        },
        "id": "OA_gNnVZW-A8",
        "outputId": "9463c2aa-1e2c-479e-8a32-a38a514e7de4"
      },
      "execution_count": 18,
      "outputs": [
        {
          "output_type": "stream",
          "name": "stdout",
          "text": [
            "Price       Adj Close                             Close              \\\n",
            "Ticker           AAPL         IBM       TSLA       AAPL         IBM   \n",
            "Date                                                                  \n",
            "2015-01-02  24.435266  103.354843  14.620667  27.332500  154.933075   \n",
            "2015-01-05  23.746893  101.728546  14.006000  26.562500  152.495224   \n",
            "2015-01-06  23.749125   99.534668  14.085333  26.565001  149.206497   \n",
            "2015-01-07  24.082134   98.884155  14.063333  26.937500  148.231354   \n",
            "2015-01-08  25.007433  101.033386  14.041333  27.972500  151.453156   \n",
            "\n",
            "Price                       High                               Low  \\\n",
            "Ticker           TSLA       AAPL         IBM       TSLA       AAPL   \n",
            "Date                                                                 \n",
            "2015-01-02  14.620667  27.860001  156.128113  14.883333  26.837500   \n",
            "2015-01-05  14.006000  27.162500  154.177826  14.433333  26.352501   \n",
            "2015-01-06  14.085333  26.857500  152.925430  14.280000  26.157499   \n",
            "2015-01-07  14.063333  27.049999  150.286804  14.318667  26.674999   \n",
            "2015-01-08  14.041333  28.037500  152.045883  14.253333  27.174999   \n",
            "\n",
            "Price                                   Open                         \\\n",
            "Ticker             IBM       TSLA       AAPL         IBM       TSLA   \n",
            "Date                                                                  \n",
            "2015-01-02  153.919693  14.217333  27.847500  154.216064  14.858000   \n",
            "2015-01-05  152.189301  13.810667  27.072500  154.177826  14.303333   \n",
            "2015-01-06  148.346085  13.614000  26.635000  152.648178  14.004000   \n",
            "2015-01-07  147.256210  13.985333  26.799999  150.286804  14.223333   \n",
            "2015-01-08  148.709366  14.000667  27.307501  149.369019  14.187333   \n",
            "\n",
            "Price          Volume                     \n",
            "Ticker           AAPL      IBM      TSLA  \n",
            "Date                                      \n",
            "2015-01-02  212818400  5779673  71466000  \n",
            "2015-01-05  257142000  5104898  80527500  \n",
            "2015-01-06  263188400  6429448  93928500  \n",
            "2015-01-07  160423600  4918083  44526000  \n",
            "2015-01-08  237458000  4431693  51637500  \n"
          ]
        }
      ]
    },
    {
      "cell_type": "markdown",
      "metadata": {
        "id": "fkCxRMwrUsvw"
      },
      "source": [
        "### Step 6. Print all the Items axis values\n",
        "#### To learn more about the Panel structure go to [documentation](http://pandas.pydata.org/pandas-docs/stable/dsintro.html#panel)"
      ]
    },
    {
      "cell_type": "markdown",
      "source": [],
      "metadata": {
        "id": "IeVXDf1dASrg"
      }
    },
    {
      "cell_type": "code",
      "execution_count": 17,
      "metadata": {
        "id": "q0Fb3RxqUsvw",
        "colab": {
          "base_uri": "https://localhost:8080/"
        },
        "outputId": "bca892b1-c4d8-40b6-af71-38a6a9a1c49d"
      },
      "outputs": [
        {
          "output_type": "stream",
          "name": "stdout",
          "text": [
            "DatetimeIndex(['2015-01-02', '2015-01-05', '2015-01-06', '2015-01-07',\n",
            "               '2015-01-08', '2015-01-09', '2015-01-12', '2015-01-13',\n",
            "               '2015-01-14', '2015-01-15',\n",
            "               ...\n",
            "               '2024-04-24', '2024-04-25', '2024-04-26', '2024-04-29',\n",
            "               '2024-04-30', '2024-05-01', '2024-05-02', '2024-05-03',\n",
            "               '2024-05-06', '2024-05-07'],\n",
            "              dtype='datetime64[ns]', name='Date', length=2352, freq=None)\n"
          ]
        }
      ],
      "source": [
        "print(df.index)"
      ]
    },
    {
      "cell_type": "markdown",
      "metadata": {
        "id": "CbjtaSnnUsvw"
      },
      "source": [
        "### Step 7. Good, now we know  the data avaiable. Create a dataFrame called vol, with the Volume values."
      ]
    },
    {
      "cell_type": "code",
      "source": [
        "df.columns"
      ],
      "metadata": {
        "colab": {
          "base_uri": "https://localhost:8080/"
        },
        "id": "J98sn9hJXYfZ",
        "outputId": "2b6bb10b-f0c8-4b56-c817-8764cf8a0374"
      },
      "execution_count": 19,
      "outputs": [
        {
          "output_type": "execute_result",
          "data": {
            "text/plain": [
              "MultiIndex([('Adj Close', 'AAPL'),\n",
              "            ('Adj Close',  'IBM'),\n",
              "            ('Adj Close', 'TSLA'),\n",
              "            (    'Close', 'AAPL'),\n",
              "            (    'Close',  'IBM'),\n",
              "            (    'Close', 'TSLA'),\n",
              "            (     'High', 'AAPL'),\n",
              "            (     'High',  'IBM'),\n",
              "            (     'High', 'TSLA'),\n",
              "            (      'Low', 'AAPL'),\n",
              "            (      'Low',  'IBM'),\n",
              "            (      'Low', 'TSLA'),\n",
              "            (     'Open', 'AAPL'),\n",
              "            (     'Open',  'IBM'),\n",
              "            (     'Open', 'TSLA'),\n",
              "            (   'Volume', 'AAPL'),\n",
              "            (   'Volume',  'IBM'),\n",
              "            (   'Volume', 'TSLA')],\n",
              "           names=['Price', 'Ticker'])"
            ]
          },
          "metadata": {},
          "execution_count": 19
        }
      ]
    },
    {
      "cell_type": "code",
      "execution_count": 25,
      "metadata": {
        "id": "W6zkDgoLUsvw",
        "colab": {
          "base_uri": "https://localhost:8080/"
        },
        "outputId": "121a41b6-0b91-4bd0-c3fc-1041ba03b111"
      },
      "outputs": [
        {
          "output_type": "stream",
          "name": "stdout",
          "text": [
            "Ticker           AAPL      IBM      TSLA\n",
            "Date                                    \n",
            "2015-01-02  212818400  5779673  71466000\n",
            "2015-01-05  257142000  5104898  80527500\n",
            "2015-01-06  263188400  6429448  93928500\n",
            "2015-01-07  160423600  4918083  44526000\n",
            "2015-01-08  237458000  4431693  51637500\n",
            "...               ...      ...       ...\n",
            "2024-05-01   50383100  4029900  92829700\n",
            "2024-05-02   94214900  3829900  89148000\n",
            "2024-05-03  163224100  3400400  75491500\n",
            "2024-05-06   78569700  4222300  84390300\n",
            "2024-05-07   77237500  3154800  74770200\n",
            "\n",
            "[2352 rows x 3 columns]\n"
          ]
        }
      ],
      "source": [
        "volumes = df['Volume']\n",
        "print(pd.DataFrame(volumes))"
      ]
    },
    {
      "cell_type": "markdown",
      "metadata": {
        "id": "rWDoZbvoUsvx"
      },
      "source": [
        "### Step 8. Aggregate the data of Volume to weekly\n",
        "#### Hint: Be careful to not sum data from the same week of 2015 and other years."
      ]
    },
    {
      "cell_type": "code",
      "execution_count": null,
      "metadata": {
        "scrolled": true,
        "id": "_mLCscFuUsvx"
      },
      "outputs": [],
      "source": []
    },
    {
      "cell_type": "markdown",
      "metadata": {
        "id": "GSAX28uiUsvx"
      },
      "source": [
        "### Step 9. Find all the volume traded in the year of 2015"
      ]
    },
    {
      "cell_type": "code",
      "execution_count": null,
      "metadata": {
        "id": "LCkr-cn3Usvx"
      },
      "outputs": [],
      "source": []
    },
    {
      "cell_type": "markdown",
      "metadata": {
        "id": "6QmJhxz6Usvy"
      },
      "source": [
        "### BONUS: Create your own question and answer it."
      ]
    },
    {
      "cell_type": "code",
      "execution_count": 27,
      "metadata": {
        "collapsed": true,
        "id": "wtNKESdgUsvy",
        "colab": {
          "base_uri": "https://localhost:8080/"
        },
        "outputId": "4cbb07a3-79b4-4b84-b109-677dbb6cbbb9"
      },
      "outputs": [
        {
          "output_type": "execute_result",
          "data": {
            "text/plain": [
              "(2352, 18)"
            ]
          },
          "metadata": {},
          "execution_count": 27
        }
      ],
      "source": [
        "#What is the shape of this dataset?\n",
        "df.shape"
      ]
    },
    {
      "cell_type": "code",
      "source": [],
      "metadata": {
        "id": "jQG7jYT2Z-49"
      },
      "execution_count": null,
      "outputs": []
    }
  ],
  "metadata": {
    "kernelspec": {
      "display_name": "Python 2",
      "language": "python",
      "name": "python2"
    },
    "language_info": {
      "codemirror_mode": {
        "name": "ipython",
        "version": 2
      },
      "file_extension": ".py",
      "mimetype": "text/x-python",
      "name": "python",
      "nbconvert_exporter": "python",
      "pygments_lexer": "ipython2",
      "version": "2.7.11"
    },
    "colab": {
      "provenance": [],
      "include_colab_link": true
    }
  },
  "nbformat": 4,
  "nbformat_minor": 0
}