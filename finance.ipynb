{
  "cells": [
    {
      "cell_type": "markdown",
      "metadata": {
        "id": "view-in-github",
        "colab_type": "text"
      },
      "source": [
        "<a href=\"https://colab.research.google.com/github/Mercymerine/Pandas-Analysis/blob/main/finance.ipynb\" target=\"_parent\"><img src=\"https://colab.research.google.com/assets/colab-badge.svg\" alt=\"Open In Colab\"/></a>"
      ]
    },
    {
      "cell_type": "markdown",
      "metadata": {
        "id": "HHEvW6fzUsvq"
      },
      "source": [
        "# Getting Financial Data - Google Finance"
      ]
    },
    {
      "cell_type": "markdown",
      "metadata": {
        "id": "PbxyZNcwUsvt"
      },
      "source": [
        "### Introduction:\n",
        "\n",
        "This time you will get data from a website.\n",
        "\n",
        "\n",
        "### Step 1. Import the necessary libraries"
      ]
    },
    {
      "cell_type": "code",
      "execution_count": null,
      "metadata": {
        "id": "Yf-7l-onUsvt"
      },
      "outputs": [],
      "source": [
        "import pandas as pd\n",
        "import yfinance as yf\n",
        "from datetime import datetime"
      ]
    },
    {
      "cell_type": "markdown",
      "metadata": {
        "id": "XXadOpijUsvu"
      },
      "source": [
        "### Step 2. Create your time range (start and end variables). The start date should be 01/01/2015 and the end should today (whatever your today is)"
      ]
    },
    {
      "cell_type": "code",
      "execution_count": null,
      "metadata": {
        "id": "mU-RDssvUsvu"
      },
      "outputs": [],
      "source": [
        "start_date = '2015-01-01'\n",
        "end_date = datetime.today().strftime('2024-05-08')"
      ]
    },
    {
      "cell_type": "markdown",
      "metadata": {
        "id": "fNvZBH4jUsvu"
      },
      "source": [
        "### Step 3. Select the Apple, Tesla, Twitter, IBM, LinkedIn stocks symbols and assign them to a variable called stocks"
      ]
    },
    {
      "cell_type": "code",
      "execution_count": null,
      "metadata": {
        "id": "lBAsYfXRUsvv"
      },
      "outputs": [],
      "source": [
        "tickers = ['AAPL', 'TSLA', 'IBM', ]"
      ]
    },
    {
      "cell_type": "markdown",
      "metadata": {
        "id": "6iTKbeH-Usvv"
      },
      "source": [
        "### Step 4. Read the data from google, assign to df and print it"
      ]
    },
    {
      "cell_type": "code",
      "execution_count": null,
      "metadata": {
        "id": "mHvSUmZgUsvv",
        "colab": {
          "base_uri": "https://localhost:8080/"
        },
        "outputId": "bbbcb1cf-85b4-4c5d-c235-b2a72979f3e6"
      },
      "outputs": [
        {
          "output_type": "stream",
          "name": "stderr",
          "text": [
            "[*********************100%%**********************]  3 of 3 completed\n"
          ]
        }
      ],
      "source": [
        "df = yf.download(tickers, start=start_date, end=end_date)"
      ]
    },
    {
      "cell_type": "markdown",
      "metadata": {
        "id": "2iF2YL4-Usvv"
      },
      "source": [
        "### Step 5.  What is the type of structure of df ?"
      ]
    },
    {
      "cell_type": "code",
      "execution_count": null,
      "metadata": {
        "id": "rpans4xTUsvv",
        "colab": {
          "base_uri": "https://localhost:8080/"
        },
        "outputId": "acc59d89-c8e0-4515-8c7b-94243c53862d"
      },
      "outputs": [
        {
          "output_type": "stream",
          "name": "stdout",
          "text": [
            "<class 'pandas.core.frame.DataFrame'>\n",
            "DatetimeIndex: 2352 entries, 2015-01-02 to 2024-05-07\n",
            "Data columns (total 18 columns):\n",
            " #   Column             Non-Null Count  Dtype  \n",
            "---  ------             --------------  -----  \n",
            " 0   (Adj Close, AAPL)  2352 non-null   float64\n",
            " 1   (Adj Close, IBM)   2352 non-null   float64\n",
            " 2   (Adj Close, TSLA)  2352 non-null   float64\n",
            " 3   (Close, AAPL)      2352 non-null   float64\n",
            " 4   (Close, IBM)       2352 non-null   float64\n",
            " 5   (Close, TSLA)      2352 non-null   float64\n",
            " 6   (High, AAPL)       2352 non-null   float64\n",
            " 7   (High, IBM)        2352 non-null   float64\n",
            " 8   (High, TSLA)       2352 non-null   float64\n",
            " 9   (Low, AAPL)        2352 non-null   float64\n",
            " 10  (Low, IBM)         2352 non-null   float64\n",
            " 11  (Low, TSLA)        2352 non-null   float64\n",
            " 12  (Open, AAPL)       2352 non-null   float64\n",
            " 13  (Open, IBM)        2352 non-null   float64\n",
            " 14  (Open, TSLA)       2352 non-null   float64\n",
            " 15  (Volume, AAPL)     2352 non-null   int64  \n",
            " 16  (Volume, IBM)      2352 non-null   int64  \n",
            " 17  (Volume, TSLA)     2352 non-null   int64  \n",
            "dtypes: float64(15), int64(3)\n",
            "memory usage: 349.1 KB\n"
          ]
        }
      ],
      "source": [
        "df.info()"
      ]
    },
    {
      "cell_type": "code",
      "source": [
        "print(df.head())"
      ],
      "metadata": {
        "colab": {
          "base_uri": "https://localhost:8080/"
        },
        "id": "OA_gNnVZW-A8",
        "outputId": "9463c2aa-1e2c-479e-8a32-a38a514e7de4"
      },
      "execution_count": null,
      "outputs": [
        {
          "output_type": "stream",
          "name": "stdout",
          "text": [
            "Price       Adj Close                             Close              \\\n",
            "Ticker           AAPL         IBM       TSLA       AAPL         IBM   \n",
            "Date                                                                  \n",
            "2015-01-02  24.435266  103.354843  14.620667  27.332500  154.933075   \n",
            "2015-01-05  23.746893  101.728546  14.006000  26.562500  152.495224   \n",
            "2015-01-06  23.749125   99.534668  14.085333  26.565001  149.206497   \n",
            "2015-01-07  24.082134   98.884155  14.063333  26.937500  148.231354   \n",
            "2015-01-08  25.007433  101.033386  14.041333  27.972500  151.453156   \n",
            "\n",
            "Price                       High                               Low  \\\n",
            "Ticker           TSLA       AAPL         IBM       TSLA       AAPL   \n",
            "Date                                                                 \n",
            "2015-01-02  14.620667  27.860001  156.128113  14.883333  26.837500   \n",
            "2015-01-05  14.006000  27.162500  154.177826  14.433333  26.352501   \n",
            "2015-01-06  14.085333  26.857500  152.925430  14.280000  26.157499   \n",
            "2015-01-07  14.063333  27.049999  150.286804  14.318667  26.674999   \n",
            "2015-01-08  14.041333  28.037500  152.045883  14.253333  27.174999   \n",
            "\n",
            "Price                                   Open                         \\\n",
            "Ticker             IBM       TSLA       AAPL         IBM       TSLA   \n",
            "Date                                                                  \n",
            "2015-01-02  153.919693  14.217333  27.847500  154.216064  14.858000   \n",
            "2015-01-05  152.189301  13.810667  27.072500  154.177826  14.303333   \n",
            "2015-01-06  148.346085  13.614000  26.635000  152.648178  14.004000   \n",
            "2015-01-07  147.256210  13.985333  26.799999  150.286804  14.223333   \n",
            "2015-01-08  148.709366  14.000667  27.307501  149.369019  14.187333   \n",
            "\n",
            "Price          Volume                     \n",
            "Ticker           AAPL      IBM      TSLA  \n",
            "Date                                      \n",
            "2015-01-02  212818400  5779673  71466000  \n",
            "2015-01-05  257142000  5104898  80527500  \n",
            "2015-01-06  263188400  6429448  93928500  \n",
            "2015-01-07  160423600  4918083  44526000  \n",
            "2015-01-08  237458000  4431693  51637500  \n"
          ]
        }
      ]
    },
    {
      "cell_type": "markdown",
      "metadata": {
        "id": "fkCxRMwrUsvw"
      },
      "source": [
        "### Step 6. Print all the Items axis values\n",
        "#### To learn more about the Panel structure go to [documentation](http://pandas.pydata.org/pandas-docs/stable/dsintro.html#panel)"
      ]
    },
    {
      "cell_type": "markdown",
      "source": [],
      "metadata": {
        "id": "IeVXDf1dASrg"
      }
    },
    {
      "cell_type": "code",
      "execution_count": null,
      "metadata": {
        "id": "q0Fb3RxqUsvw",
        "colab": {
          "base_uri": "https://localhost:8080/"
        },
        "outputId": "bca892b1-c4d8-40b6-af71-38a6a9a1c49d"
      },
      "outputs": [
        {
          "output_type": "stream",
          "name": "stdout",
          "text": [
            "DatetimeIndex(['2015-01-02', '2015-01-05', '2015-01-06', '2015-01-07',\n",
            "               '2015-01-08', '2015-01-09', '2015-01-12', '2015-01-13',\n",
            "               '2015-01-14', '2015-01-15',\n",
            "               ...\n",
            "               '2024-04-24', '2024-04-25', '2024-04-26', '2024-04-29',\n",
            "               '2024-04-30', '2024-05-01', '2024-05-02', '2024-05-03',\n",
            "               '2024-05-06', '2024-05-07'],\n",
            "              dtype='datetime64[ns]', name='Date', length=2352, freq=None)\n"
          ]
        }
      ],
      "source": [
        "print(df.index)"
      ]
    },
    {
      "cell_type": "markdown",
      "metadata": {
        "id": "CbjtaSnnUsvw"
      },
      "source": [
        "### Step 7. Good, now we know  the data avaiable. Create a dataFrame called vol, with the Volume values."
      ]
    },
    {
      "cell_type": "code",
      "source": [
        "df.columns"
      ],
      "metadata": {
        "colab": {
          "base_uri": "https://localhost:8080/"
        },
        "id": "J98sn9hJXYfZ",
        "outputId": "2b6bb10b-f0c8-4b56-c817-8764cf8a0374"
      },
      "execution_count": null,
      "outputs": [
        {
          "output_type": "execute_result",
          "data": {
            "text/plain": [
              "MultiIndex([('Adj Close', 'AAPL'),\n",
              "            ('Adj Close',  'IBM'),\n",
              "            ('Adj Close', 'TSLA'),\n",
              "            (    'Close', 'AAPL'),\n",
              "            (    'Close',  'IBM'),\n",
              "            (    'Close', 'TSLA'),\n",
              "            (     'High', 'AAPL'),\n",
              "            (     'High',  'IBM'),\n",
              "            (     'High', 'TSLA'),\n",
              "            (      'Low', 'AAPL'),\n",
              "            (      'Low',  'IBM'),\n",
              "            (      'Low', 'TSLA'),\n",
              "            (     'Open', 'AAPL'),\n",
              "            (     'Open',  'IBM'),\n",
              "            (     'Open', 'TSLA'),\n",
              "            (   'Volume', 'AAPL'),\n",
              "            (   'Volume',  'IBM'),\n",
              "            (   'Volume', 'TSLA')],\n",
              "           names=['Price', 'Ticker'])"
            ]
          },
          "metadata": {},
          "execution_count": 19
        }
      ]
    },
    {
      "cell_type": "code",
      "execution_count": null,
      "metadata": {
        "id": "W6zkDgoLUsvw",
        "colab": {
          "base_uri": "https://localhost:8080/"
        },
        "outputId": "121a41b6-0b91-4bd0-c3fc-1041ba03b111"
      },
      "outputs": [
        {
          "output_type": "stream",
          "name": "stdout",
          "text": [
            "Ticker           AAPL      IBM      TSLA\n",
            "Date                                    \n",
            "2015-01-02  212818400  5779673  71466000\n",
            "2015-01-05  257142000  5104898  80527500\n",
            "2015-01-06  263188400  6429448  93928500\n",
            "2015-01-07  160423600  4918083  44526000\n",
            "2015-01-08  237458000  4431693  51637500\n",
            "...               ...      ...       ...\n",
            "2024-05-01   50383100  4029900  92829700\n",
            "2024-05-02   94214900  3829900  89148000\n",
            "2024-05-03  163224100  3400400  75491500\n",
            "2024-05-06   78569700  4222300  84390300\n",
            "2024-05-07   77237500  3154800  74770200\n",
            "\n",
            "[2352 rows x 3 columns]\n"
          ]
        }
      ],
      "source": [
        "volumes = df['Volume']\n",
        "print(pd.DataFrame(volumes))"
      ]
    },
    {
      "cell_type": "markdown",
      "metadata": {
        "id": "rWDoZbvoUsvx"
      },
      "source": [
        "### Step 8. Aggregate the data of Volume to weekly\n",
        "#### Hint: Be careful to not sum data from the same week of 2015 and other years."
      ]
    },
    {
      "cell_type": "code",
      "execution_count": 31,
      "metadata": {
        "scrolled": true,
        "id": "_mLCscFuUsvx",
        "colab": {
          "base_uri": "https://localhost:8080/"
        },
        "outputId": "da259c90-1b35-4802-cefc-58659693681a"
      },
      "outputs": [
        {
          "output_type": "stream",
          "name": "stdout",
          "text": [
            "Price           Volume                     \n",
            "Ticker            AAPL       IBM       TSLA\n",
            "Date                                       \n",
            "2015-01-04   212818400   5779673   71466000\n",
            "2015-01-11  1133010000  25578884  340644000\n",
            "2015-01-18  1216906400  24329751  461988000\n",
            "2015-01-25   794948000  32682062  243175500\n",
            "2015-02-01  1863370800  34442689  235803000\n",
            "2015-02-08  1083029200  23472449  285714000\n",
            "2015-02-15  1212827200  19000590  607089000\n",
            "2015-02-22   777419600  14759373  267441000\n",
            "2015-03-01  1472864800  23996705  440518500\n",
            "2015-03-08   987754000  22089218  422487000\n",
            "2015-03-15  1306056400  27338465  403123500\n",
            "2015-03-22  1066691600  26866615  421327500\n",
            "2015-03-29   837305200  24663634  371172000\n",
            "2015-04-05   648127200  17537027  358816500\n",
            "2015-04-12   728830000  14557391  464620500\n",
            "2015-04-19   684744400  18345061  192984000\n",
            "2015-04-26   829762800  37071914  310407000\n",
            "2015-05-03  1683889200  22885120  463315500\n",
            "2015-05-10  1087568000  17571546  444397500\n",
            "2015-05-17   833206000  14054684  373491000\n",
            "2015-05-24   869189600  12488404  224650500\n",
            "2015-05-31   792594400  13014331  215152500\n",
            "2015-06-07   683363200  14505614  178455000\n",
            "2015-06-14   880458400  19208953  218235000\n",
            "2015-06-21   794100800  21718516  223942500\n",
            "2015-06-28   782376000  21903659  262977000\n",
            "2015-07-05   603927600  13576243  237463500\n",
            "2015-07-12  1102873200  18978624  335896500\n",
            "2015-07-19   756979600  17926975  202644000\n",
            "2015-07-26  1377076000  38832018  288838500\n",
            "2015-08-02   766394400  16088002  234559500\n",
            "2015-08-09  1540002400  21075645  462262500\n",
            "2015-08-16  1378868800  17887227  318492000\n",
            "2015-08-23  1282036000  20760904  397080000\n",
            "2015-08-30  2001452000  34034330  480624000\n",
            "2015-09-06  1192776800  22407099  340023000\n",
            "2015-09-13  1010650800  14558124  173832000\n",
            "2015-09-20  1109104000  21675003  263856000\n",
            "2015-09-27   970785200  17591628  294105000\n",
            "2015-10-04  1255585200  20880565  337963500\n",
            "2015-10-11  1047091200  20351186  420310500\n",
            "2015-10-18   739540000  18259185  289363500\n",
            "2015-10-25   886172800  43853027  429301500\n",
            "2015-11-01  1289448800  36300069  238249500\n",
            "2015-11-08   780813600  22520692  478933500\n",
            "2015-11-15   866221200  26229915  272428500\n",
            "2015-11-22   759924800  22055015  221866500\n",
            "2015-11-29   438881600  13806781  164200500\n",
            "2015-12-06   827063200  24002877  223327500\n",
            "2015-12-13   755416000  22338062  213450000\n",
            "2015-12-20  1260425600  29124197  247329000\n",
            "2015-12-27   506431200  17302304   92665500\n",
            "2016-01-03   495046000  14161375  160807500\n"
          ]
        }
      ],
      "source": [
        "df_2015 = df.loc['2015']\n",
        "\n",
        "weekly_volume = df_2015.groupby(pd.Grouper(freq='W'))['Volume'].sum()\n",
        "print(weekly_volume)"
      ]
    },
    {
      "cell_type": "markdown",
      "metadata": {
        "id": "GSAX28uiUsvx"
      },
      "source": [
        "### Step 9. Find all the volume traded in the year of 2015"
      ]
    },
    {
      "cell_type": "code",
      "execution_count": 30,
      "metadata": {
        "id": "LCkr-cn3Usvx",
        "colab": {
          "base_uri": "https://localhost:8080/"
        },
        "outputId": "c526e813-2f1b-41c2-f928-80a0b9d5c981"
      },
      "outputs": [
        {
          "output_type": "stream",
          "name": "stdout",
          "text": [
            "Ticker\n",
            "AAPL    52264199600\n",
            "IBM      1156439400\n",
            "TSLA    16323267000\n",
            "dtype: int64\n"
          ]
        }
      ],
      "source": [
        "df_2015 = df.loc['2015']\n",
        "#print(df_2015)\n",
        "\n",
        "total_volume = df_2015['Volume'].sum()\n",
        "print(total_volume)"
      ]
    },
    {
      "cell_type": "markdown",
      "metadata": {
        "id": "6QmJhxz6Usvy"
      },
      "source": [
        "### BONUS: Create your own question and answer it."
      ]
    },
    {
      "cell_type": "code",
      "execution_count": null,
      "metadata": {
        "collapsed": true,
        "id": "wtNKESdgUsvy",
        "colab": {
          "base_uri": "https://localhost:8080/"
        },
        "outputId": "4cbb07a3-79b4-4b84-b109-677dbb6cbbb9"
      },
      "outputs": [
        {
          "output_type": "execute_result",
          "data": {
            "text/plain": [
              "(2352, 18)"
            ]
          },
          "metadata": {},
          "execution_count": 27
        }
      ],
      "source": [
        "#What is the shape of this dataset?\n",
        "df.shape"
      ]
    },
    {
      "cell_type": "code",
      "source": [],
      "metadata": {
        "id": "jQG7jYT2Z-49"
      },
      "execution_count": null,
      "outputs": []
    }
  ],
  "metadata": {
    "kernelspec": {
      "display_name": "Python 2",
      "language": "python",
      "name": "python2"
    },
    "language_info": {
      "codemirror_mode": {
        "name": "ipython",
        "version": 2
      },
      "file_extension": ".py",
      "mimetype": "text/x-python",
      "name": "python",
      "nbconvert_exporter": "python",
      "pygments_lexer": "ipython2",
      "version": "2.7.11"
    },
    "colab": {
      "provenance": [],
      "include_colab_link": true
    }
  },
  "nbformat": 4,
  "nbformat_minor": 0
}