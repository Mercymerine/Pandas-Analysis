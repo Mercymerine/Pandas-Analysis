{
  "cells": [
    {
      "cell_type": "markdown",
      "metadata": {
        "id": "view-in-github",
        "colab_type": "text"
      },
      "source": [
        "<a href=\"https://colab.research.google.com/github/Mercymerine/Pandas-Analysis/blob/main/us_investors.ipynb\" target=\"_parent\"><img src=\"https://colab.research.google.com/assets/colab-badge.svg\" alt=\"Open In Colab\"/></a>"
      ]
    },
    {
      "cell_type": "markdown",
      "metadata": {
        "id": "Sdt4pap7U8lX"
      },
      "source": [
        "# Investor - Flow of Funds - US"
      ]
    },
    {
      "cell_type": "markdown",
      "metadata": {
        "id": "yAqwoJJUU8la"
      },
      "source": [
        "### Introduction:\n",
        "\n",
        "Special thanks to: https://github.com/rgrp for sharing the dataset.\n",
        "\n",
        "### Step 1. Import the necessary libraries"
      ]
    },
    {
      "cell_type": "code",
      "execution_count": 1,
      "metadata": {
        "id": "df8Y4yrWU8la"
      },
      "outputs": [],
      "source": [
        "import pandas as pd"
      ]
    },
    {
      "cell_type": "markdown",
      "metadata": {
        "id": "AthAG_BMU8lb"
      },
      "source": [
        "### Step 2. Import the dataset from this [address](https://raw.githubusercontent.com/datasets/investor-flow-of-funds-us/master/data/weekly.csv)."
      ]
    },
    {
      "cell_type": "markdown",
      "metadata": {
        "id": "WUnLaI_2U8lb"
      },
      "source": [
        "### Step 3. Assign it to a variable called"
      ]
    },
    {
      "cell_type": "code",
      "execution_count": 4,
      "metadata": {
        "colab": {
          "base_uri": "https://localhost:8080/",
          "height": 310
        },
        "id": "0AcZl3AXU8lc",
        "outputId": "9ed4848e-95bf-4448-c57a-bdda32e4a138"
      },
      "outputs": [
        {
          "output_type": "execute_result",
          "data": {
            "text/plain": [
              "         Date  Total Equity  Domestic Equity  World Equity  Hybrid  \\\n",
              "0  2012-12-05         -7426            -6060         -1367     -74   \n",
              "1  2012-12-12         -8783            -7520         -1263     123   \n",
              "2  2012-12-19         -5496            -5470           -26     -73   \n",
              "3  2012-12-26         -4451            -4076          -375     550   \n",
              "4  2013-01-02        -11156            -9622         -1533    -158   \n",
              "\n",
              "   Total Bond  Taxable Bond  Municipal Bond  Total  \n",
              "0        5317          4210            1107  -2183  \n",
              "1        1818          1598             219  -6842  \n",
              "2         103          3472           -3369  -5466  \n",
              "3        2610          3333            -722  -1291  \n",
              "4        2383          2103             280  -8931  "
            ],
            "text/html": [
              "\n",
              "  <div id=\"df-c208b4be-3358-4cfb-be10-835732986587\" class=\"colab-df-container\">\n",
              "    <div>\n",
              "<style scoped>\n",
              "    .dataframe tbody tr th:only-of-type {\n",
              "        vertical-align: middle;\n",
              "    }\n",
              "\n",
              "    .dataframe tbody tr th {\n",
              "        vertical-align: top;\n",
              "    }\n",
              "\n",
              "    .dataframe thead th {\n",
              "        text-align: right;\n",
              "    }\n",
              "</style>\n",
              "<table border=\"1\" class=\"dataframe\">\n",
              "  <thead>\n",
              "    <tr style=\"text-align: right;\">\n",
              "      <th></th>\n",
              "      <th>Date</th>\n",
              "      <th>Total Equity</th>\n",
              "      <th>Domestic Equity</th>\n",
              "      <th>World Equity</th>\n",
              "      <th>Hybrid</th>\n",
              "      <th>Total Bond</th>\n",
              "      <th>Taxable Bond</th>\n",
              "      <th>Municipal Bond</th>\n",
              "      <th>Total</th>\n",
              "    </tr>\n",
              "  </thead>\n",
              "  <tbody>\n",
              "    <tr>\n",
              "      <th>0</th>\n",
              "      <td>2012-12-05</td>\n",
              "      <td>-7426</td>\n",
              "      <td>-6060</td>\n",
              "      <td>-1367</td>\n",
              "      <td>-74</td>\n",
              "      <td>5317</td>\n",
              "      <td>4210</td>\n",
              "      <td>1107</td>\n",
              "      <td>-2183</td>\n",
              "    </tr>\n",
              "    <tr>\n",
              "      <th>1</th>\n",
              "      <td>2012-12-12</td>\n",
              "      <td>-8783</td>\n",
              "      <td>-7520</td>\n",
              "      <td>-1263</td>\n",
              "      <td>123</td>\n",
              "      <td>1818</td>\n",
              "      <td>1598</td>\n",
              "      <td>219</td>\n",
              "      <td>-6842</td>\n",
              "    </tr>\n",
              "    <tr>\n",
              "      <th>2</th>\n",
              "      <td>2012-12-19</td>\n",
              "      <td>-5496</td>\n",
              "      <td>-5470</td>\n",
              "      <td>-26</td>\n",
              "      <td>-73</td>\n",
              "      <td>103</td>\n",
              "      <td>3472</td>\n",
              "      <td>-3369</td>\n",
              "      <td>-5466</td>\n",
              "    </tr>\n",
              "    <tr>\n",
              "      <th>3</th>\n",
              "      <td>2012-12-26</td>\n",
              "      <td>-4451</td>\n",
              "      <td>-4076</td>\n",
              "      <td>-375</td>\n",
              "      <td>550</td>\n",
              "      <td>2610</td>\n",
              "      <td>3333</td>\n",
              "      <td>-722</td>\n",
              "      <td>-1291</td>\n",
              "    </tr>\n",
              "    <tr>\n",
              "      <th>4</th>\n",
              "      <td>2013-01-02</td>\n",
              "      <td>-11156</td>\n",
              "      <td>-9622</td>\n",
              "      <td>-1533</td>\n",
              "      <td>-158</td>\n",
              "      <td>2383</td>\n",
              "      <td>2103</td>\n",
              "      <td>280</td>\n",
              "      <td>-8931</td>\n",
              "    </tr>\n",
              "  </tbody>\n",
              "</table>\n",
              "</div>\n",
              "    <div class=\"colab-df-buttons\">\n",
              "\n",
              "  <div class=\"colab-df-container\">\n",
              "    <button class=\"colab-df-convert\" onclick=\"convertToInteractive('df-c208b4be-3358-4cfb-be10-835732986587')\"\n",
              "            title=\"Convert this dataframe to an interactive table.\"\n",
              "            style=\"display:none;\">\n",
              "\n",
              "  <svg xmlns=\"http://www.w3.org/2000/svg\" height=\"24px\" viewBox=\"0 -960 960 960\">\n",
              "    <path d=\"M120-120v-720h720v720H120Zm60-500h600v-160H180v160Zm220 220h160v-160H400v160Zm0 220h160v-160H400v160ZM180-400h160v-160H180v160Zm440 0h160v-160H620v160ZM180-180h160v-160H180v160Zm440 0h160v-160H620v160Z\"/>\n",
              "  </svg>\n",
              "    </button>\n",
              "\n",
              "  <style>\n",
              "    .colab-df-container {\n",
              "      display:flex;\n",
              "      gap: 12px;\n",
              "    }\n",
              "\n",
              "    .colab-df-convert {\n",
              "      background-color: #E8F0FE;\n",
              "      border: none;\n",
              "      border-radius: 50%;\n",
              "      cursor: pointer;\n",
              "      display: none;\n",
              "      fill: #1967D2;\n",
              "      height: 32px;\n",
              "      padding: 0 0 0 0;\n",
              "      width: 32px;\n",
              "    }\n",
              "\n",
              "    .colab-df-convert:hover {\n",
              "      background-color: #E2EBFA;\n",
              "      box-shadow: 0px 1px 2px rgba(60, 64, 67, 0.3), 0px 1px 3px 1px rgba(60, 64, 67, 0.15);\n",
              "      fill: #174EA6;\n",
              "    }\n",
              "\n",
              "    .colab-df-buttons div {\n",
              "      margin-bottom: 4px;\n",
              "    }\n",
              "\n",
              "    [theme=dark] .colab-df-convert {\n",
              "      background-color: #3B4455;\n",
              "      fill: #D2E3FC;\n",
              "    }\n",
              "\n",
              "    [theme=dark] .colab-df-convert:hover {\n",
              "      background-color: #434B5C;\n",
              "      box-shadow: 0px 1px 3px 1px rgba(0, 0, 0, 0.15);\n",
              "      filter: drop-shadow(0px 1px 2px rgba(0, 0, 0, 0.3));\n",
              "      fill: #FFFFFF;\n",
              "    }\n",
              "  </style>\n",
              "\n",
              "    <script>\n",
              "      const buttonEl =\n",
              "        document.querySelector('#df-c208b4be-3358-4cfb-be10-835732986587 button.colab-df-convert');\n",
              "      buttonEl.style.display =\n",
              "        google.colab.kernel.accessAllowed ? 'block' : 'none';\n",
              "\n",
              "      async function convertToInteractive(key) {\n",
              "        const element = document.querySelector('#df-c208b4be-3358-4cfb-be10-835732986587');\n",
              "        const dataTable =\n",
              "          await google.colab.kernel.invokeFunction('convertToInteractive',\n",
              "                                                    [key], {});\n",
              "        if (!dataTable) return;\n",
              "\n",
              "        const docLinkHtml = 'Like what you see? Visit the ' +\n",
              "          '<a target=\"_blank\" href=https://colab.research.google.com/notebooks/data_table.ipynb>data table notebook</a>'\n",
              "          + ' to learn more about interactive tables.';\n",
              "        element.innerHTML = '';\n",
              "        dataTable['output_type'] = 'display_data';\n",
              "        await google.colab.output.renderOutput(dataTable, element);\n",
              "        const docLink = document.createElement('div');\n",
              "        docLink.innerHTML = docLinkHtml;\n",
              "        element.appendChild(docLink);\n",
              "      }\n",
              "    </script>\n",
              "  </div>\n",
              "\n",
              "\n",
              "<div id=\"df-dcf65455-4de4-440e-9414-5f189ac3071c\">\n",
              "  <button class=\"colab-df-quickchart\" onclick=\"quickchart('df-dcf65455-4de4-440e-9414-5f189ac3071c')\"\n",
              "            title=\"Suggest charts\"\n",
              "            style=\"display:none;\">\n",
              "\n",
              "<svg xmlns=\"http://www.w3.org/2000/svg\" height=\"24px\"viewBox=\"0 0 24 24\"\n",
              "     width=\"24px\">\n",
              "    <g>\n",
              "        <path d=\"M19 3H5c-1.1 0-2 .9-2 2v14c0 1.1.9 2 2 2h14c1.1 0 2-.9 2-2V5c0-1.1-.9-2-2-2zM9 17H7v-7h2v7zm4 0h-2V7h2v10zm4 0h-2v-4h2v4z\"/>\n",
              "    </g>\n",
              "</svg>\n",
              "  </button>\n",
              "\n",
              "<style>\n",
              "  .colab-df-quickchart {\n",
              "      --bg-color: #E8F0FE;\n",
              "      --fill-color: #1967D2;\n",
              "      --hover-bg-color: #E2EBFA;\n",
              "      --hover-fill-color: #174EA6;\n",
              "      --disabled-fill-color: #AAA;\n",
              "      --disabled-bg-color: #DDD;\n",
              "  }\n",
              "\n",
              "  [theme=dark] .colab-df-quickchart {\n",
              "      --bg-color: #3B4455;\n",
              "      --fill-color: #D2E3FC;\n",
              "      --hover-bg-color: #434B5C;\n",
              "      --hover-fill-color: #FFFFFF;\n",
              "      --disabled-bg-color: #3B4455;\n",
              "      --disabled-fill-color: #666;\n",
              "  }\n",
              "\n",
              "  .colab-df-quickchart {\n",
              "    background-color: var(--bg-color);\n",
              "    border: none;\n",
              "    border-radius: 50%;\n",
              "    cursor: pointer;\n",
              "    display: none;\n",
              "    fill: var(--fill-color);\n",
              "    height: 32px;\n",
              "    padding: 0;\n",
              "    width: 32px;\n",
              "  }\n",
              "\n",
              "  .colab-df-quickchart:hover {\n",
              "    background-color: var(--hover-bg-color);\n",
              "    box-shadow: 0 1px 2px rgba(60, 64, 67, 0.3), 0 1px 3px 1px rgba(60, 64, 67, 0.15);\n",
              "    fill: var(--button-hover-fill-color);\n",
              "  }\n",
              "\n",
              "  .colab-df-quickchart-complete:disabled,\n",
              "  .colab-df-quickchart-complete:disabled:hover {\n",
              "    background-color: var(--disabled-bg-color);\n",
              "    fill: var(--disabled-fill-color);\n",
              "    box-shadow: none;\n",
              "  }\n",
              "\n",
              "  .colab-df-spinner {\n",
              "    border: 2px solid var(--fill-color);\n",
              "    border-color: transparent;\n",
              "    border-bottom-color: var(--fill-color);\n",
              "    animation:\n",
              "      spin 1s steps(1) infinite;\n",
              "  }\n",
              "\n",
              "  @keyframes spin {\n",
              "    0% {\n",
              "      border-color: transparent;\n",
              "      border-bottom-color: var(--fill-color);\n",
              "      border-left-color: var(--fill-color);\n",
              "    }\n",
              "    20% {\n",
              "      border-color: transparent;\n",
              "      border-left-color: var(--fill-color);\n",
              "      border-top-color: var(--fill-color);\n",
              "    }\n",
              "    30% {\n",
              "      border-color: transparent;\n",
              "      border-left-color: var(--fill-color);\n",
              "      border-top-color: var(--fill-color);\n",
              "      border-right-color: var(--fill-color);\n",
              "    }\n",
              "    40% {\n",
              "      border-color: transparent;\n",
              "      border-right-color: var(--fill-color);\n",
              "      border-top-color: var(--fill-color);\n",
              "    }\n",
              "    60% {\n",
              "      border-color: transparent;\n",
              "      border-right-color: var(--fill-color);\n",
              "    }\n",
              "    80% {\n",
              "      border-color: transparent;\n",
              "      border-right-color: var(--fill-color);\n",
              "      border-bottom-color: var(--fill-color);\n",
              "    }\n",
              "    90% {\n",
              "      border-color: transparent;\n",
              "      border-bottom-color: var(--fill-color);\n",
              "    }\n",
              "  }\n",
              "</style>\n",
              "\n",
              "  <script>\n",
              "    async function quickchart(key) {\n",
              "      const quickchartButtonEl =\n",
              "        document.querySelector('#' + key + ' button');\n",
              "      quickchartButtonEl.disabled = true;  // To prevent multiple clicks.\n",
              "      quickchartButtonEl.classList.add('colab-df-spinner');\n",
              "      try {\n",
              "        const charts = await google.colab.kernel.invokeFunction(\n",
              "            'suggestCharts', [key], {});\n",
              "      } catch (error) {\n",
              "        console.error('Error during call to suggestCharts:', error);\n",
              "      }\n",
              "      quickchartButtonEl.classList.remove('colab-df-spinner');\n",
              "      quickchartButtonEl.classList.add('colab-df-quickchart-complete');\n",
              "    }\n",
              "    (() => {\n",
              "      let quickchartButtonEl =\n",
              "        document.querySelector('#df-dcf65455-4de4-440e-9414-5f189ac3071c button');\n",
              "      quickchartButtonEl.style.display =\n",
              "        google.colab.kernel.accessAllowed ? 'block' : 'none';\n",
              "    })();\n",
              "  </script>\n",
              "</div>\n",
              "\n",
              "    </div>\n",
              "  </div>\n"
            ],
            "application/vnd.google.colaboratory.intrinsic+json": {
              "type": "dataframe",
              "variable_name": "investors",
              "summary": "{\n  \"name\": \"investors\",\n  \"rows\": 44,\n  \"fields\": [\n    {\n      \"column\": \"Date\",\n      \"properties\": {\n        \"dtype\": \"object\",\n        \"num_unique_values\": 44,\n        \"samples\": [\n          \"2015-02-11\",\n          \"2014-08-20\",\n          \"2014-08-27\"\n        ],\n        \"semantic_type\": \"\",\n        \"description\": \"\"\n      }\n    },\n    {\n      \"column\": \"Total Equity\",\n      \"properties\": {\n        \"dtype\": \"number\",\n        \"std\": 4318,\n        \"min\": -11156,\n        \"max\": 14817,\n        \"num_unique_values\": 44,\n        \"samples\": [\n          1268,\n          2671,\n          -577\n        ],\n        \"semantic_type\": \"\",\n        \"description\": \"\"\n      }\n    },\n    {\n      \"column\": \"Domestic Equity\",\n      \"properties\": {\n        \"dtype\": \"number\",\n        \"std\": 3223,\n        \"min\": -9622,\n        \"max\": 7995,\n        \"num_unique_values\": 44,\n        \"samples\": [\n          -27,\n          738,\n          -2199\n        ],\n        \"semantic_type\": \"\",\n        \"description\": \"\"\n      }\n    },\n    {\n      \"column\": \"World Equity\",\n      \"properties\": {\n        \"dtype\": \"number\",\n        \"std\": 1533,\n        \"min\": -1533,\n        \"max\": 6821,\n        \"num_unique_values\": 44,\n        \"samples\": [\n          1296,\n          1933,\n          1623\n        ],\n        \"semantic_type\": \"\",\n        \"description\": \"\"\n      }\n    },\n    {\n      \"column\": \"Hybrid\",\n      \"properties\": {\n        \"dtype\": \"number\",\n        \"std\": 670,\n        \"min\": -1057,\n        \"max\": 2888,\n        \"num_unique_values\": 44,\n        \"samples\": [\n          959,\n          821,\n          943\n        ],\n        \"semantic_type\": \"\",\n        \"description\": \"\"\n      }\n    },\n    {\n      \"column\": \"Total Bond\",\n      \"properties\": {\n        \"dtype\": \"number\",\n        \"std\": 2729,\n        \"min\": -8193,\n        \"max\": 9766,\n        \"num_unique_values\": 44,\n        \"samples\": [\n          5862,\n          4999,\n          3655\n        ],\n        \"semantic_type\": \"\",\n        \"description\": \"\"\n      }\n    },\n    {\n      \"column\": \"Taxable Bond\",\n      \"properties\": {\n        \"dtype\": \"number\",\n        \"std\": 2574,\n        \"min\": -8658,\n        \"max\": 7311,\n        \"num_unique_values\": 44,\n        \"samples\": [\n          5169,\n          4185,\n          2921\n        ],\n        \"semantic_type\": \"\",\n        \"description\": \"\"\n      }\n    },\n    {\n      \"column\": \"Municipal Bond\",\n      \"properties\": {\n        \"dtype\": \"number\",\n        \"std\": 786,\n        \"min\": -3369,\n        \"max\": 2455,\n        \"num_unique_values\": 43,\n        \"samples\": [\n          675,\n          734,\n          661\n        ],\n        \"semantic_type\": \"\",\n        \"description\": \"\"\n      }\n    },\n    {\n      \"column\": \"Total\",\n      \"properties\": {\n        \"dtype\": \"number\",\n        \"std\": 6228,\n        \"min\": -9040,\n        \"max\": 27471,\n        \"num_unique_values\": 44,\n        \"samples\": [\n          8089,\n          8490,\n          4021\n        ],\n        \"semantic_type\": \"\",\n        \"description\": \"\"\n      }\n    }\n  ]\n}"
            }
          },
          "metadata": {},
          "execution_count": 4
        }
      ],
      "source": [
        "investors = pd.read_csv('https://raw.githubusercontent.com/datasets/investor-flow-of-funds-us/master/data/weekly.csv')\n",
        "investors.head()"
      ]
    },
    {
      "cell_type": "markdown",
      "metadata": {
        "id": "IRPhavAMU8lc"
      },
      "source": [
        "### Step 4.  What is the frequency of the dataset?"
      ]
    },
    {
      "cell_type": "code",
      "execution_count": 14,
      "metadata": {
        "colab": {
          "base_uri": "https://localhost:8080/"
        },
        "id": "X6_vHiGVU8lc",
        "outputId": "609a5c35-6cc6-432d-cacd-3825a46dd8d1"
      },
      "outputs": [
        {
          "output_type": "stream",
          "name": "stdout",
          "text": [
            "None\n"
          ]
        }
      ],
      "source": [
        "print(investors.index.freq)"
      ]
    },
    {
      "cell_type": "markdown",
      "metadata": {
        "id": "-xH9b09PU8lc"
      },
      "source": [
        "### Step 5. Set the column Date as the index."
      ]
    },
    {
      "cell_type": "code",
      "execution_count": 10,
      "metadata": {
        "colab": {
          "base_uri": "https://localhost:8080/"
        },
        "id": "K0aAy5C0U8lc",
        "outputId": "9d15fd92-c9b8-4c9b-a238-3bc9c98dd715"
      },
      "outputs": [
        {
          "output_type": "stream",
          "name": "stdout",
          "text": [
            "         Date  Total Equity  Domestic Equity  World Equity  Hybrid  \\\n",
            "0  2012-12-05         -7426            -6060         -1367     -74   \n",
            "1  2012-12-12         -8783            -7520         -1263     123   \n",
            "2  2012-12-19         -5496            -5470           -26     -73   \n",
            "3  2012-12-26         -4451            -4076          -375     550   \n",
            "4  2013-01-02        -11156            -9622         -1533    -158   \n",
            "5  2013-01-09         14817             7995          6821    2888   \n",
            "6  2014-04-02          3155              938          2217     265   \n",
            "7  2014-04-09          5761             2080          3681    1482   \n",
            "8  2014-04-16          2286              634          1652    1186   \n",
            "9  2014-04-23          3530             1392          2138    1239   \n",
            "10 2014-04-30         -3890            -3996           106     759   \n",
            "11 2014-05-07           632            -2006          2639    -340   \n",
            "12 2014-05-14         -1079            -2321          1242    1188   \n",
            "13 2014-05-21           697            -1790          2487    1216   \n",
            "14 2014-05-28         -2453            -2603           150    1108   \n",
            "15 2014-06-04          2098            -1148          3246    1123   \n",
            "16 2014-06-11          1236            -1840          3075    1159   \n",
            "17 2014-06-18          -922            -2204          1282    1060   \n",
            "18 2014-06-25           -93            -1354          1262    1246   \n",
            "19 2014-07-02         -7835            -8887          1052     636   \n",
            "20 2014-07-09           666            -1070          1736    1006   \n",
            "21 2014-07-30           118            -1171          1290    1024   \n",
            "22 2014-08-06          -471            -3073          2602    -375   \n",
            "23 2014-08-13           320             -974          1294     496   \n",
            "24 2014-08-20          2671              738          1933     821   \n",
            "25 2014-08-27          -577            -2199          1623     943   \n",
            "26 2014-09-03         -4024            -5305          1281     544   \n",
            "27 2014-09-10          1257            -1291          2548    1055   \n",
            "28 2014-11-05           -32            -1634          1602    -176   \n",
            "29 2014-11-12          1464               61          1403     963   \n",
            "30 2014-11-19         -3010            -3622           611      99   \n",
            "31 2014-11-25         -1175            -2044           869    -157   \n",
            "32 2015-01-07         -3913            -5438          1525   -1057   \n",
            "33 2015-01-14          1774              -37          1811     248   \n",
            "34 2015-01-21          1267              856           411     790   \n",
            "35 2015-01-28          4343             3455           888    1748   \n",
            "36 2015-02-04          4240             3536           703     793   \n",
            "37 2015-02-11          1268              -27          1296     959   \n",
            "38 2015-03-04           999            -1933          2932     528   \n",
            "39 2015-03-11          3911               -7          3918     851   \n",
            "40 2015-03-18          1948            -1758          3706     912   \n",
            "41 2015-03-25         -1167            -4478          3311     538   \n",
            "42 2015-04-01         -1527            -3307          1780     720   \n",
            "43 2015-04-08          1906            -1321          3227     250   \n",
            "\n",
            "    Total Bond  Taxable Bond  Municipal Bond  Total  \n",
            "0         5317          4210            1107  -2183  \n",
            "1         1818          1598             219  -6842  \n",
            "2          103          3472           -3369  -5466  \n",
            "3         2610          3333            -722  -1291  \n",
            "4         2383          2103             280  -8931  \n",
            "5         9766          7311            2455  27471  \n",
            "6         3379          3129             250   6799  \n",
            "7         1609          1448             161   8852  \n",
            "8          633           604              29   4105  \n",
            "9         1984          1453             531   6753  \n",
            "10         888           559             329  -2242  \n",
            "11        5493          4417            1076   5785  \n",
            "12        4037          3141             897   4146  \n",
            "13        2196          1398             798   4109  \n",
            "14        2041          1236             805    696  \n",
            "15         188          -470             658   3409  \n",
            "16        2112          1587             524   4506  \n",
            "17        4159          3740             419   4297  \n",
            "18        3256          2694             562   4409  \n",
            "19        2979          2704             276  -4220  \n",
            "20        2721          3203            -482   4393  \n",
            "21        1806          1119             687   2949  \n",
            "22       -8193         -8658             465  -9040  \n",
            "23        1436           539             897   2252  \n",
            "24        4999          4185             814   8490  \n",
            "25        3655          2921             734   4021  \n",
            "26        2430          1768             661  -1050  \n",
            "27        1554           711             843   3866  \n",
            "28        5813          5284             529   5604  \n",
            "29        3596          2703             893   6023  \n",
            "30        2529          1758             771   -383  \n",
            "31        2590          1821             769   1258  \n",
            "32       -3403         -4729            1326  -8373  \n",
            "33        3549          2582             967   5572  \n",
            "34        1258           220            1038   3315  \n",
            "35        5964          4689            1275  12055  \n",
            "36        3237          2274             963   8270  \n",
            "37        5862          5169             693   8089  \n",
            "38        4984          4309             675   6511  \n",
            "39        1298           999             298   6059  \n",
            "40         452           258             194   3312  \n",
            "41        2404          1701             703   1775  \n",
            "42       -1296         -1392              96  -2103  \n",
            "43        1719          1906            -187   3875  \n"
          ]
        }
      ],
      "source": [
        "investors['Date'] = pd.to_datetime(investors['Date'])\n",
        "print(investors.dtypes)"
      ]
    },
    {
      "cell_type": "code",
      "source": [
        "investors.set_index('Date', inplace=True )\n",
        "print(investors)"
      ],
      "metadata": {
        "colab": {
          "base_uri": "https://localhost:8080/"
        },
        "id": "zG5XsQAZXcPJ",
        "outputId": "b84072f7-2601-4661-b1d6-8e15111a1180"
      },
      "execution_count": 12,
      "outputs": [
        {
          "output_type": "stream",
          "name": "stdout",
          "text": [
            "            Total Equity  Domestic Equity  World Equity  Hybrid  Total Bond  \\\n",
            "Date                                                                          \n",
            "2012-12-05         -7426            -6060         -1367     -74        5317   \n",
            "2012-12-12         -8783            -7520         -1263     123        1818   \n",
            "2012-12-19         -5496            -5470           -26     -73         103   \n",
            "2012-12-26         -4451            -4076          -375     550        2610   \n",
            "2013-01-02        -11156            -9622         -1533    -158        2383   \n",
            "2013-01-09         14817             7995          6821    2888        9766   \n",
            "2014-04-02          3155              938          2217     265        3379   \n",
            "2014-04-09          5761             2080          3681    1482        1609   \n",
            "2014-04-16          2286              634          1652    1186         633   \n",
            "2014-04-23          3530             1392          2138    1239        1984   \n",
            "2014-04-30         -3890            -3996           106     759         888   \n",
            "2014-05-07           632            -2006          2639    -340        5493   \n",
            "2014-05-14         -1079            -2321          1242    1188        4037   \n",
            "2014-05-21           697            -1790          2487    1216        2196   \n",
            "2014-05-28         -2453            -2603           150    1108        2041   \n",
            "2014-06-04          2098            -1148          3246    1123         188   \n",
            "2014-06-11          1236            -1840          3075    1159        2112   \n",
            "2014-06-18          -922            -2204          1282    1060        4159   \n",
            "2014-06-25           -93            -1354          1262    1246        3256   \n",
            "2014-07-02         -7835            -8887          1052     636        2979   \n",
            "2014-07-09           666            -1070          1736    1006        2721   \n",
            "2014-07-30           118            -1171          1290    1024        1806   \n",
            "2014-08-06          -471            -3073          2602    -375       -8193   \n",
            "2014-08-13           320             -974          1294     496        1436   \n",
            "2014-08-20          2671              738          1933     821        4999   \n",
            "2014-08-27          -577            -2199          1623     943        3655   \n",
            "2014-09-03         -4024            -5305          1281     544        2430   \n",
            "2014-09-10          1257            -1291          2548    1055        1554   \n",
            "2014-11-05           -32            -1634          1602    -176        5813   \n",
            "2014-11-12          1464               61          1403     963        3596   \n",
            "2014-11-19         -3010            -3622           611      99        2529   \n",
            "2014-11-25         -1175            -2044           869    -157        2590   \n",
            "2015-01-07         -3913            -5438          1525   -1057       -3403   \n",
            "2015-01-14          1774              -37          1811     248        3549   \n",
            "2015-01-21          1267              856           411     790        1258   \n",
            "2015-01-28          4343             3455           888    1748        5964   \n",
            "2015-02-04          4240             3536           703     793        3237   \n",
            "2015-02-11          1268              -27          1296     959        5862   \n",
            "2015-03-04           999            -1933          2932     528        4984   \n",
            "2015-03-11          3911               -7          3918     851        1298   \n",
            "2015-03-18          1948            -1758          3706     912         452   \n",
            "2015-03-25         -1167            -4478          3311     538        2404   \n",
            "2015-04-01         -1527            -3307          1780     720       -1296   \n",
            "2015-04-08          1906            -1321          3227     250        1719   \n",
            "\n",
            "            Taxable Bond  Municipal Bond  Total  \n",
            "Date                                             \n",
            "2012-12-05          4210            1107  -2183  \n",
            "2012-12-12          1598             219  -6842  \n",
            "2012-12-19          3472           -3369  -5466  \n",
            "2012-12-26          3333            -722  -1291  \n",
            "2013-01-02          2103             280  -8931  \n",
            "2013-01-09          7311            2455  27471  \n",
            "2014-04-02          3129             250   6799  \n",
            "2014-04-09          1448             161   8852  \n",
            "2014-04-16           604              29   4105  \n",
            "2014-04-23          1453             531   6753  \n",
            "2014-04-30           559             329  -2242  \n",
            "2014-05-07          4417            1076   5785  \n",
            "2014-05-14          3141             897   4146  \n",
            "2014-05-21          1398             798   4109  \n",
            "2014-05-28          1236             805    696  \n",
            "2014-06-04          -470             658   3409  \n",
            "2014-06-11          1587             524   4506  \n",
            "2014-06-18          3740             419   4297  \n",
            "2014-06-25          2694             562   4409  \n",
            "2014-07-02          2704             276  -4220  \n",
            "2014-07-09          3203            -482   4393  \n",
            "2014-07-30          1119             687   2949  \n",
            "2014-08-06         -8658             465  -9040  \n",
            "2014-08-13           539             897   2252  \n",
            "2014-08-20          4185             814   8490  \n",
            "2014-08-27          2921             734   4021  \n",
            "2014-09-03          1768             661  -1050  \n",
            "2014-09-10           711             843   3866  \n",
            "2014-11-05          5284             529   5604  \n",
            "2014-11-12          2703             893   6023  \n",
            "2014-11-19          1758             771   -383  \n",
            "2014-11-25          1821             769   1258  \n",
            "2015-01-07         -4729            1326  -8373  \n",
            "2015-01-14          2582             967   5572  \n",
            "2015-01-21           220            1038   3315  \n",
            "2015-01-28          4689            1275  12055  \n",
            "2015-02-04          2274             963   8270  \n",
            "2015-02-11          5169             693   8089  \n",
            "2015-03-04          4309             675   6511  \n",
            "2015-03-11           999             298   6059  \n",
            "2015-03-18           258             194   3312  \n",
            "2015-03-25          1701             703   1775  \n",
            "2015-04-01         -1392              96  -2103  \n",
            "2015-04-08          1906            -187   3875  \n"
          ]
        }
      ]
    },
    {
      "cell_type": "markdown",
      "metadata": {
        "id": "yk8kSaDOU8ld"
      },
      "source": [
        "### Step 6. What is the type of the index?"
      ]
    },
    {
      "cell_type": "code",
      "execution_count": 15,
      "metadata": {
        "colab": {
          "base_uri": "https://localhost:8080/"
        },
        "id": "VANpA88yU8ld",
        "outputId": "b65d311f-4687-4915-cc7f-35ed91c5f580"
      },
      "outputs": [
        {
          "output_type": "stream",
          "name": "stdout",
          "text": [
            "<class 'pandas.core.indexes.datetimes.DatetimeIndex'>\n"
          ]
        }
      ],
      "source": [
        "print(type(investors.index))"
      ]
    },
    {
      "cell_type": "markdown",
      "metadata": {
        "id": "Tiwv19T-U8ld"
      },
      "source": [
        "### Step 7. Set the index to a DatetimeIndex type"
      ]
    },
    {
      "cell_type": "code",
      "execution_count": 19,
      "metadata": {
        "id": "wfUltapLU8ld"
      },
      "outputs": [],
      "source": []
    },
    {
      "cell_type": "markdown",
      "metadata": {
        "id": "DWM6cem6U8ld"
      },
      "source": [
        "### Step 8.  Change the frequency to monthly, sum the values and assign it to monthly."
      ]
    },
    {
      "cell_type": "code",
      "execution_count": 21,
      "metadata": {
        "colab": {
          "base_uri": "https://localhost:8080/"
        },
        "id": "FOaIer6LU8le",
        "outputId": "346985c3-86d2-4b87-f930-44867139bef0"
      },
      "outputs": [
        {
          "output_type": "stream",
          "name": "stdout",
          "text": [
            "            Total Equity  Domestic Equity  World Equity  Hybrid  Total Bond  \\\n",
            "Date                                                                          \n",
            "2012-12-31        -26156           -23126         -3031     526        9848   \n",
            "2013-01-31          3661            -1627          5288    2730       12149   \n",
            "2013-02-28             0                0             0       0           0   \n",
            "2013-03-31             0                0             0       0           0   \n",
            "2013-04-30             0                0             0       0           0   \n",
            "2013-05-31             0                0             0       0           0   \n",
            "2013-06-30             0                0             0       0           0   \n",
            "2013-07-31             0                0             0       0           0   \n",
            "2013-08-31             0                0             0       0           0   \n",
            "2013-09-30             0                0             0       0           0   \n",
            "2013-10-31             0                0             0       0           0   \n",
            "2013-11-30             0                0             0       0           0   \n",
            "2013-12-31             0                0             0       0           0   \n",
            "2014-01-31             0                0             0       0           0   \n",
            "2014-02-28             0                0             0       0           0   \n",
            "2014-03-31             0                0             0       0           0   \n",
            "2014-04-30         10842             1048          9794    4931        8493   \n",
            "2014-05-31         -2203            -8720          6518    3172       13767   \n",
            "2014-06-30          2319            -6546          8865    4588        9715   \n",
            "2014-07-31         -7051           -11128          4078    2666        7506   \n",
            "2014-08-31          1943            -5508          7452    1885        1897   \n",
            "2014-09-30         -2767            -6596          3829    1599        3984   \n",
            "2014-10-31             0                0             0       0           0   \n",
            "2014-11-30         -2753            -7239          4485     729       14528   \n",
            "2014-12-31             0                0             0       0           0   \n",
            "2015-01-31          3471            -1164          4635    1729        7368   \n",
            "2015-02-28          5508             3509          1999    1752        9099   \n",
            "2015-03-31          5691            -8176         13867    2829        9138   \n",
            "2015-04-30           379            -4628          5007     970         423   \n",
            "\n",
            "            Taxable Bond  Municipal Bond  Total  \n",
            "Date                                             \n",
            "2012-12-31         12613           -2765 -15782  \n",
            "2013-01-31          9414            2735  18540  \n",
            "2013-02-28             0               0      0  \n",
            "2013-03-31             0               0      0  \n",
            "2013-04-30             0               0      0  \n",
            "2013-05-31             0               0      0  \n",
            "2013-06-30             0               0      0  \n",
            "2013-07-31             0               0      0  \n",
            "2013-08-31             0               0      0  \n",
            "2013-09-30             0               0      0  \n",
            "2013-10-31             0               0      0  \n",
            "2013-11-30             0               0      0  \n",
            "2013-12-31             0               0      0  \n",
            "2014-01-31             0               0      0  \n",
            "2014-02-28             0               0      0  \n",
            "2014-03-31             0               0      0  \n",
            "2014-04-30          7193            1300  24267  \n",
            "2014-05-31         10192            3576  14736  \n",
            "2014-06-30          7551            2163  16621  \n",
            "2014-07-31          7026             481   3122  \n",
            "2014-08-31         -1013            2910   5723  \n",
            "2014-09-30          2479            1504   2816  \n",
            "2014-10-31             0               0      0  \n",
            "2014-11-30         11566            2962  12502  \n",
            "2014-12-31             0               0      0  \n",
            "2015-01-31          2762            4606  12569  \n",
            "2015-02-28          7443            1656  16359  \n",
            "2015-03-31          7267            1870  17657  \n",
            "2015-04-30           514             -91   1772  \n"
          ]
        }
      ],
      "source": [
        "monthly = investors.resample('M').sum()\n",
        "print(monthly)"
      ]
    },
    {
      "cell_type": "markdown",
      "metadata": {
        "id": "yWRBgi63U8le"
      },
      "source": [
        "### Step 9. You will notice that it filled the dataFrame with months that don't have any data with NaN. Let's drop these rows."
      ]
    },
    {
      "cell_type": "code",
      "execution_count": 23,
      "metadata": {
        "colab": {
          "base_uri": "https://localhost:8080/"
        },
        "id": "7ggmhEStU8le",
        "outputId": "d4f62230-ddcb-439e-c4db-1896965e54b1"
      },
      "outputs": [
        {
          "output_type": "stream",
          "name": "stdout",
          "text": [
            "            Total Equity  Domestic Equity  World Equity  Hybrid  Total Bond  \\\n",
            "Date                                                                          \n",
            "2012-12-31        -26156           -23126         -3031     526        9848   \n",
            "2013-01-31          3661            -1627          5288    2730       12149   \n",
            "2013-02-28             0                0             0       0           0   \n",
            "2013-03-31             0                0             0       0           0   \n",
            "2013-04-30             0                0             0       0           0   \n",
            "2013-05-31             0                0             0       0           0   \n",
            "2013-06-30             0                0             0       0           0   \n",
            "2013-07-31             0                0             0       0           0   \n",
            "2013-08-31             0                0             0       0           0   \n",
            "2013-09-30             0                0             0       0           0   \n",
            "2013-10-31             0                0             0       0           0   \n",
            "2013-11-30             0                0             0       0           0   \n",
            "2013-12-31             0                0             0       0           0   \n",
            "2014-01-31             0                0             0       0           0   \n",
            "2014-02-28             0                0             0       0           0   \n",
            "2014-03-31             0                0             0       0           0   \n",
            "2014-04-30         10842             1048          9794    4931        8493   \n",
            "2014-05-31         -2203            -8720          6518    3172       13767   \n",
            "2014-06-30          2319            -6546          8865    4588        9715   \n",
            "2014-07-31         -7051           -11128          4078    2666        7506   \n",
            "2014-08-31          1943            -5508          7452    1885        1897   \n",
            "2014-09-30         -2767            -6596          3829    1599        3984   \n",
            "2014-10-31             0                0             0       0           0   \n",
            "2014-11-30         -2753            -7239          4485     729       14528   \n",
            "2014-12-31             0                0             0       0           0   \n",
            "2015-01-31          3471            -1164          4635    1729        7368   \n",
            "2015-02-28          5508             3509          1999    1752        9099   \n",
            "2015-03-31          5691            -8176         13867    2829        9138   \n",
            "2015-04-30           379            -4628          5007     970         423   \n",
            "\n",
            "            Taxable Bond  Municipal Bond  Total  \n",
            "Date                                             \n",
            "2012-12-31         12613           -2765 -15782  \n",
            "2013-01-31          9414            2735  18540  \n",
            "2013-02-28             0               0      0  \n",
            "2013-03-31             0               0      0  \n",
            "2013-04-30             0               0      0  \n",
            "2013-05-31             0               0      0  \n",
            "2013-06-30             0               0      0  \n",
            "2013-07-31             0               0      0  \n",
            "2013-08-31             0               0      0  \n",
            "2013-09-30             0               0      0  \n",
            "2013-10-31             0               0      0  \n",
            "2013-11-30             0               0      0  \n",
            "2013-12-31             0               0      0  \n",
            "2014-01-31             0               0      0  \n",
            "2014-02-28             0               0      0  \n",
            "2014-03-31             0               0      0  \n",
            "2014-04-30          7193            1300  24267  \n",
            "2014-05-31         10192            3576  14736  \n",
            "2014-06-30          7551            2163  16621  \n",
            "2014-07-31          7026             481   3122  \n",
            "2014-08-31         -1013            2910   5723  \n",
            "2014-09-30          2479            1504   2816  \n",
            "2014-10-31             0               0      0  \n",
            "2014-11-30         11566            2962  12502  \n",
            "2014-12-31             0               0      0  \n",
            "2015-01-31          2762            4606  12569  \n",
            "2015-02-28          7443            1656  16359  \n",
            "2015-03-31          7267            1870  17657  \n",
            "2015-04-30           514             -91   1772  \n"
          ]
        }
      ],
      "source": [
        "monthly = monthly.dropna(how='all')\n",
        "print(monthly)"
      ]
    },
    {
      "cell_type": "code",
      "source": [
        "monthly.isnull().sum()"
      ],
      "metadata": {
        "colab": {
          "base_uri": "https://localhost:8080/"
        },
        "id": "Awwi8G1QaaH1",
        "outputId": "3e0921f3-0390-440f-ae7e-ead56ccb1b23"
      },
      "execution_count": 25,
      "outputs": [
        {
          "output_type": "execute_result",
          "data": {
            "text/plain": [
              "Total Equity       0\n",
              "Domestic Equity    0\n",
              "World Equity       0\n",
              "Hybrid             0\n",
              "Total Bond         0\n",
              "Taxable Bond       0\n",
              "Municipal Bond     0\n",
              "Total              0\n",
              "dtype: int64"
            ]
          },
          "metadata": {},
          "execution_count": 25
        }
      ]
    },
    {
      "cell_type": "markdown",
      "metadata": {
        "id": "9Dj-1K7kU8le"
      },
      "source": [
        "### Step 10. Good, now we have the monthly data. Now change the frequency to year."
      ]
    },
    {
      "cell_type": "code",
      "execution_count": 27,
      "metadata": {
        "colab": {
          "base_uri": "https://localhost:8080/"
        },
        "id": "SpQPN6r2U8le",
        "outputId": "3a29c40c-290a-4bf7-c751-b968df6faad3"
      },
      "outputs": [
        {
          "output_type": "stream",
          "name": "stdout",
          "text": [
            "            Total Equity  Domestic Equity  World Equity  Hybrid  Total Bond  \\\n",
            "Date                                                                          \n",
            "2012-12-31        -26156           -23126         -3031     526        9848   \n",
            "2013-12-31          3661            -1627          5288    2730       12149   \n",
            "2014-12-31           330           -44689         45021   19570       59890   \n",
            "2015-12-31         15049           -10459         25508    7280       26028   \n",
            "\n",
            "            Taxable Bond  Municipal Bond  Total  \n",
            "Date                                             \n",
            "2012-12-31         12613           -2765 -15782  \n",
            "2013-12-31          9414            2735  18540  \n",
            "2014-12-31         44994           14896  79787  \n",
            "2015-12-31         17986            8041  48357  \n"
          ]
        }
      ],
      "source": [
        "yearly_data = monthly.resample('Y').sum()\n",
        "print(yearly_data.head())"
      ]
    },
    {
      "cell_type": "markdown",
      "metadata": {
        "id": "yWFXmzLVU8lf"
      },
      "source": [
        "### BONUS: Create your own question and answer it."
      ]
    },
    {
      "cell_type": "code",
      "execution_count": 22,
      "metadata": {
        "collapsed": true,
        "colab": {
          "base_uri": "https://localhost:8080/"
        },
        "id": "1-LHsIoJU8lf",
        "outputId": "8efa13a2-0c21-4867-a660-fb0a9c237c50"
      },
      "outputs": [
        {
          "output_type": "execute_result",
          "data": {
            "text/plain": [
              "(44, 8)"
            ]
          },
          "metadata": {},
          "execution_count": 22
        }
      ],
      "source": [
        "#What is the shape of this dataset?\n",
        "investors.shape"
      ]
    },
    {
      "cell_type": "code",
      "source": [],
      "metadata": {
        "id": "d5VrhZJzaDcP"
      },
      "execution_count": null,
      "outputs": []
    }
  ],
  "metadata": {
    "kernelspec": {
      "display_name": "Python 2",
      "language": "python",
      "name": "python2"
    },
    "language_info": {
      "codemirror_mode": {
        "name": "ipython",
        "version": 2
      },
      "file_extension": ".py",
      "mimetype": "text/x-python",
      "name": "python",
      "nbconvert_exporter": "python",
      "pygments_lexer": "ipython2",
      "version": "2.7.11"
    },
    "colab": {
      "provenance": [],
      "include_colab_link": true
    }
  },
  "nbformat": 4,
  "nbformat_minor": 0
}