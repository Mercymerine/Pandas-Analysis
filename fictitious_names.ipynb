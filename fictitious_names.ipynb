{
  "cells": [
    {
      "cell_type": "markdown",
      "metadata": {
        "id": "view-in-github",
        "colab_type": "text"
      },
      "source": [
        "<a href=\"https://colab.research.google.com/github/Mercymerine/Pandas-Analysis/blob/main/fictitious_names.ipynb\" target=\"_parent\"><img src=\"https://colab.research.google.com/assets/colab-badge.svg\" alt=\"Open In Colab\"/></a>"
      ]
    },
    {
      "cell_type": "markdown",
      "metadata": {
        "id": "UnNm__eMCW8M"
      },
      "source": [
        "# Fictitious Names"
      ]
    },
    {
      "cell_type": "markdown",
      "metadata": {
        "id": "Qa83VtwFCW8N"
      },
      "source": [
        "### Introduction:\n",
        "\n",
        "This time you will create a data again\n",
        "\n",
        "Special thanks to [Chris Albon](http://chrisalbon.com/) for sharing the dataset and materials.\n",
        "All the credits to this exercise belongs to him.  \n",
        "\n",
        "In order to understand about it go [here](https://blog.codinghorror.com/a-visual-explanation-of-sql-joins/).\n",
        "\n",
        "### Step 1. Import the necessary libraries"
      ]
    },
    {
      "cell_type": "code",
      "execution_count": 1,
      "metadata": {
        "id": "_g4j-xnbCW8O"
      },
      "outputs": [],
      "source": [
        "import pandas as pd"
      ]
    },
    {
      "cell_type": "markdown",
      "metadata": {
        "id": "jR4G6GdcCW8P"
      },
      "source": [
        "### Step 2. Create the 3 DataFrames based on the following raw data"
      ]
    },
    {
      "cell_type": "code",
      "execution_count": 4,
      "metadata": {
        "collapsed": true,
        "id": "1LzJGiBFCW8P"
      },
      "outputs": [],
      "source": [
        "raw_data_1 = {\n",
        "        'subject_id': ['1', '2', '3', '4', '5'],\n",
        "        'first_name': ['Alex', 'Amy', 'Allen', 'Alice', 'Ayoung'],\n",
        "        'last_name': ['Anderson', 'Ackerman', 'Ali', 'Aoni', 'Atiches']}\n",
        "\n",
        "raw_data_2 = {\n",
        "        'subject_id': ['4', '5', '6', '7', '8'],\n",
        "        'first_name': ['Billy', 'Brian', 'Bran', 'Bryce', 'Betty'],\n",
        "        'last_name': ['Bonder', 'Black', 'Balwner', 'Brice', 'Btisan']}\n",
        "\n",
        "raw_data_3 = {\n",
        "        'subject_id': ['1', '2', '3', '4', '5', '7', '8', '9', '10', '11'],\n",
        "        'test_id': [51, 15, 15, 61, 16, 14, 15, 1, 61, 16]}"
      ]
    },
    {
      "cell_type": "markdown",
      "metadata": {
        "id": "ZmU8K7l1CW8P"
      },
      "source": [
        "### Step 3. Assign each to a variable called data1, data2, data3"
      ]
    },
    {
      "cell_type": "code",
      "execution_count": 5,
      "metadata": {
        "colab": {
          "base_uri": "https://localhost:8080/"
        },
        "id": "GeasmJpHCW8P",
        "outputId": "62233332-f57c-4493-ff62-fda0f5030caf"
      },
      "outputs": [
        {
          "output_type": "stream",
          "name": "stdout",
          "text": [
            "  subject_id first_name last_name\n",
            "0          1       Alex  Anderson\n",
            "1          2        Amy  Ackerman\n",
            "2          3      Allen       Ali\n",
            "3          4      Alice      Aoni\n",
            "4          5     Ayoung   Atiches\n"
          ]
        }
      ],
      "source": [
        "data1 = pd.DataFrame(raw_data_1)\n",
        "print(data1)"
      ]
    },
    {
      "cell_type": "code",
      "source": [
        "data2 = pd.DataFrame(raw_data_2)\n",
        "print(data2)"
      ],
      "metadata": {
        "colab": {
          "base_uri": "https://localhost:8080/"
        },
        "id": "4ghvy1mrDUh0",
        "outputId": "d82a23f8-5170-44d0-885d-b6e29b5ced5b"
      },
      "execution_count": 7,
      "outputs": [
        {
          "output_type": "stream",
          "name": "stdout",
          "text": [
            "  subject_id first_name last_name\n",
            "0          4      Billy    Bonder\n",
            "1          5      Brian     Black\n",
            "2          6       Bran   Balwner\n",
            "3          7      Bryce     Brice\n",
            "4          8      Betty    Btisan\n"
          ]
        }
      ]
    },
    {
      "cell_type": "code",
      "source": [
        "data3 = pd.DataFrame(raw_data_3)\n",
        "print(data3)"
      ],
      "metadata": {
        "colab": {
          "base_uri": "https://localhost:8080/"
        },
        "id": "NiZBILaKDWB7",
        "outputId": "1d154927-d468-4905-f85e-ed70195c903c"
      },
      "execution_count": 6,
      "outputs": [
        {
          "output_type": "stream",
          "name": "stdout",
          "text": [
            "  subject_id  test_id\n",
            "0          1       51\n",
            "1          2       15\n",
            "2          3       15\n",
            "3          4       61\n",
            "4          5       16\n",
            "5          7       14\n",
            "6          8       15\n",
            "7          9        1\n",
            "8         10       61\n",
            "9         11       16\n"
          ]
        }
      ]
    },
    {
      "cell_type": "markdown",
      "metadata": {
        "id": "UVEN11DHCW8Q"
      },
      "source": [
        "### Step 4. Join the two dataframes along rows and assign all_data"
      ]
    },
    {
      "cell_type": "code",
      "execution_count": 9,
      "metadata": {
        "colab": {
          "base_uri": "https://localhost:8080/"
        },
        "id": "vHGB3OHoCW8Q",
        "outputId": "a8a32d99-15a1-40c9-d1f9-a6555c2d2073"
      },
      "outputs": [
        {
          "output_type": "stream",
          "name": "stdout",
          "text": [
            "  subject_id first_name last_name\n",
            "0          1       Alex  Anderson\n",
            "1          2        Amy  Ackerman\n",
            "2          3      Allen       Ali\n",
            "3          4      Alice      Aoni\n",
            "4          5     Ayoung   Atiches\n",
            "5          4      Billy    Bonder\n",
            "6          5      Brian     Black\n",
            "7          6       Bran   Balwner\n",
            "8          7      Bryce     Brice\n",
            "9          8      Betty    Btisan\n"
          ]
        }
      ],
      "source": [
        "all_data = pd.concat([data1, data2], ignore_index=True)\n",
        "print(all_data)"
      ]
    },
    {
      "cell_type": "markdown",
      "metadata": {
        "id": "J1FTUfjiCW8Q"
      },
      "source": [
        "### Step 5. Join the two dataframes along columns and assing to all_data_col"
      ]
    },
    {
      "cell_type": "code",
      "execution_count": 10,
      "metadata": {
        "colab": {
          "base_uri": "https://localhost:8080/"
        },
        "id": "X_S-bYxzCW8Q",
        "outputId": "11588bf9-8b87-45b8-b11d-4d97a58f451a"
      },
      "outputs": [
        {
          "output_type": "stream",
          "name": "stdout",
          "text": [
            "  subject_id first_name last_name subject_id first_name last_name\n",
            "0          1       Alex  Anderson          4      Billy    Bonder\n",
            "1          2        Amy  Ackerman          5      Brian     Black\n",
            "2          3      Allen       Ali          6       Bran   Balwner\n",
            "3          4      Alice      Aoni          7      Bryce     Brice\n",
            "4          5     Ayoung   Atiches          8      Betty    Btisan\n"
          ]
        }
      ],
      "source": [
        "all_data_col = pd.concat([data1, data2], axis=1)\n",
        "print(all_data_col)"
      ]
    },
    {
      "cell_type": "markdown",
      "metadata": {
        "id": "63bAlIMiCW8Q"
      },
      "source": [
        "### Step 6. Print data3"
      ]
    },
    {
      "cell_type": "code",
      "execution_count": 11,
      "metadata": {
        "colab": {
          "base_uri": "https://localhost:8080/"
        },
        "id": "EiBfLQfACW8Q",
        "outputId": "f8645e92-e0d7-4dc4-8f29-f80ee41ef7a8"
      },
      "outputs": [
        {
          "output_type": "stream",
          "name": "stdout",
          "text": [
            "  subject_id  test_id\n",
            "0          1       51\n",
            "1          2       15\n",
            "2          3       15\n",
            "3          4       61\n",
            "4          5       16\n",
            "5          7       14\n",
            "6          8       15\n",
            "7          9        1\n",
            "8         10       61\n",
            "9         11       16\n"
          ]
        }
      ],
      "source": [
        "print(data3)"
      ]
    },
    {
      "cell_type": "markdown",
      "metadata": {
        "id": "_IEk-vM-CW8Q"
      },
      "source": [
        "### Step 7. Merge all_data and data3 along the subject_id value"
      ]
    },
    {
      "cell_type": "code",
      "execution_count": 12,
      "metadata": {
        "colab": {
          "base_uri": "https://localhost:8080/"
        },
        "id": "3c0TCf-JCW8Q",
        "outputId": "e842d398-34ed-43cb-d1d6-d018caa86446"
      },
      "outputs": [
        {
          "output_type": "stream",
          "name": "stdout",
          "text": [
            "  subject_id first_name last_name  test_id\n",
            "0          1       Alex  Anderson       51\n",
            "1          2        Amy  Ackerman       15\n",
            "2          3      Allen       Ali       15\n",
            "3          4      Alice      Aoni       61\n",
            "4          4      Billy    Bonder       61\n",
            "5          5     Ayoung   Atiches       16\n",
            "6          5      Brian     Black       16\n",
            "7          7      Bryce     Brice       14\n",
            "8          8      Betty    Btisan       15\n"
          ]
        }
      ],
      "source": [
        "merge_data = pd.merge(all_data, data3, on='subject_id')\n",
        "print(merge_data)"
      ]
    },
    {
      "cell_type": "markdown",
      "metadata": {
        "id": "E_KsDJUiCW8R"
      },
      "source": [
        "### Step 8. Merge only the data that has the same 'subject_id' on both data1 and data2"
      ]
    },
    {
      "cell_type": "code",
      "execution_count": 16,
      "metadata": {
        "colab": {
          "base_uri": "https://localhost:8080/"
        },
        "id": "Vx6LXskHCW8R",
        "outputId": "e77d37e6-c663-4710-8978-1b04dea6610d"
      },
      "outputs": [
        {
          "output_type": "stream",
          "name": "stdout",
          "text": [
            "  subject_id first_name_x last_name_x first_name_y last_name_y\n",
            "0          4        Alice        Aoni        Billy      Bonder\n",
            "1          5       Ayoung     Atiches        Brian       Black\n"
          ]
        }
      ],
      "source": [
        "inner_data = pd.merge(data1, data2, on='subject_id', how='inner')\n",
        "print(inner_data)"
      ]
    },
    {
      "cell_type": "markdown",
      "metadata": {
        "id": "1nE3NoavCW8R"
      },
      "source": [
        "### Step 9. Merge all values in data1 and data2, with matching records from both sides where available."
      ]
    },
    {
      "cell_type": "code",
      "execution_count": 15,
      "metadata": {
        "colab": {
          "base_uri": "https://localhost:8080/"
        },
        "id": "2OLFaZIGCW8R",
        "outputId": "d7f0b353-38a2-4bea-e346-e189dc96849e"
      },
      "outputs": [
        {
          "output_type": "stream",
          "name": "stdout",
          "text": [
            "  subject_id first_name_x last_name_x first_name_y last_name_y\n",
            "0          1         Alex    Anderson          NaN         NaN\n",
            "1          2          Amy    Ackerman          NaN         NaN\n",
            "2          3        Allen         Ali          NaN         NaN\n",
            "3          4        Alice        Aoni        Billy      Bonder\n",
            "4          5       Ayoung     Atiches        Brian       Black\n",
            "5          6          NaN         NaN         Bran     Balwner\n",
            "6          7          NaN         NaN        Bryce       Brice\n",
            "7          8          NaN         NaN        Betty      Btisan\n"
          ]
        }
      ],
      "source": [
        "outer_data = pd.merge(data1, data2, on='subject_id', how='outer')\n",
        "print(outer_data)"
      ]
    },
    {
      "cell_type": "code",
      "source": [],
      "metadata": {
        "id": "ycBtDJoRL2UJ"
      },
      "execution_count": null,
      "outputs": []
    }
  ],
  "metadata": {
    "kernelspec": {
      "display_name": "Python 2",
      "language": "python",
      "name": "python2"
    },
    "language_info": {
      "codemirror_mode": {
        "name": "ipython",
        "version": 2
      },
      "file_extension": ".py",
      "mimetype": "text/x-python",
      "name": "python",
      "nbconvert_exporter": "python",
      "pygments_lexer": "ipython2",
      "version": "2.7.11"
    },
    "colab": {
      "provenance": [],
      "include_colab_link": true
    }
  },
  "nbformat": 4,
  "nbformat_minor": 0
}