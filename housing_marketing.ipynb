{
  "cells": [
    {
      "cell_type": "markdown",
      "metadata": {
        "id": "view-in-github",
        "colab_type": "text"
      },
      "source": [
        "<a href=\"https://colab.research.google.com/github/Mercymerine/Pandas-Analysis/blob/main/housing_marketing.ipynb\" target=\"_parent\"><img src=\"https://colab.research.google.com/assets/colab-badge.svg\" alt=\"Open In Colab\"/></a>"
      ]
    },
    {
      "cell_type": "markdown",
      "metadata": {
        "id": "qyn-wni6MScl"
      },
      "source": [
        "# Housing Market"
      ]
    },
    {
      "cell_type": "markdown",
      "metadata": {
        "id": "cyhlXgi4MScp"
      },
      "source": [
        "### Introduction:\n",
        "\n",
        "This time we will create our own dataset with fictional numbers to describe a house market. As we are going to create random data don't try to reason of the numbers.\n",
        "\n",
        "### Step 1. Import the necessary libraries"
      ]
    },
    {
      "cell_type": "code",
      "execution_count": 2,
      "metadata": {
        "id": "r0YSpDpHMScq"
      },
      "outputs": [],
      "source": [
        "import pandas  as pd\n",
        "import numpy as np"
      ]
    },
    {
      "cell_type": "markdown",
      "metadata": {
        "id": "dYLZ_5p1MScr"
      },
      "source": [
        "### Step 2. Create 3 differents Series, each of length 100, as follows:\n",
        "1. The first a random number from 1 to 4\n",
        "2. The second a random number from 1 to 3\n",
        "3. The third a random number from 10,000 to 30,000"
      ]
    },
    {
      "cell_type": "code",
      "execution_count": 4,
      "metadata": {
        "colab": {
          "base_uri": "https://localhost:8080/"
        },
        "id": "P8t6eD_EMScs",
        "outputId": "5688843f-7ced-4adf-b7ce-50d6106019ff"
      },
      "outputs": [
        {
          "output_type": "stream",
          "name": "stdout",
          "text": [
            "0     2\n",
            "1     3\n",
            "2     1\n",
            "3     2\n",
            "4     2\n",
            "     ..\n",
            "95    1\n",
            "96    1\n",
            "97    3\n",
            "98    1\n",
            "99    2\n",
            "Length: 100, dtype: int64\n",
            "0     2\n",
            "1     1\n",
            "2     1\n",
            "3     2\n",
            "4     1\n",
            "     ..\n",
            "95    2\n",
            "96    2\n",
            "97    1\n",
            "98    2\n",
            "99    2\n",
            "Length: 100, dtype: int64\n",
            "0     18461\n",
            "1     20082\n",
            "2     20652\n",
            "3     12928\n",
            "4     12880\n",
            "      ...  \n",
            "95    17368\n",
            "96    24433\n",
            "97    24097\n",
            "98    18752\n",
            "99    11431\n",
            "Length: 100, dtype: int64\n"
          ]
        }
      ],
      "source": [
        "first = pd.Series(np.random.randint(1, 4, size=100))\n",
        "print(first)\n",
        "\n",
        "second =pd.Series(np.random.randint(1, 3, size=100))\n",
        "print(second)\n",
        "\n",
        "third = pd.Series(np.random.randint(10000, 30000, size=100))\n",
        "print(third)"
      ]
    },
    {
      "cell_type": "markdown",
      "metadata": {
        "id": "DLHEGMZ0MScs"
      },
      "source": [
        "### Step 3. Let's create a DataFrame by joinning the Series by column"
      ]
    },
    {
      "cell_type": "code",
      "execution_count": 7,
      "metadata": {
        "colab": {
          "base_uri": "https://localhost:8080/"
        },
        "id": "jcteokpmMScs",
        "outputId": "3efe0c1c-eae1-4f99-834f-f8434367f7dd"
      },
      "outputs": [
        {
          "output_type": "stream",
          "name": "stdout",
          "text": [
            "    0  1      2\n",
            "0   2  2  18461\n",
            "1   3  1  20082\n",
            "2   1  1  20652\n",
            "3   2  2  12928\n",
            "4   2  1  12880\n",
            ".. .. ..    ...\n",
            "95  1  2  17368\n",
            "96  1  2  24433\n",
            "97  3  1  24097\n",
            "98  1  2  18752\n",
            "99  2  2  11431\n",
            "\n",
            "[100 rows x 3 columns]\n"
          ]
        }
      ],
      "source": [
        "df = pd.concat([first, second, third], axis=1)\n",
        "print(df)"
      ]
    },
    {
      "cell_type": "markdown",
      "metadata": {
        "id": "-afB0BSMMScs"
      },
      "source": [
        "### Step 4. Change the name of the columns to bedrs, bathrs, price_sqr_meter"
      ]
    },
    {
      "cell_type": "code",
      "source": [
        "df.columns"
      ],
      "metadata": {
        "colab": {
          "base_uri": "https://localhost:8080/"
        },
        "id": "D_BXNi_4PPlq",
        "outputId": "0dd49904-25b4-4412-a2bb-6877592a4cc4"
      },
      "execution_count": 8,
      "outputs": [
        {
          "output_type": "execute_result",
          "data": {
            "text/plain": [
              "RangeIndex(start=0, stop=3, step=1)"
            ]
          },
          "metadata": {},
          "execution_count": 8
        }
      ]
    },
    {
      "cell_type": "code",
      "execution_count": 10,
      "metadata": {
        "colab": {
          "base_uri": "https://localhost:8080/"
        },
        "id": "ieraPf-IMSct",
        "outputId": "bf83552b-5e3c-41b1-bdd8-3d40928103b5"
      },
      "outputs": [
        {
          "output_type": "stream",
          "name": "stdout",
          "text": [
            "    bedrs  bathrs  price_sqr_meter\n",
            "0       2       2            18461\n",
            "1       3       1            20082\n",
            "2       1       1            20652\n",
            "3       2       2            12928\n",
            "4       2       1            12880\n",
            "..    ...     ...              ...\n",
            "95      1       2            17368\n",
            "96      1       2            24433\n",
            "97      3       1            24097\n",
            "98      1       2            18752\n",
            "99      2       2            11431\n",
            "\n",
            "[100 rows x 3 columns]\n"
          ]
        }
      ],
      "source": [
        "df = df.rename(columns={0:'bedrs', 1:'bathrs', 2:'price_sqr_meter'})\n",
        "print(df)"
      ]
    },
    {
      "cell_type": "markdown",
      "metadata": {
        "id": "tDC_zqVAMSct"
      },
      "source": [
        "### Step 5. Create a one column DataFrame with the values of the 3 Series and assign it to 'bigcolumn'"
      ]
    },
    {
      "cell_type": "code",
      "execution_count": 20,
      "metadata": {
        "colab": {
          "base_uri": "https://localhost:8080/"
        },
        "id": "WCTLSDaBMSct",
        "outputId": "aebdfcb7-9df0-4786-f28b-428990ed3bfe"
      },
      "outputs": [
        {
          "output_type": "stream",
          "name": "stdout",
          "text": [
            "0         2\n",
            "1         3\n",
            "2         1\n",
            "3         2\n",
            "4         2\n",
            "      ...  \n",
            "95    17368\n",
            "96    24433\n",
            "97    24097\n",
            "98    18752\n",
            "99    11431\n",
            "Length: 300, dtype: int64\n",
            "    bigcolumn\n",
            "0           2\n",
            "1           3\n",
            "2           1\n",
            "3           2\n",
            "4           2\n",
            "..        ...\n",
            "95      17368\n",
            "96      24433\n",
            "97      24097\n",
            "98      18752\n",
            "99      11431\n",
            "\n",
            "[300 rows x 1 columns]\n"
          ]
        }
      ],
      "source": [
        "series = pd.concat([first, second, third])\n",
        "print(series)\n",
        "\n",
        "df = pd.DataFrame({'bigcolumn':series})\n",
        "print(df)"
      ]
    },
    {
      "cell_type": "markdown",
      "metadata": {
        "id": "XVavc86IMSct"
      },
      "source": [
        "### Step 6. Oops, it seems it is going only until index 99. Is it true?"
      ]
    },
    {
      "cell_type": "code",
      "execution_count": 21,
      "metadata": {
        "colab": {
          "base_uri": "https://localhost:8080/"
        },
        "id": "VcZphrjuMScu",
        "outputId": "1c446c5d-943a-44ca-c4a0-e19cfe28067a"
      },
      "outputs": [
        {
          "output_type": "stream",
          "name": "stdout",
          "text": [
            "    bigcolumn\n",
            "0           2\n",
            "1           3\n",
            "2           1\n",
            "3           2\n",
            "4           2\n",
            "..        ...\n",
            "95      17368\n",
            "96      24433\n",
            "97      24097\n",
            "98      18752\n",
            "99      11431\n",
            "\n",
            "[300 rows x 1 columns]\n"
          ]
        }
      ],
      "source": [
        "print(df)"
      ]
    },
    {
      "cell_type": "markdown",
      "metadata": {
        "id": "aLAIHCbcMScu"
      },
      "source": [
        "### Step 7. Reindex the DataFrame so it goes from 0 to 299"
      ]
    },
    {
      "cell_type": "code",
      "execution_count": 24,
      "metadata": {
        "colab": {
          "base_uri": "https://localhost:8080/"
        },
        "id": "gKZzrDjvMScu",
        "outputId": "0f7b5ab4-1047-424d-d6d7-16ad8c4794e7"
      },
      "outputs": [
        {
          "output_type": "stream",
          "name": "stdout",
          "text": [
            "0          2\n",
            "1          3\n",
            "2          1\n",
            "3          2\n",
            "4          2\n",
            "       ...  \n",
            "295    17368\n",
            "296    24433\n",
            "297    24097\n",
            "298    18752\n",
            "299    11431\n",
            "Length: 300, dtype: int64\n",
            "     bigcolumn\n",
            "0            2\n",
            "1            3\n",
            "2            1\n",
            "3            2\n",
            "4            2\n",
            "..         ...\n",
            "295      17368\n",
            "296      24433\n",
            "297      24097\n",
            "298      18752\n",
            "299      11431\n",
            "\n",
            "[300 rows x 1 columns]\n"
          ]
        }
      ],
      "source": [
        "series = pd.concat([first, second, third], ignore_index=True)\n",
        "print(series)\n",
        "\n",
        "df = pd.DataFrame({'bigcolumn':series})\n",
        "print(df)"
      ]
    },
    {
      "cell_type": "code",
      "source": [],
      "metadata": {
        "id": "aFF_WnqYT7Xq"
      },
      "execution_count": null,
      "outputs": []
    }
  ],
  "metadata": {
    "kernelspec": {
      "display_name": "Python 2",
      "language": "python",
      "name": "python2"
    },
    "language_info": {
      "codemirror_mode": {
        "name": "ipython",
        "version": 2
      },
      "file_extension": ".py",
      "mimetype": "text/x-python",
      "name": "python",
      "nbconvert_exporter": "python",
      "pygments_lexer": "ipython2",
      "version": "2.7.11"
    },
    "colab": {
      "provenance": [],
      "include_colab_link": true
    }
  },
  "nbformat": 4,
  "nbformat_minor": 0
}